{
 "cells": [
  {
   "cell_type": "code",
   "execution_count": 2,
   "metadata": {
    "collapsed": false
   },
   "outputs": [
    {
     "name": "stdout",
     "output_type": "stream",
     "text": [
      "[1546, 1535, 1406, 1457, 1380, 1447, 1412, 1353, 1321, 1244, 1297, 1213, 1194, 1118, 1112, 1077, 1012, 1016, 968, 957, 939, 945, 868, 857, 841, 847, 785, 775, 699, 694, 696, 619, 512, 567, 560, 545, 500, 532, 509, 453, 433, 468, 413, 334, 336, 327, 358, 366, 347, 348, 355, 385, 287, 282, 231, 199, 214, 218, 219, 236, 219, 234, 213, 215, 234, 155, 142, 138, 135, 155, 141, 164, 169, 133, 165, 148, 144, 131, 150, 153, 78, 67, 88, 50, 66, 80, 52, 77, 85, 84, 74, 80, 76, 75, 72, 95, 68, 79, 75, 77]\n",
      "[0, 1, 3, 5, 6, 2, 4, 7, 8, 10, 9, 11, 12, 13, 14, 15, 17, 16]\n",
      "1\n",
      "[3182]\n",
      "[[ 1.   0.   0.   0. ]\n",
      " [ 0.   1.   0.   0.5]\n",
      " [ 0.   0.   1.   0.5]\n",
      " [ 0.   0.5  0.5  1. ]]\n",
      "center:[  1.85037171e-17   4.66666667e-01   2.33333333e-01   3.00000000e-01]\n"
     ]
    }
   ],
   "source": [
    "import numpy as np\n",
    "\n",
    "from read import read_voter_file, read_score_file, read_order_file\n",
    "from tools import all_mass_init, flatten_pref_mass_mat\n",
    "\n",
    "from beliefKMeans import k_means, _k_means_single, silhouette_score\n"
   ]
  },
  {
   "cell_type": "code",
   "execution_count": 91,
   "metadata": {
    "collapsed": true
   },
   "outputs": [],
   "source": [
    "vMap = read_voter_file(\"../data/sushi3-2016/sushi3.com30.udata\")\n",
    "read_score_file(\"../data/sushi3-2016/sushi3b.com30.10.score\", vMap)\n",
    "read_order_file(\"../data/sushi3-2016/sushi3b.com30.10.order\", vMap)\n",
    "# candidate list for 40 cand\n",
    "\"\"\"\n",
    "cand_list=[0, 1, 3, 5, 6, 2, 4, 7, 8, 10, \n",
    "           9, 11, 12, 13, 14, 15, 17, 16, \n",
    "           18, 19, 21, 20, 22, 23, 25, 24, \n",
    "           26, 27, 28, 30, 29, 31, 33, 34, \n",
    "           35, 37, 32, 38, 36, 41]\n",
    "#candidate list for 35 cand\n",
    "\n",
    "\"\"\"\n",
    "\"\"\"\n",
    "cand_list=[0, 1, 3, 5, 6, 2, 4, 7, 8, 10, \n",
    "           9, 11, 12, 13, 14, 15, 17, 16, \n",
    "           18, 19, 21, 20, 22, 23, 25, 24, \n",
    "           26, 27, 28, 30, 29, 31, 33, 34, 35]\n",
    "\"\"\"\n",
    "#candidate list for 30 cands\n",
    "\n",
    "cand_list = [0, 1, 3, 5, 6, 2, 4, 7, 8, 10,\n",
    "             9, 11, 12, 13, 14, 15, 17, 16, \n",
    "             18, 19, 21, 20, 22, 23, 25,24, \n",
    "             26, 27, 28, 30,]\n",
    "\n",
    "#cand_list = list(range(100))\n",
    "#n_item = 40\n",
    "n_item = 30\n",
    "#n_item = 100"
   ]
  },
  {
   "cell_type": "code",
   "execution_count": 4,
   "metadata": {
    "collapsed": true
   },
   "outputs": [],
   "source": [
    "vMap = read_voter_file(\"../data/sushi3-2016/artif_inverse_2.udata\")\n",
    "read_score_file(\"../data/sushi3-2016/artif_inverse_2.score\", vMap)\n",
    "read_order_file(\"../data/sushi3-2016/artif_inverse_2.order\", vMap)\n",
    "cand_list=[8, 0, 13, 1, 9, 17, 11, 10, 7, 5]\n",
    "cand_list.sort()\n",
    "n_item = 10"
   ]
  },
  {
   "cell_type": "code",
   "execution_count": 51,
   "metadata": {
    "collapsed": false
   },
   "outputs": [
    {
     "data": {
      "text/plain": [
       "12"
      ]
     },
     "execution_count": 51,
     "metadata": {},
     "output_type": "execute_result"
    }
   ],
   "source": [
    "len(vMap)"
   ]
  },
  {
   "cell_type": "code",
   "execution_count": 92,
   "metadata": {
    "collapsed": false
   },
   "outputs": [
    {
     "name": "stdout",
     "output_type": "stream",
     "text": [
      "[[ 10.   1.   3. ...,   2.   5.   4.]\n",
      " [  1.  10.   3. ...,   4.   5.   3.]\n",
      " [  3.   3.  10. ...,   5.   5.   5.]\n",
      " ..., \n",
      " [  2.   4.   5. ...,  10.   3.   2.]\n",
      " [  5.   5.   5. ...,   3.  10.   4.]\n",
      " [  4.   3.   5. ...,   2.   4.  10.]]\n"
     ]
    }
   ],
   "source": [
    "def cal_pair_in_common(vMap):\n",
    "    com_mat = np.zeros((len(vMap),len(vMap)))\n",
    "    for i in vMap.keys():\n",
    "        for j in vMap.keys():\n",
    "            com_element=len(set(vMap[i].get_order_b()).intersection(set(vMap[j].get_order_b())))\n",
    "            #com_mat[i][j] = com_element*(com_element-1)/2\n",
    "            com_mat[i][j] = com_element\n",
    "    return com_mat\n",
    "print(cal_pair_in_common(vMap))"
   ]
  },
  {
   "cell_type": "code",
   "execution_count": 93,
   "metadata": {
    "collapsed": true
   },
   "outputs": [],
   "source": [
    "n_sample = len(vMap)\n",
    "vector_size = 16\n",
    "n_pref_pair = int(n_item*(n_item-1)/2)\n",
    "X = np.empty((n_sample, n_pref_pair, vector_size),dtype = object)\n",
    "for k,v in vMap.items():\n",
    "    X[k] = flatten_pref_mass_mat(all_mass_init(v.get_scores(), v.get_order_b(), cand_list, nbItem = n_item))"
   ]
  },
  {
   "cell_type": "code",
   "execution_count": 94,
   "metadata": {
    "collapsed": false
   },
   "outputs": [],
   "source": [
    "from beliefDBSCAN import cal_distances\n",
    "dist_mat = cal_distances(X, 'jousselme')"
   ]
  },
  {
   "cell_type": "code",
   "execution_count": 135,
   "metadata": {
    "collapsed": false,
    "scrolled": true
   },
   "outputs": [
    {
     "name": "stdout",
     "output_type": "stream",
     "text": [
      "start initialization\n",
      "> /home/yzhang/ThesisWork/Program/sushiPref/sushiCode/sushiCode/EKNNclus.py(176)EKNNclus()\n",
      "-> if verbose:\n",
      "(Pdb) print(v)\n",
      "[[ 0.91629073  0.34841992  0.91629073  0.34841992  0.91629073  0.34841992\n",
      "   0.91629073  0.34841992  0.15917368  0.15917368  0.15917368  0.15917368]\n",
      " [ 0.34841992  0.91629073  0.34841992  0.91629073  0.34841992  0.91629073\n",
      "   0.34841992  0.91629073  0.13745928  0.13745928  0.13745928  0.13745928]\n",
      " [ 0.91629073  0.34841992  0.91629073  0.34841992  0.91629073  0.34841992\n",
      "   0.91629073  0.34841992  0.15917368  0.15917368  0.15917368  0.15917368]\n",
      " [ 0.34841992  0.91629073  0.34841992  0.91629073  0.34841992  0.91629073\n",
      "   0.34841992  0.91629073  0.13745928  0.13745928  0.13745928  0.13745928]\n",
      " [ 0.91629073  0.34841992  0.91629073  0.34841992  0.91629073  0.34841992\n",
      "   0.91629073  0.34841992  0.15917368  0.15917368  0.15917368  0.15917368]\n",
      " [ 0.34841992  0.91629073  0.34841992  0.91629073  0.34841992  0.91629073\n",
      "   0.34841992  0.91629073  0.13745928  0.13745928  0.13745928  0.13745928]\n",
      " [ 0.91629073  0.34841992  0.91629073  0.34841992  0.91629073  0.34841992\n",
      "   0.91629073  0.34841992  0.15917368  0.15917368  0.15917368  0.15917368]\n",
      " [ 0.34841992  0.91629073  0.34841992  0.91629073  0.34841992  0.91629073\n",
      "   0.34841992  0.91629073  0.13745928  0.13745928  0.13745928  0.13745928]\n",
      " [ 0.15917368  0.13745928  0.15917368  0.13745928  0.15917368  0.13745928\n",
      "   0.15917368  0.13745928  0.91629073  0.91629073  0.91629073  0.91629073]\n",
      " [ 0.15917368  0.13745928  0.15917368  0.13745928  0.15917368  0.13745928\n",
      "   0.15917368  0.13745928  0.91629073  0.91629073  0.91629073  0.91629073]\n",
      " [ 0.15917368  0.13745928  0.15917368  0.13745928  0.15917368  0.13745928\n",
      "   0.15917368  0.13745928  0.91629073  0.91629073  0.91629073  0.91629073]\n",
      " [ 0.15917368  0.13745928  0.15917368  0.13745928  0.15917368  0.13745928\n",
      "   0.15917368  0.13745928  0.91629073  0.91629073  0.91629073  0.91629073]]\n",
      "(Pdb) c\n",
      "initialization finished. \n",
      "Start iteration\n",
      "sample order:[10  4  2  8  7 11  9  0  3  5  1  6]\n",
      "number of different elements:0\n",
      "check= False\n",
      "> /home/yzhang/ThesisWork/Program/sushiPref/sushiCode/sushiCode/EKNNclus.py(187)EKNNclus()\n",
      "-> if verbose:\n",
      "(Pdb) print(u)\n",
      "[[ 5.69553734  5.69553734  5.69553734]\n",
      " [ 5.60867973  5.60867973  5.60867973]\n",
      " [ 5.69553734  5.69553734  5.69553734]\n",
      " [ 5.60867973  5.60867973  5.60867973]\n",
      " [ 5.69553734  5.69553734  5.69553734]\n",
      " [ 5.60867973  5.60867973  5.60867973]\n",
      " [ 5.69553734  5.69553734  5.69553734]\n",
      " [ 5.60867973  5.60867973  5.60867973]\n",
      " [ 4.85169476  4.85169476  4.85169476]\n",
      " [ 4.85169476  4.85169476  4.85169476]\n",
      " [ 4.85169476  4.85169476  4.85169476]\n",
      " [ 4.85169476  4.85169476  4.85169476]]\n",
      "(Pdb) c\n",
      "1th iteration\n"
     ]
    }
   ],
   "source": [
    "del EKNNclus\n",
    "import importlib\n",
    "import EKNNclus\n",
    "EKNNclus = importlib.reload(EKNNclus)\n",
    "#from EKNNclcus import EKNNclus\n",
    "labels = EKNNclus.EKNNclus(X,K = 3,dist_mat = dist_mat,common_pair_mat=cal_pair_in_common(vMap),maximum_pair=10, verbose = True)"
   ]
  },
  {
   "cell_type": "code",
   "execution_count": 36,
   "metadata": {
    "collapsed": false
   },
   "outputs": [
    {
     "data": {
      "text/plain": [
       "0.13358656676727243"
      ]
     },
     "execution_count": 36,
     "metadata": {},
     "output_type": "execute_result"
    }
   ],
   "source": [
    "dist_mat[2][26]"
   ]
  },
  {
   "cell_type": "code",
   "execution_count": 16,
   "metadata": {
    "collapsed": false
   },
   "outputs": [
    {
     "data": {
      "text/plain": [
       "array([ True,  True,  True,  True,  True], dtype=bool)"
      ]
     },
     "execution_count": 16,
     "metadata": {},
     "output_type": "execute_result"
    }
   ],
   "source": [
    "labels[20]"
   ]
  },
  {
   "cell_type": "code",
   "execution_count": 134,
   "metadata": {
    "collapsed": false,
    "scrolled": true
   },
   "outputs": [
    {
     "name": "stdout",
     "output_type": "stream",
     "text": [
      "0 (array([0, 1, 2]),)\n",
      "1 (array([0, 1, 2]),)\n",
      "2 (array([0, 1, 2]),)\n",
      "3 (array([0, 1, 2]),)\n",
      "4 (array([0, 1, 2]),)\n",
      "5 (array([0, 1, 2]),)\n",
      "6 (array([0, 1, 2]),)\n",
      "7 (array([0, 1, 2]),)\n",
      "8 (array([0, 1, 2]),)\n",
      "9 (array([0, 1, 2]),)\n",
      "10 (array([0, 1, 2]),)\n",
      "11 (array([0, 1, 2]),)\n"
     ]
    }
   ],
   "source": [
    "label_sim = np.zeros((labels.shape[0]))\n",
    "for i in range(label_sim.shape[0]):\n",
    "    print(i, np.where(labels[i]==True))\n",
    "    #label_sim[i] = np.where(labels[i]==True)[0]\n"
   ]
  },
  {
   "cell_type": "code",
   "execution_count": 131,
   "metadata": {
    "collapsed": false,
    "scrolled": false
   },
   "outputs": [
    {
     "name": "stdout",
     "output_type": "stream",
     "text": [
      "(array([ 2,  7,  8,  9, 10]),)\n",
      "(array([0, 1, 3, 4, 5, 6]),)\n",
      "(array([11]),)\n"
     ]
    }
   ],
   "source": [
    "for clu in np.unique(label_sim):\n",
    "    print(np.where(label_sim==clu))"
   ]
  },
  {
   "cell_type": "markdown",
   "metadata": {},
   "source": [
    "K = 2:\n",
    "1st:\n",
    "(array([ 0,  1,  2,  3,  4,  5,  6,  7,  8,  9, 10, 11, 12, 13, 15, 16, 17,\n",
    "       19, 21, 22, 23, 24, 27, 28, 30, 31, 34, 35, 36, 37, 40, 41, 42, 43,\n",
    "       47, 49, 52, 53]),)\n",
    "(array([14, 18, 20, 25, 26, 29, 32, 33, 38, 39, 44, 45, 46, 48, 50, 51]),)\n",
    "\n",
    "2nd:\n",
    "(array([ 1,  4,  5,  7,  9, 11, 13, 18, 19, 25, 26, 27, 28, 30, 36, 40, 45]),)\n",
    "(array([ 0,  2,  3,  6,  8, 10, 12, 14, 15, 16, 17, 20, 21, 22, 23, 24, 29,\n",
    "       31, 32, 33, 34, 35, 37, 38, 39, 41, 42, 43, 44, 46, 47, 48, 49, 50,\n",
    "       51, 52, 53]),)"
   ]
  },
  {
   "cell_type": "markdown",
   "metadata": {},
   "source": [
    "1st:\n",
    "array([ 2,  5,  8,  9, 11, 12, 13, 14, 16, 21, 22, 23, 24, 29, 30, 31, 32,\n",
    "       33, 34, 36, 40, 42, 43, 44, 45, 48, 50, 51]),)\n",
    "(array([ 3, 17, 26, 27, 41, 49, 53]),)\n",
    "(array([ 0,  1,  4,  6,  7, 10, 15, 19, 20, 25, 28, 35, 37, 38, 39, 47, 52]),)\n",
    "(array([18, 46]),)\n",
    "\n",
    "2nd:\n",
    "(array([ 0,  2,  3,  4,  6,  7,  8,  9, 11, 14, 15, 16, 17, 18, 21, 22, 23,\n",
    "       26, 28, 30, 33, 34, 35, 36, 37, 39, 40, 41, 43, 44, 46, 48, 49, 50,\n",
    "       52, 53]),)\n",
    "(array([ 1, 10, 12, 24, 27, 38]),)\n",
    "(array([ 5, 13, 19, 20, 25, 29, 31, 32, 42, 45, 47, 51]),)\n",
    "\n",
    "3rd:\n",
    "(array([ 2, 26, 32]),)\n",
    "(array([20, 21, 42]),)\n",
    "(array([ 1,  3,  6, 10, 13, 14, 15, 16, 17, 19, 22, 23, 33, 36, 37, 38, 43,\n",
    "       45, 49, 50]),)\n",
    "(array([ 0,  4,  5,  7,  8,  9, 11, 12, 18, 24, 25, 27, 28, 29, 30, 31, 34,\n",
    "       35, 39, 40, 41, 44, 46, 47, 48, 51, 52, 53]),)\n",
    "       \n",
    "4th:\n",
    "(array([ 2,  3,  4,  5,  7,  8,  9, 10, 11, 12, 14, 15, 18, 19, 20, 21, 22,\n",
    "       23, 25, 26, 27, 28, 29, 30, 31, 33, 36, 37, 39, 42, 43, 44, 51, 52,\n",
    "       53]),)\n",
    "(array([ 1,  6, 13, 34, 35, 47, 49]),)\n",
    "(array([ 0, 16, 17, 24, 40, 46, 50]),)\n",
    "(array([32, 38, 41, 45, 48]),)"
   ]
  },
  {
   "cell_type": "markdown",
   "metadata": {},
   "source": [
    "dynamic $\\alpha$\n",
    "1st:\n",
    "\n",
    "(array([ 2, 44, 53]),)\n",
    "(array([14, 45]),)\n",
    "(array([ 4, 13, 17, 20, 38, 52]),)\n",
    "(array([ 3,  7, 31, 35, 39, 49]),)\n",
    "(array([ 1, 11, 12, 25, 26, 29, 46, 47]),)\n",
    "(array([15, 19]),)\n",
    "(array([ 5,  8,  9, 18, 27, 36, 48]),)\n",
    "(array([16, 23, 28, 32]),)\n",
    "(array([ 6, 22, 24, 33, 37, 42, 43, 50, 51]),)\n",
    "(array([ 0, 10, 21, 30, 34, 40, 41]),)\n",
    "\n",
    "2nd:\n",
    "(array([ 2,  4,  5,  7,  8, 16, 21, 22, 24, 31, 32, 41, 42, 43, 47, 48, 50, 53]),)\n",
    "(array([13, 28, 52]),)\n",
    "(array([ 6, 25]),)\n",
    "(array([ 3, 49]),)\n",
    "(array([ 1, 27]),)\n",
    "(array([ 9, 12, 14, 17, 18, 23, 29, 39, 44]),)\n",
    "(array([ 0, 10, 20, 30, 34, 40, 46]),)\n",
    "(array([26, 33, 37, 45, 51]),)\n",
    "(array([11, 15, 19, 35, 36, 38]),)\n",
    "\n",
    "3rd:\n",
    "(array([ 6, 28]),)\n",
    "(array([ 1, 26]),)\n",
    "(array([ 5, 15, 42]),)\n",
    "(array([ 7,  8, 10, 11, 18, 22, 23, 35, 48]),)\n",
    "(array([ 2, 12, 13, 19, 20, 21, 24, 29, 30, 33, 34, 37, 39, 41, 43, 46, 51, 52]),)\n",
    "(array([16, 25, 32, 36]),)\n",
    "(array([ 0,  4, 17, 27, 47, 53]),)\n",
    "(array([14, 45]),)\n",
    "(array([31, 40, 44]),)\n",
    "(array([ 3, 49]),)\n",
    "(array([ 9, 38, 50]),)\n",
    "\n",
    "\n",
    "4th\n",
    "((array([ 8, 11, 18, 35]),)\n",
    "(array([14, 17, 20, 23, 28, 31, 39, 50]),)\n",
    "(array([21, 22, 41]),)\n",
    "(array([ 1,  3,  4,  9, 15, 24, 25, 38, 43, 45]),)\n",
    "(array([ 0,  2,  5,  6,  7, 10, 12, 13, 16, 19, 26, 27, 29, 30, 32, 33, 34,\n",
    "       36, 37, 40, 42, 44, 46, 47, 48, 49, 51, 52, 53]),)"
   ]
  },
  {
   "cell_type": "code",
   "execution_count": 81,
   "metadata": {
    "collapsed": false
   },
   "outputs": [
    {
     "data": {
      "text/plain": [
       "array([[ 0.        ,  0.81009794,  0.        ,  0.81009794,  0.        ,\n",
       "         0.81009794,  0.        ,  0.81009794,  0.66211317,  0.66211317,\n",
       "         0.66211317,  0.66211317],\n",
       "       [ 0.81009794,  0.        ,  0.81009794,  0.        ,  0.81009794,\n",
       "         0.        ,  0.81009794,  0.        ,  0.75221308,  0.75221308,\n",
       "         0.75221308,  0.75221308],\n",
       "       [ 0.        ,  0.81009794,  0.        ,  0.81009794,  0.        ,\n",
       "         0.81009794,  0.        ,  0.81009794,  0.66211317,  0.66211317,\n",
       "         0.66211317,  0.66211317],\n",
       "       [ 0.81009794,  0.        ,  0.81009794,  0.        ,  0.81009794,\n",
       "         0.        ,  0.81009794,  0.        ,  0.75221308,  0.75221308,\n",
       "         0.75221308,  0.75221308],\n",
       "       [ 0.        ,  0.81009794,  0.        ,  0.81009794,  0.        ,\n",
       "         0.81009794,  0.        ,  0.81009794,  0.66211317,  0.66211317,\n",
       "         0.66211317,  0.66211317],\n",
       "       [ 0.81009794,  0.        ,  0.81009794,  0.        ,  0.81009794,\n",
       "         0.        ,  0.81009794,  0.        ,  0.75221308,  0.75221308,\n",
       "         0.75221308,  0.75221308],\n",
       "       [ 0.        ,  0.81009794,  0.        ,  0.81009794,  0.        ,\n",
       "         0.81009794,  0.        ,  0.81009794,  0.66211317,  0.66211317,\n",
       "         0.66211317,  0.66211317],\n",
       "       [ 0.81009794,  0.        ,  0.81009794,  0.        ,  0.81009794,\n",
       "         0.        ,  0.81009794,  0.        ,  0.75221308,  0.75221308,\n",
       "         0.75221308,  0.75221308],\n",
       "       [ 0.66211317,  0.75221308,  0.66211317,  0.75221308,  0.66211317,\n",
       "         0.75221308,  0.66211317,  0.75221308,  0.        ,  0.        ,\n",
       "         0.        ,  0.        ],\n",
       "       [ 0.66211317,  0.75221308,  0.66211317,  0.75221308,  0.66211317,\n",
       "         0.75221308,  0.66211317,  0.75221308,  0.        ,  0.        ,\n",
       "         0.        ,  0.        ],\n",
       "       [ 0.66211317,  0.75221308,  0.66211317,  0.75221308,  0.66211317,\n",
       "         0.75221308,  0.66211317,  0.75221308,  0.        ,  0.        ,\n",
       "         0.        ,  0.        ],\n",
       "       [ 0.66211317,  0.75221308,  0.66211317,  0.75221308,  0.66211317,\n",
       "         0.75221308,  0.66211317,  0.75221308,  0.        ,  0.        ,\n",
       "         0.        ,  0.        ]])"
      ]
     },
     "execution_count": 81,
     "metadata": {},
     "output_type": "execute_result"
    }
   ],
   "source": [
    "dist_mat"
   ]
  },
  {
   "cell_type": "code",
   "execution_count": 145,
   "metadata": {
    "collapsed": false,
    "scrolled": true
   },
   "outputs": [
    {
     "name": "stdout",
     "output_type": "stream",
     "text": [
      "[[41 47 46]\n",
      " [25 26 47]\n",
      " [41  8 42]\n",
      " [15 49 14]\n",
      " [47 35 12]\n",
      " [48 40 47]\n",
      " [28 13 25]\n",
      " [47 10 26]\n",
      " [24  2 18]\n",
      " [35 27 44]\n",
      " [47 12 35]\n",
      " [12 29 19]\n",
      " [44 29 47]\n",
      " [52 47 17]\n",
      " [ 3  2 45]\n",
      " [ 3 25 36]\n",
      " [30 25 26]\n",
      " [52 13 20]\n",
      " [23  8 28]\n",
      " [12 11 13]\n",
      " [12 13 28]\n",
      " [41 22 24]\n",
      " [21 10 50]\n",
      " [18 20 19]\n",
      " [ 8 21 43]\n",
      " [ 1 12 16]\n",
      " [46 47 30]\n",
      " [42 47 18]\n",
      " [35 10 26]\n",
      " [47 12 44]\n",
      " [46 16 26]\n",
      " [40 41 51]\n",
      " [16 36 30]\n",
      " [51 10 40]\n",
      " [40 21 12]\n",
      " [28 10  9]\n",
      " [13 38 28]\n",
      " [42 47 43]\n",
      " [47 36 29]\n",
      " [ 2 13 31]\n",
      " [34 42 41]\n",
      " [21  2 40]\n",
      " [50 37 27]\n",
      " [37 50 47]\n",
      " [12 29 47]\n",
      " [15 14 37]\n",
      " [26 30 47]\n",
      " [29  7 26]\n",
      " [40  5 18]\n",
      " [ 3 42 12]\n",
      " [42 43 37]\n",
      " [33 37 16]\n",
      " [13 17  2]\n",
      " [41  2 21]] [[[ 0.6  0.1  0.6 ...,  0.3  0.3  0.6]\n",
      "  [ 0.4  0.4  0.3 ...,  0.2  0.4  0.4]\n",
      "  [ 0.5  0.3  0.3 ...,  0.2  0.4  0.4]]\n",
      "\n",
      " [[ 0.   0.6  0.2 ...,  0.3  0.4  0.4]\n",
      "  [ 0.3  0.5  0.1 ...,  0.3  0.3  0.3]\n",
      "  [ 0.4  0.4  0.3 ...,  0.2  0.4  0.4]]\n",
      "\n",
      " [[ 0.6  0.1  0.6 ...,  0.3  0.3  0.6]\n",
      "  [ 0.3  0.3  0.6 ...,  0.4  0.3  0.3]\n",
      "  [ 0.4  0.3  0.5 ...,  0.5  0.4  0.4]]\n",
      "\n",
      " ..., \n",
      " [[ 0.2  0.4  0.3 ...,  0.7  0.2  0.2]\n",
      "  [ 0.4  0.3  0.4 ...,  0.6  0.2  0.4]\n",
      "  [ 0.1  0.5  0.5 ...,  0.5  0.3  0.5]]\n",
      "\n",
      " [[ 0.4  0.4  0.3 ...,  0.3  0.7  0.4]\n",
      "  [ 0.4  0.3  0.5 ...,  0.3  0.7  0.5]\n",
      "  [ 0.3  0.3  1.  ...,  0.5  0.5  0.5]]\n",
      "\n",
      " [[ 0.6  0.1  0.6 ...,  0.3  0.3  0.6]\n",
      "  [ 0.3  0.3  1.  ...,  0.5  0.5  0.5]\n",
      "  [ 0.4  0.3  0.5 ...,  0.3  0.2  0.5]]]\n"
     ]
    }
   ],
   "source": [
    "knn_ind, knn_dist = EKNNclus.get_KNN(dist_mat, 3)\n",
    "alpha_mat = cal_pair_in_common(vMap)/10\n",
    "\n",
    "print(knn_ind,alpha_mat[knn_ind])"
   ]
  },
  {
   "cell_type": "code",
   "execution_count": 155,
   "metadata": {
    "collapsed": false
   },
   "outputs": [
    {
     "name": "stdout",
     "output_type": "stream",
     "text": [
      "[41 47 46] (54, 3) [ 0.6  0.4  0.5] (54, 3, 54)\n"
     ]
    },
    {
     "data": {
      "text/plain": [
       "array([ 24.6,  18.8,  23. ])"
      ]
     },
     "execution_count": 155,
     "metadata": {},
     "output_type": "execute_result"
    }
   ],
   "source": [
    "print(knn_ind[0],knn_ind.shape, alpha_mat[0][[41,47,46]], alpha_mat[knn_ind].shape)\n",
    "knn_alpha = np.zeros(knn_ind.shape)\n",
    "for i in range(knn_ind.shape[0]):\n",
    "    knn_alpha[i] = alpha_mat[i][knn_ind[i]]\n",
    "#print(knn_alpha)\n",
    "knn_ind[0]*alpha_mat[0][[41,47,46]]"
   ]
  },
  {
   "cell_type": "code",
   "execution_count": 1,
   "metadata": {
    "collapsed": false,
    "scrolled": true
   },
   "outputs": [
    {
     "ename": "NameError",
     "evalue": "name 'EKNNclus' is not defined",
     "output_type": "error",
     "traceback": [
      "\u001b[0;31m---------------------------------------------------------------------------\u001b[0m",
      "\u001b[0;31mNameError\u001b[0m                                 Traceback (most recent call last)",
      "\u001b[0;32m<ipython-input-1-ec3c84af8d4f>\u001b[0m in \u001b[0;36m<module>\u001b[0;34m()\u001b[0m\n\u001b[0;32m----> 1\u001b[0;31m \u001b[0;32mdel\u001b[0m \u001b[0mEKNNclus\u001b[0m\u001b[0;34m\u001b[0m\u001b[0m\n\u001b[0m\u001b[1;32m      2\u001b[0m \u001b[0;32mimport\u001b[0m \u001b[0mimportlib\u001b[0m\u001b[0;34m\u001b[0m\u001b[0m\n\u001b[1;32m      3\u001b[0m \u001b[0;32mimport\u001b[0m \u001b[0mEKNNclus\u001b[0m\u001b[0;34m\u001b[0m\u001b[0m\n\u001b[1;32m      4\u001b[0m \u001b[0mEKNNclus\u001b[0m \u001b[0;34m=\u001b[0m \u001b[0mimportlib\u001b[0m\u001b[0;34m.\u001b[0m\u001b[0mreload\u001b[0m\u001b[0;34m(\u001b[0m\u001b[0mEKNNclus\u001b[0m\u001b[0;34m)\u001b[0m\u001b[0;34m\u001b[0m\u001b[0m\n\u001b[1;32m      5\u001b[0m \u001b[0mclus\u001b[0m \u001b[0;34m=\u001b[0m \u001b[0mEKNNclus\u001b[0m\u001b[0;34m.\u001b[0m\u001b[0mEKNNclus_Th\u001b[0m\u001b[0;34m(\u001b[0m\u001b[0mX\u001b[0m\u001b[0;34m,\u001b[0m \u001b[0mK\u001b[0m \u001b[0;34m=\u001b[0m \u001b[0;36m5\u001b[0m\u001b[0;34m,\u001b[0m \u001b[0mD\u001b[0m \u001b[0;34m=\u001b[0m \u001b[0mdist_mat\u001b[0m\u001b[0;34m,\u001b[0m \u001b[0malpha_mat\u001b[0m \u001b[0;34m=\u001b[0m \u001b[0malpha_mat\u001b[0m\u001b[0;34m,\u001b[0m\u001b[0mntrials\u001b[0m\u001b[0;34m=\u001b[0m\u001b[0;36m20\u001b[0m\u001b[0;34m,\u001b[0m \u001b[0my0\u001b[0m \u001b[0;34m=\u001b[0m \u001b[0mlist\u001b[0m\u001b[0;34m(\u001b[0m\u001b[0mreversed\u001b[0m\u001b[0;34m(\u001b[0m\u001b[0mrange\u001b[0m\u001b[0;34m(\u001b[0m\u001b[0mX\u001b[0m\u001b[0;34m.\u001b[0m\u001b[0mshape\u001b[0m\u001b[0;34m[\u001b[0m\u001b[0;36m0\u001b[0m\u001b[0;34m]\u001b[0m\u001b[0;34m)\u001b[0m\u001b[0;34m)\u001b[0m\u001b[0;34m)\u001b[0m\u001b[0;34m,\u001b[0m\u001b[0mtr\u001b[0m \u001b[0;34m=\u001b[0m \u001b[0;32mTrue\u001b[0m\u001b[0;34m)\u001b[0m\u001b[0;34m\u001b[0m\u001b[0m\n",
      "\u001b[0;31mNameError\u001b[0m: name 'EKNNclus' is not defined"
     ]
    }
   ],
   "source": [
    "del EKNNclus\n",
    "import importlib\n",
    "import EKNNclus\n",
    "EKNNclus = importlib.reload(EKNNclus)\n",
    "clus = EKNNclus.EKNNclus_Th(X, K = 5, D = dist_mat, alpha_mat = alpha_mat,ntrials=20, y0 = list(reversed(range(X.shape[0]))),tr = True)\n",
    "for i in np.unique(clus):\n",
    "    print(i, np.where(clus==i))"
   ]
  },
  {
   "cell_type": "code",
   "execution_count": 163,
   "metadata": {
    "collapsed": false
   },
   "outputs": [
    {
     "name": "stdout",
     "output_type": "stream",
     "text": [
      "nan\n"
     ]
    },
    {
     "name": "stderr",
     "output_type": "stream",
     "text": [
      "/home/yzhang/ThesisWork/Program/sushiPref/sushiCode/sushiCode/beliefKMeans.py:560: RuntimeWarning: invalid value encountered in true_divide\n",
      "  sil_samples /= np.maximum(intra_clust_dists, inter_clust_dists)\n"
     ]
    }
   ],
   "source": [
    "from beliefKMeans import silhouette_score\n",
    "print(silhouette_score(X, clus))"
   ]
  },
  {
   "cell_type": "markdown",
   "metadata": {},
   "source": [
    "ntrials = 20, K = 5, y0 increasing list:\n",
    "1st try: \n",
    "0 (array([ 1, 16, 25, 26, 30, 46]),)\n",
    "1 (array([ 2,  5,  8, 21, 22, 24, 31, 33, 34, 40, 41, 48, 51, 53]),)\n",
    "2 (array([37, 42, 43, 50]),)\n",
    "3 (array([ 0,  3,  4,  6,  7,  9, 10, 11, 12, 13, 14, 15, 17, 18, 19, 20, 23,\n",
    "       27, 28, 29, 32, 35, 36, 38, 39, 44, 45, 47, 49, 52]),)\n",
    "2nd try:\n",
    "0 (array([ 0,  1,  3,  4,  6,  7,  9, 10, 11, 12, 13, 14, 15, 16, 17, 18, 19,\n",
    "       20, 23, 25, 26, 27, 28, 29, 30, 31, 32, 33, 35, 36, 38, 39, 44, 45,\n",
    "       46, 47, 49, 51, 52]),)\n",
    "1 (array([ 2,  5,  8, 21, 22, 24, 34, 40, 41, 48, 53]),)\n",
    "2 (array([37, 42, 43, 50]),)\n",
    "\n",
    "3rd try:\n",
    "0 (array([ 2,  5,  8, 21, 22, 24, 31, 33, 34, 40, 41, 48, 51, 53]),)\n",
    "1 (array([ 0,  3,  4,  6,  7,  9, 10, 11, 12, 13, 14, 15, 17, 18, 19, 20, 23,\n",
    "       27, 28, 29, 32, 35, 36, 38, 39, 44, 45, 47, 49, 52]),)\n",
    "2 (array([ 1, 16, 25, 26, 30, 46]),)\n",
    "3 (array([37, 42, 43, 50]),)\n",
    "\n",
    "4th try:\n",
    "0 (array([ 2,  5,  8, 21, 22, 24, 31, 33, 34, 40, 41, 48, 51, 53]),)\n",
    "1 (array([37, 42, 43, 50]),)\n",
    "2 (array([ 1, 16, 25, 26, 30, 46]),)\n",
    "3 (array([ 0,  3,  4,  6,  7,  9, 10, 11, 12, 13, 14, 15, 17, 18, 19, 20, 23,\n",
    "       27, 28, 29, 32, 35, 36, 38, 39, 44, 45, 47, 49, 52]),)\n",
    "\n",
    "\n",
    "y0 = decreasing list\n",
    "1st try:\n",
    "0 (array([ 1, 16, 25, 26, 30, 46]),)\n",
    "1 (array([ 0,  2,  3,  4,  5,  6,  7,  9, 10, 11, 12, 13, 14, 15, 17, 18, 19,\n",
    "       20, 22, 23, 27, 28, 29, 32, 35, 36, 37, 38, 39, 42, 43, 44, 45, 47,\n",
    "       48, 49, 50, 52]),)\n",
    "2 (array([ 8, 21, 24, 31, 33, 34, 40, 41, 51, 53]),)\n",
    "2nd try:\n",
    "0 (array([ 0,  1,  3,  4,  6,  7,  9, 10, 11, 12, 13, 14, 15, 17, 18, 19, 20,\n",
    "       23, 25, 27, 28, 29, 32, 35, 36, 38, 39, 44, 45, 47, 49, 52]),)\n",
    "1 (array([37, 42, 43, 50]),)\n",
    "2 (array([ 2,  5,  8, 21, 22, 24, 31, 33, 34, 40, 41, 48, 51, 53]),)\n",
    "3 (array([16, 26, 30, 46]),)\n",
    "\n",
    "3rd try:\n",
    "0 (array([ 0,  3,  4,  6,  7,  9, 10, 11, 12, 13, 14, 15, 17, 18, 19, 20, 23,\n",
    "       27, 28, 29, 32, 35, 36, 38, 39, 44, 45, 47, 49, 52]),)\n",
    "1 (array([ 2,  5,  8, 21, 22, 24, 31, 33, 34, 37, 40, 41, 42, 43, 48, 50, 51,\n",
    "       53]),)\n",
    "2 (array([ 1, 16, 25, 26, 30, 46]),)\n",
    "\n",
    "4th:\n",
    "0 (array([ 0,  3,  4,  6,  7,  9, 10, 11, 12, 13, 14, 15, 17, 18, 19, 20, 23,\n",
    "       27, 28, 29, 32, 35, 36, 38, 39, 44, 45, 47, 49, 52]),)\n",
    "1 (array([ 1, 16, 25, 26, 30, 46]),)\n",
    "2 (array([ 2,  5,  8, 21, 22, 24, 31, 33, 34, 37, 40, 41, 42, 43, 48, 50, 51,\n",
    "       53]),)\n"
   ]
  },
  {
   "cell_type": "code",
   "execution_count": 8,
   "metadata": {
    "collapsed": false
   },
   "outputs": [],
   "source": [
    "butterfly = np.array([[-5,0],\n",
    "                      [-3.34, 1.67], \n",
    "                      [-3.34, 0], \n",
    "                      [-3.34, -1.67], \n",
    "                      [-1.67, 0], \n",
    "                      [0,0], \n",
    "                      [1.67,0], \n",
    "                      [3.34, -1.67],\n",
    "                      [3.34, 0],\n",
    "                      [3.34, 1.67],\n",
    "                      [5,0],\n",
    "                      [10,10]])\n",
    "from sklearn.metrics.pairwise import euclidean_distances\n",
    "butterfly_dist_mat=euclidean_distances(butterfly,butterfly)"
   ]
  },
  {
   "cell_type": "code",
   "execution_count": 137,
   "metadata": {
    "collapsed": false
   },
   "outputs": [
    {
     "name": "stdout",
     "output_type": "stream",
     "text": [
      "0 1 10 4\n",
      "0 2 2 2\n",
      "0 3 0 2\n",
      "[0 0 0 0 0 0 1 1 1 1 1 1]\n"
     ]
    }
   ],
   "source": [
    "#del EKNNclus\n",
    "import importlib\n",
    "import EKNNclus\n",
    "EKNNclus = importlib.reload(EKNNclus)\n",
    "n = len(butterfly)\n",
    "clus = EKNNclus.EKNNclus_Th(butterfly, K=4, y0 = list(range(n)), D = butterfly_dist_mat)\n",
    "print(clus)"
   ]
  }
 ],
 "metadata": {
  "kernelspec": {
   "display_name": "Python 3",
   "language": "python",
   "name": "python3"
  },
  "language_info": {
   "codemirror_mode": {
    "name": "ipython",
    "version": 3
   },
   "file_extension": ".py",
   "mimetype": "text/x-python",
   "name": "python",
   "nbconvert_exporter": "python",
   "pygments_lexer": "ipython3",
   "version": "3.5.2"
  }
 },
 "nbformat": 4,
 "nbformat_minor": 1
}
