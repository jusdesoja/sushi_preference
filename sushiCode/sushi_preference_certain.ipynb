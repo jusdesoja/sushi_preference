{
 "cells": [
  {
   "cell_type": "markdown",
   "metadata": {},
   "source": [
    "# Two models (k-o'means & Belief function based) on Sushi preference"
   ]
  },
  {
   "cell_type": "code",
   "execution_count": 1,
   "metadata": {
    "collapsed": false
   },
   "outputs": [
    {
     "name": "stdout",
     "output_type": "stream",
     "text": [
      "[1546, 1535, 1406, 1457, 1380, 1447, 1412, 1353, 1321, 1244, 1297, 1213, 1194, 1118, 1112, 1077, 1012, 1016, 968, 957, 939, 945, 868, 857, 841, 847, 785, 775, 699, 694, 696, 619, 512, 567, 560, 545, 500, 532, 509, 453, 433, 468, 413, 334, 336, 327, 358, 366, 347, 348, 355, 385, 287, 282, 231, 199, 214, 218, 219, 236, 219, 234, 213, 215, 234, 155, 142, 138, 135, 155, 141, 164, 169, 133, 165, 148, 144, 131, 150, 153, 78, 67, 88, 50, 66, 80, 52, 77, 85, 84, 74, 80, 76, 75, 72, 95, 68, 79, 75, 77]\n",
      "[0, 1, 3, 5, 6, 2, 4, 7, 8, 10, 9, 11, 12, 13, 14, 15, 17, 16]\n",
      "1\n",
      "[3182]\n"
     ]
    }
   ],
   "source": [
    "from read import read_voter_file, read_score_file, read_order_file\n",
    "from tools import all_mass_init, all_certain_mass_init, flatten_pref_mass_mat\n",
    "from beliefKMeans import k_means, silhouette_score, _k_means_single\n",
    "\n",
    "import numpy as np\n",
    "\n",
    "vMap = read_voter_file(\"../data/sushi3-2016/sushi3.udata\", 10)\n",
    "#read_score_file(\"../data/sushi3-2016/sushi3b.5000.10.score\", vMap, 100)\n",
    "read_order_file(\"../data/sushi3-2016/sushi3a.5000.10.order\", vMap, 10)\n",
    "n_item = 10\n",
    "n_sample = len(vMap)\n",
    "vector_size = 4\n",
    "n_pref_pair = int(n_item*(n_item-1)/2)\n",
    "X = np.empty((n_sample, n_pref_pair, vector_size),dtype = object)\n"
   ]
  },
  {
   "cell_type": "code",
   "execution_count": 2,
   "metadata": {
    "collapsed": false
   },
   "outputs": [],
   "source": [
    "for k,v in vMap.items():\n",
    "    X[k] = flatten_pref_mass_mat(all_certain_mass_init(vMap[k].get_order_a(),10))"
   ]
  },
  {
   "cell_type": "code",
   "execution_count": 3,
   "metadata": {
    "collapsed": false
   },
   "outputs": [
    {
     "data": {
      "text/plain": [
       "(10, 45, 4)"
      ]
     },
     "execution_count": 3,
     "metadata": {},
     "output_type": "execute_result"
    }
   ],
   "source": [
    "X.shape"
   ]
  },
  {
   "cell_type": "code",
   "execution_count": null,
   "metadata": {
    "collapsed": false
   },
   "outputs": [
    {
     "name": "stderr",
     "output_type": "stream",
     "text": [
      "/home/yzhang/ThesisWork/Program/sushiPref/sushiCode/sushiCode/iBelief/distance.py:18: FutureWarning: comparison to `None` will result in an elementwise object comparison in the future.\n",
      "  if D== None:\n"
     ]
    },
    {
     "name": "stdout",
     "output_type": "stream",
     "text": [
      "centers initialized, shape:(3, 45, 4)\n",
      "Initialization complete\n",
      "E step:\n",
      "labels after step E: [2 1 0 0 2 2 0 1 1 0]\n",
      "M step:\n",
      "[4 3 3]\n",
      "> /home/yzhang/ThesisWork/Program/sushiPref/sushiCode/sushiCode/beliefKMeans.py(277)_centers_dense()\n",
      "-> centers[i] = _fusion(X[np.where(labels == i)[0]], strategy = 2)\n",
      "(Pdb) c\n",
      "new center for 0 calculated\n",
      "> /home/yzhang/ThesisWork/Program/sushiPref/sushiCode/sushiCode/beliefKMeans.py(276)_centers_dense()\n",
      "-> pdb.set_trace()\n",
      "(Pdb) c\n",
      "new center for 1 calculated\n",
      "> /home/yzhang/ThesisWork/Program/sushiPref/sushiCode/sushiCode/beliefKMeans.py(277)_centers_dense()\n",
      "-> centers[i] = _fusion(X[np.where(labels == i)[0]], strategy = 2)\n",
      "(Pdb) c\n",
      "new center for 2 calculated\n",
      "Iteration  0, inertia 2.978 \n",
      "Best inertia: None\n",
      "best result updated\n",
      "E step:\n",
      "labels after step E: [2 1 0 0 2 2 0 1 1 1]\n",
      "M step:\n",
      "[3 4 3]\n",
      "> /home/yzhang/ThesisWork/Program/sushiPref/sushiCode/sushiCode/beliefKMeans.py(277)_centers_dense()\n",
      "-> centers[i] = _fusion(X[np.where(labels == i)[0]], strategy = 2)\n",
      "(Pdb) c\n",
      "new center for 0 calculated\n",
      "> /home/yzhang/ThesisWork/Program/sushiPref/sushiCode/sushiCode/beliefKMeans.py(276)_centers_dense()\n",
      "-> pdb.set_trace()\n",
      "(Pdb) c\n",
      "new center for 1 calculated\n",
      "> /home/yzhang/ThesisWork/Program/sushiPref/sushiCode/sushiCode/beliefKMeans.py(277)_centers_dense()\n",
      "-> centers[i] = _fusion(X[np.where(labels == i)[0]], strategy = 2)\n",
      "(Pdb) c\n",
      "new center for 2 calculated\n",
      "Iteration  1, inertia 2.767 \n",
      "Best inertia: 2.977777777777778\n",
      "best result updated\n",
      "E step:\n",
      "labels after step E: [2 1 0 0 2 2 0 1 0 1]\n",
      "M step:\n",
      "[4 3 3]\n",
      "> /home/yzhang/ThesisWork/Program/sushiPref/sushiCode/sushiCode/beliefKMeans.py(277)_centers_dense()\n",
      "-> centers[i] = _fusion(X[np.where(labels == i)[0]], strategy = 2)\n",
      "(Pdb) c\n",
      "new center for 0 calculated\n",
      "> /home/yzhang/ThesisWork/Program/sushiPref/sushiCode/sushiCode/beliefKMeans.py(276)_centers_dense()\n",
      "-> pdb.set_trace()\n",
      "(Pdb) c\n",
      "new center for 1 calculated\n",
      "> /home/yzhang/ThesisWork/Program/sushiPref/sushiCode/sushiCode/beliefKMeans.py(277)_centers_dense()\n",
      "-> centers[i] = _fusion(X[np.where(labels == i)[0]], strategy = 2)\n",
      "(Pdb) c\n",
      "new center for 2 calculated\n",
      "Iteration  2, inertia 2.481 \n",
      "Best inertia: 2.7666666666666666\n",
      "best result updated\n",
      "E step:\n",
      "labels after step E: [2 1 0 0 2 2 0 1 0 1]\n",
      "M step:\n",
      "[4 3 3]\n",
      "> /home/yzhang/ThesisWork/Program/sushiPref/sushiCode/sushiCode/beliefKMeans.py(277)_centers_dense()\n",
      "-> centers[i] = _fusion(X[np.where(labels == i)[0]], strategy = 2)\n",
      "(Pdb) c\n",
      "new center for 0 calculated\n",
      "> /home/yzhang/ThesisWork/Program/sushiPref/sushiCode/sushiCode/beliefKMeans.py(276)_centers_dense()\n",
      "-> pdb.set_trace()\n",
      "(Pdb) c\n",
      "new center for 1 calculated\n",
      "> /home/yzhang/ThesisWork/Program/sushiPref/sushiCode/sushiCode/beliefKMeans.py(277)_centers_dense()\n",
      "-> centers[i] = _fusion(X[np.where(labels == i)[0]], strategy = 2)\n",
      "(Pdb) c\n",
      "new center for 2 calculated\n",
      "Iteration  3, inertia 2.326 \n",
      "Best inertia: 2.4814814814814814\n",
      "best result updated\n",
      "E step:\n",
      "labels after step E: [2 1 0 0 2 2 0 1 0 1]\n",
      "M step:\n",
      "[4 3 3]\n",
      "> /home/yzhang/ThesisWork/Program/sushiPref/sushiCode/sushiCode/beliefKMeans.py(277)_centers_dense()\n",
      "-> centers[i] = _fusion(X[np.where(labels == i)[0]], strategy = 2)\n"
     ]
    }
   ],
   "source": [
    "labels, inertia, centers, distances, iterNb = _k_means_single(X, 3, init='k_means',max_iter = 5, verbose = True)"
   ]
  },
  {
   "cell_type": "code",
   "execution_count": 8,
   "metadata": {
    "collapsed": false
   },
   "outputs": [
    {
     "ename": "NameError",
     "evalue": "name 'centers' is not defined",
     "output_type": "error",
     "traceback": [
      "\u001b[0;31m---------------------------------------------------------------------------\u001b[0m",
      "\u001b[0;31mNameError\u001b[0m                                 Traceback (most recent call last)",
      "\u001b[0;32m<ipython-input-8-e8ca83ce7fd5>\u001b[0m in \u001b[0;36m<module>\u001b[0;34m()\u001b[0m\n\u001b[0;32m----> 1\u001b[0;31m \u001b[0mcenters\u001b[0m\u001b[0;34m\u001b[0m\u001b[0m\n\u001b[0m",
      "\u001b[0;31mNameError\u001b[0m: name 'centers' is not defined"
     ]
    }
   ],
   "source": [
    "centers"
   ]
  },
  {
   "cell_type": "markdown",
   "metadata": {
    "collapsed": true
   },
   "source": [
    "experiments on artificial data\n",
    "    "
   ]
  },
  {
   "cell_type": "code",
   "execution_count": 2,
   "metadata": {
    "collapsed": true
   },
   "outputs": [],
   "source": [
    "from tools import all_mass_init, all_certain_mass_init, flatten_pref_mass_mat\n",
    "from singleBeliefKMeans import k_means, silhouette_score, _k_means_single\n",
    "import numpy as np\n",
    "from iBelief.distance import JousselmeDistance"
   ]
  },
  {
   "cell_type": "code",
   "execution_count": 2,
   "metadata": {
    "collapsed": true
   },
   "outputs": [],
   "source": [
    "def read_mass_file(file):\n",
    "    masses = np.empty((0,16))\n",
    "    with open(file) as f:\n",
    "        for line in f:\n",
    "            masses = np.vstack((masses, np.array([float(i) for i in line.split()])))\n",
    "    return masses"
   ]
  },
  {
   "cell_type": "code",
   "execution_count": 3,
   "metadata": {
    "collapsed": false
   },
   "outputs": [],
   "source": [
    "X = read_mass_file(\"/home/yzhang/ThesisWork/Program/sushiPref/sushiCode/data/sushi3-2016/artificiel_mass.data\")"
   ]
  },
  {
   "cell_type": "code",
   "execution_count": 4,
   "metadata": {
    "collapsed": false
   },
   "outputs": [],
   "source": [
    "X = X[:6]"
   ]
  },
  {
   "cell_type": "code",
   "execution_count": 5,
   "metadata": {
    "collapsed": false
   },
   "outputs": [
    {
     "data": {
      "text/plain": [
       "array([[ 0.        ,  0.3385673 ,  0.00475236,  0.        ,  0.        ,\n",
       "         0.        ,  0.        ,  0.        ,  0.6554754 ,  0.        ,\n",
       "         0.        ,  0.        ,  0.        ,  0.        ,  0.        ,\n",
       "         0.00120499],\n",
       "       [ 0.        ,  0.131232  ,  0.07621001,  0.        ,  0.2876665 ,\n",
       "         0.        ,  0.        ,  0.        ,  0.        ,  0.        ,\n",
       "         0.        ,  0.        ,  0.        ,  0.        ,  0.        ,\n",
       "         0.5048914 ],\n",
       "       [ 0.        ,  0.07812018,  0.8427176 ,  0.        ,  0.        ,\n",
       "         0.        ,  0.        ,  0.        ,  0.01211108,  0.        ,\n",
       "         0.        ,  0.        ,  0.        ,  0.        ,  0.        ,\n",
       "         0.06705113],\n",
       "       [ 0.        ,  0.        ,  0.08955104,  0.        ,  0.2305491 ,\n",
       "         0.        ,  0.        ,  0.        ,  0.290527  ,  0.        ,\n",
       "         0.        ,  0.        ,  0.        ,  0.        ,  0.        ,\n",
       "         0.3893729 ],\n",
       "       [ 0.        ,  0.19548   ,  0.5421526 ,  0.        ,  0.1163133 ,\n",
       "         0.        ,  0.        ,  0.        ,  0.        ,  0.        ,\n",
       "         0.        ,  0.        ,  0.        ,  0.        ,  0.        ,\n",
       "         0.1460541 ],\n",
       "       [ 0.        ,  0.        ,  0.1221994 ,  0.        ,  0.4436646 ,\n",
       "         0.        ,  0.        ,  0.        ,  0.07006351,  0.        ,\n",
       "         0.        ,  0.        ,  0.        ,  0.        ,  0.        ,\n",
       "         0.3640725 ]])"
      ]
     },
     "execution_count": 5,
     "metadata": {},
     "output_type": "execute_result"
    }
   ],
   "source": [
    "X"
   ]
  },
  {
   "cell_type": "code",
   "execution_count": 6,
   "metadata": {
    "collapsed": false
   },
   "outputs": [
    {
     "name": "stdout",
     "output_type": "stream",
     "text": [
      "centers initialized, shape:(5, 16)\n",
      "Initialization complete\n",
      "E step:\n",
      "labels after step E: [0 2 4 0 1 2 1 1 0 2 2 2 0 2 3 1 2 2 2 1 2 0 1 1 3 1 0 3 2 2 1 2 2 3 2 2 4\n",
      " 1 2 0 0 3 1 3 0 2 4 4 4 3 2 3 3 0 4 0 4 0 0 1 2 0 1 4 1 2 2 4 2 0 2 1 0 4\n",
      " 2 1 4 1 2 3 4 2 4 3 2 2 1 4 3 1 4 1 2 3 1 2 2 2 3 1 2 1 2 1 3 2 0 2 1 1 2\n",
      " 2 1 0 0 2 1 3 0 2 1 2 0 3 1 1 4 1 3 4 2 4 2 2 2 0 2 2 3 2 1 2 4 1 2 4 1 0\n",
      " 2 4 2 0 2 1 2 2 2 1 1 2 0 1 1 2 1 4 2 3 2 2 1 2 4 1 0 2 0 2 1 1 2 1 4 1 2\n",
      " 3 2 2 2 4 0 2 2 1 1 4 1 0 2 0]\n",
      "M step:\n",
      "[30 50 73 21 26]\n",
      "new center for 0 calculated\n",
      "new center for 1 calculated\n",
      "new center for 2 calculated\n",
      "new center for 3 calculated\n",
      "new center for 4 calculated\n",
      "Iteration  0, inertia 48.729 \n",
      "Best inertia: None\n",
      "best result updated\n",
      "E step:\n",
      "labels after step E: [0 2 4 0 4 2 1 1 0 2 2 2 0 2 3 1 2 2 2 1 2 0 1 4 0 1 0 3 2 2 1 2 2 3 2 2 4\n",
      " 1 2 0 0 3 1 3 0 2 4 4 4 3 2 3 3 0 4 0 4 0 0 1 2 0 1 4 1 2 2 4 2 0 2 4 2 4\n",
      " 2 1 1 1 2 3 4 2 4 0 2 2 2 4 3 1 4 1 2 3 1 2 2 2 3 1 2 1 2 1 3 2 0 2 1 1 2\n",
      " 2 1 0 0 2 1 3 0 2 1 2 0 3 1 1 4 1 3 4 2 4 2 2 2 0 2 2 3 2 2 0 4 1 2 1 1 0\n",
      " 2 4 2 0 2 1 2 2 2 1 4 2 0 1 1 2 1 4 2 3 2 2 1 2 1 1 0 2 0 2 1 1 2 1 4 1 2\n",
      " 3 2 2 2 4 0 2 2 1 1 4 1 0 2 0]\n",
      "M step:\n",
      "[32 47 75 19 27]\n",
      "new center for 0 calculated\n",
      "new center for 1 calculated\n",
      "new center for 2 calculated\n",
      "new center for 3 calculated\n",
      "new center for 4 calculated\n",
      "Iteration  1, inertia 39.858 \n",
      "Best inertia: 48.728502554011854\n",
      "best result updated\n",
      "E step:\n",
      "labels after step E: [0 2 4 0 4 2 1 1 0 2 2 2 0 2 3 1 2 2 2 1 2 0 4 4 0 1 0 3 2 2 1 2 2 3 2 2 4\n",
      " 1 2 0 0 3 1 3 0 2 4 4 4 3 2 3 3 3 4 0 4 0 0 1 2 0 1 4 1 2 2 4 2 0 2 4 2 4\n",
      " 2 1 1 1 2 3 4 2 4 0 2 2 2 1 3 1 1 1 2 3 1 2 2 2 0 1 2 1 2 2 3 2 0 2 1 1 2\n",
      " 2 1 0 0 2 1 3 0 2 1 2 0 3 1 1 4 1 3 4 2 4 2 2 2 0 2 2 3 2 2 0 4 1 2 1 1 0\n",
      " 2 4 2 0 2 1 2 2 2 1 4 2 2 1 1 2 1 4 2 3 2 2 1 2 1 1 0 2 0 2 1 1 2 1 4 1 2\n",
      " 3 2 2 2 4 0 2 2 1 1 4 1 0 2 0]\n",
      "M step:\n",
      "[31 47 77 19 26]\n",
      "new center for 0 calculated\n",
      "new center for 1 calculated\n",
      "new center for 2 calculated\n",
      "new center for 3 calculated\n",
      "new center for 4 calculated\n",
      "Iteration  2, inertia 39.638 \n",
      "Best inertia: 39.85763836973361\n",
      "best result updated\n",
      "E step:\n",
      "labels after step E: [0 2 4 0 4 2 1 1 0 2 2 2 0 2 3 1 2 2 2 1 2 0 4 4 0 1 0 3 2 2 1 2 2 3 2 2 4\n",
      " 1 2 0 0 3 1 3 0 2 4 4 4 3 2 3 3 3 4 0 4 0 0 1 2 0 1 4 1 2 2 4 2 0 2 4 2 4\n",
      " 2 1 1 1 2 3 4 2 4 0 2 2 2 1 3 1 1 1 2 3 1 1 2 2 0 1 2 1 2 2 3 2 0 2 1 1 2\n",
      " 2 1 3 0 2 1 3 0 2 1 2 0 3 1 1 4 1 3 4 2 4 2 2 2 0 2 2 3 2 2 0 4 1 2 1 1 0\n",
      " 2 4 2 0 2 1 2 2 2 1 4 2 2 1 1 2 1 4 2 3 2 2 1 2 1 4 0 2 0 2 1 1 2 1 4 1 2\n",
      " 3 2 2 2 4 0 2 2 1 1 4 1 0 2 0]\n",
      "M step:\n",
      "[30 47 76 20 27]\n",
      "new center for 0 calculated\n",
      "new center for 1 calculated\n",
      "new center for 2 calculated\n",
      "new center for 3 calculated\n",
      "new center for 4 calculated\n",
      "Iteration  3, inertia 39.521 \n",
      "Best inertia: 39.637702920613954\n",
      "best result updated\n",
      "E step:\n",
      "labels after step E: [0 2 4 0 4 2 1 1 0 2 2 2 0 2 3 1 2 2 2 1 2 0 4 4 0 1 0 3 2 2 1 2 2 3 2 2 4\n",
      " 1 2 0 0 3 1 3 0 2 4 4 4 3 2 3 3 3 4 0 4 0 0 1 2 0 1 4 1 2 2 4 2 0 2 4 2 4\n",
      " 2 1 1 1 2 3 4 2 4 0 2 2 2 1 3 1 1 1 2 3 1 1 2 2 0 1 2 1 2 2 3 2 0 2 1 1 2\n",
      " 2 1 3 0 2 1 0 3 2 1 2 0 3 1 1 4 1 3 4 2 4 2 2 2 0 2 2 3 2 1 0 4 1 2 1 1 0\n",
      " 2 4 2 0 2 1 2 2 2 1 4 2 2 1 1 2 1 4 2 3 2 2 1 2 1 4 0 2 0 2 1 1 2 1 4 1 2\n",
      " 3 2 2 2 4 0 2 2 1 1 4 1 0 2 0]\n",
      "M step:\n",
      "[30 48 75 20 27]\n",
      "new center for 0 calculated\n",
      "new center for 1 calculated\n",
      "new center for 2 calculated\n",
      "new center for 3 calculated\n",
      "new center for 4 calculated\n",
      "Iteration  4, inertia 39.484 \n",
      "Best inertia: 39.52144116427023\n",
      "best result updated\n",
      "E step:\n",
      "labels after step E: [0 2 4 3 4 2 1 1 0 2 2 2 0 2 3 1 2 2 2 1 2 0 4 4 0 1 3 3 2 2 1 2 2 3 2 2 4\n",
      " 1 2 0 0 3 1 3 0 2 4 4 4 3 2 3 3 3 4 0 4 3 0 1 2 0 1 4 1 2 2 4 2 3 2 4 2 4\n",
      " 2 1 1 1 2 3 4 2 4 0 2 2 2 1 3 1 1 1 2 3 1 1 2 2 0 1 2 1 2 2 3 2 0 2 1 1 2\n",
      " 2 1 3 0 2 1 0 3 2 1 2 0 3 1 1 4 1 3 4 2 4 2 2 2 0 2 2 3 2 1 0 4 1 2 1 1 0\n",
      " 2 4 2 0 2 1 2 2 2 1 4 2 2 1 1 2 1 4 2 3 2 2 1 2 1 4 0 2 0 2 1 1 2 1 4 1 2\n",
      " 3 2 2 2 4 0 2 2 1 1 4 1 0 2 0]\n",
      "M step:\n",
      "[26 48 75 24 27]\n",
      "new center for 0 calculated\n",
      "new center for 1 calculated\n",
      "new center for 2 calculated\n",
      "new center for 3 calculated\n",
      "new center for 4 calculated\n",
      "Iteration  5, inertia 39.388 \n",
      "Best inertia: 39.4844234349177\n",
      "best result updated\n",
      "E step:\n",
      "labels after step E: [0 2 4 3 4 2 1 1 0 2 2 2 0 2 3 1 2 2 2 1 2 0 4 4 0 1 3 3 2 2 1 2 2 3 2 2 4\n",
      " 1 2 0 0 3 1 3 0 2 4 4 4 3 2 3 3 3 4 3 4 3 0 1 2 0 1 4 1 2 2 4 2 3 2 4 2 4\n",
      " 2 1 1 1 2 3 4 2 4 0 3 2 2 1 3 1 1 1 2 3 1 1 2 2 0 1 2 1 2 2 3 2 3 2 1 1 2\n",
      " 2 1 3 0 2 1 0 3 2 1 2 3 3 1 1 4 1 3 4 2 4 2 2 2 0 2 2 3 2 1 3 4 1 2 1 1 0\n",
      " 2 4 2 0 2 1 2 2 2 1 4 2 3 1 3 2 1 4 2 3 2 2 1 2 1 4 3 2 0 2 1 1 2 1 4 1 2\n",
      " 3 2 2 2 4 0 2 2 1 1 4 1 0 2 3]\n",
      "M step:\n",
      "[20 47 73 33 27]\n",
      "new center for 0 calculated\n",
      "new center for 1 calculated\n",
      "new center for 2 calculated\n",
      "new center for 3 calculated\n",
      "new center for 4 calculated\n",
      "Iteration  6, inertia 39.090 \n",
      "Best inertia: 39.38838764636725\n",
      "best result updated\n",
      "E step:\n",
      "labels after step E: [0 2 4 3 4 2 1 1 0 2 2 2 0 2 3 1 3 2 2 1 2 0 4 4 0 1 3 3 2 2 1 2 2 3 2 2 4\n",
      " 1 2 0 0 3 1 3 3 2 4 4 4 3 2 3 3 3 4 3 4 3 0 1 2 0 1 4 1 2 2 4 2 3 2 4 3 4\n",
      " 2 1 1 1 2 3 4 2 4 0 3 2 2 1 3 1 1 1 2 3 1 1 2 2 0 1 2 1 2 2 3 2 3 2 1 1 2\n",
      " 2 1 3 0 2 1 0 3 2 1 2 3 3 1 1 4 1 3 4 2 4 2 2 2 0 2 2 3 2 1 3 4 1 2 1 1 0\n",
      " 2 4 2 0 2 1 2 2 2 1 4 2 3 1 3 3 2 4 3 3 2 2 1 2 1 4 3 2 0 2 1 1 2 1 4 1 2\n",
      " 3 2 2 2 4 0 2 2 1 1 4 1 0 3 3]\n",
      "M step:\n",
      "[19 46 69 39 27]\n",
      "new center for 0 calculated\n",
      "new center for 1 calculated\n",
      "new center for 2 calculated\n",
      "new center for 3 calculated\n",
      "new center for 4 calculated\n",
      "Iteration  7, inertia 38.641 \n",
      "Best inertia: 39.09015647612375\n",
      "best result updated\n",
      "E step:\n",
      "labels after step E: [0 2 4 3 4 2 1 1 0 2 2 3 0 2 3 1 3 2 2 1 2 0 4 4 0 1 3 3 2 2 1 2 2 0 2 2 4\n",
      " 1 2 0 0 3 1 3 3 2 4 4 4 3 2 3 3 3 4 3 4 3 0 1 2 0 1 4 1 2 2 4 2 3 2 4 3 4\n",
      " 2 1 1 1 2 0 4 2 4 0 3 2 2 1 3 1 1 1 2 3 1 1 2 2 0 1 2 1 2 2 3 2 3 2 1 1 2\n",
      " 2 1 3 0 3 1 0 3 2 1 2 3 3 1 1 4 1 3 4 2 4 2 2 2 0 2 2 3 2 1 3 4 1 2 1 1 0\n",
      " 2 4 2 0 2 1 2 1 2 1 4 2 3 1 3 3 2 4 3 3 2 2 1 2 1 4 3 2 0 2 1 1 2 1 4 1 2\n",
      " 3 2 2 2 4 0 2 2 1 1 4 1 0 3 3]\n",
      "M step:\n",
      "[21 47 66 39 27]\n",
      "new center for 0 calculated\n",
      "new center for 1 calculated\n",
      "new center for 2 calculated\n",
      "new center for 3 calculated\n",
      "new center for 4 calculated\n",
      "Iteration  8, inertia 38.504 \n",
      "Best inertia: 38.64084761476478\n",
      "best result updated\n",
      "E step:\n",
      "labels after step E: [0 2 4 3 4 2 1 1 0 2 2 3 0 2 0 1 3 1 2 2 2 0 4 4 0 1 3 3 2 2 1 2 2 0 2 2 4\n",
      " 1 2 0 0 3 1 0 3 2 4 4 4 3 2 3 0 3 4 3 4 3 0 1 2 0 1 4 1 2 2 4 2 3 2 4 3 4\n",
      " 2 1 1 1 2 0 4 2 4 0 3 2 2 1 3 1 1 1 2 3 1 1 2 2 0 1 2 1 2 2 3 2 3 2 1 1 2\n",
      " 2 1 3 0 3 1 0 3 2 1 1 3 3 1 1 4 1 3 4 2 4 2 2 2 0 1 2 3 2 1 3 4 1 2 1 1 0\n",
      " 2 4 2 0 2 1 2 1 2 1 4 2 3 1 3 3 2 4 3 3 2 2 1 2 1 4 3 2 0 2 1 1 2 1 4 1 2\n",
      " 3 2 2 2 4 0 2 2 1 1 4 1 0 3 3]\n",
      "M step:\n",
      "[24 49 64 36 27]\n",
      "new center for 0 calculated\n",
      "new center for 1 calculated\n",
      "new center for 2 calculated\n",
      "new center for 3 calculated\n",
      "new center for 4 calculated\n",
      "Iteration  9, inertia 38.398 \n",
      "Best inertia: 38.50428856515651\n",
      "best result updated\n",
      "E step:\n",
      "labels after step E: [0 2 4 3 4 2 1 1 0 2 2 3 0 2 0 1 3 1 2 2 2 0 4 4 0 1 3 3 2 2 1 2 2 0 2 2 4\n",
      " 1 2 0 0 3 1 0 3 2 4 4 4 0 2 3 0 3 4 3 4 3 0 1 2 0 1 4 1 2 2 4 2 3 2 4 3 4\n",
      " 2 1 1 1 2 0 4 2 4 0 3 1 2 1 3 1 1 1 2 0 1 1 2 2 0 1 2 1 3 2 3 2 3 2 4 1 1\n",
      " 2 1 3 0 3 1 0 3 2 1 1 3 3 1 1 4 1 3 4 2 4 2 2 2 0 1 2 3 2 1 3 4 1 2 1 1 0\n",
      " 2 4 2 0 2 1 2 1 2 1 4 2 3 1 3 3 2 4 3 3 3 2 1 2 1 4 3 2 0 2 1 1 2 1 4 1 2\n",
      " 3 2 2 2 4 0 1 2 1 1 4 1 0 3 3]\n",
      "M step:\n",
      "[26 51 59 36 28]\n",
      "new center for 0 calculated\n",
      "new center for 1 calculated\n",
      "new center for 2 calculated\n",
      "new center for 3 calculated\n",
      "new center for 4 calculated\n",
      "Iteration 10, inertia 38.264 \n",
      "Best inertia: 38.398442148454336\n",
      "best result updated\n",
      "E step:\n",
      "labels after step E: [0 2 4 3 4 2 1 1 0 2 1 3 0 2 0 1 3 1 2 2 2 0 4 4 0 1 3 0 2 2 1 2 2 0 2 2 4\n",
      " 1 1 0 0 3 1 0 3 2 4 4 4 0 2 3 0 3 4 3 4 3 0 1 2 0 1 4 1 2 2 4 2 3 2 4 3 4\n",
      " 2 1 1 1 2 0 4 2 4 0 3 1 2 1 3 1 1 1 2 0 1 1 3 2 0 1 2 1 3 2 3 2 3 2 4 2 1\n",
      " 2 1 3 0 3 1 0 3 2 1 1 3 3 1 4 4 1 3 4 2 4 2 2 2 0 1 2 3 2 1 3 4 1 2 1 1 0\n",
      " 2 4 2 0 2 1 2 1 2 1 4 2 3 4 1 3 2 4 3 3 3 2 1 2 1 4 3 1 0 2 4 1 2 1 4 1 2\n",
      " 3 2 3 2 4 0 1 2 1 1 4 4 0 3 3]\n",
      "M step:\n",
      "[27 50 55 36 32]\n",
      "new center for 0 calculated\n",
      "new center for 1 calculated\n",
      "new center for 2 calculated\n",
      "new center for 3 calculated\n",
      "new center for 4 calculated\n",
      "Iteration 11, inertia 38.054 \n",
      "Best inertia: 38.26362630371419\n",
      "best result updated\n",
      "E step:\n",
      "labels after step E: [0 2 4 3 4 2 1 1 0 2 1 3 0 2 0 1 3 1 1 2 2 0 4 4 0 4 3 0 2 2 1 2 2 0 2 2 4\n",
      " 1 1 0 0 3 1 0 3 2 4 4 4 0 2 3 0 3 4 3 4 3 0 1 2 0 1 4 1 2 2 4 2 3 2 4 3 4\n",
      " 2 1 1 2 2 0 4 2 4 0 3 1 2 4 3 4 1 4 2 0 1 1 3 2 0 1 2 1 3 2 1 2 3 2 4 2 1\n",
      " 2 1 3 0 3 1 0 3 2 1 1 3 3 4 4 4 1 3 4 2 4 2 2 3 0 1 2 1 2 1 3 4 1 2 1 4 0\n",
      " 1 4 2 0 2 1 2 1 2 1 4 2 3 4 1 3 2 4 3 3 3 2 1 2 1 4 3 1 0 2 4 1 2 1 4 1 2\n",
      " 3 2 3 2 4 0 1 2 1 1 4 4 0 3 3]\n",
      "M step:\n",
      "[27 47 53 35 38]\n",
      "new center for 0 calculated\n",
      "new center for 1 calculated\n",
      "new center for 2 calculated\n",
      "new center for 3 calculated\n",
      "new center for 4 calculated\n",
      "Iteration 12, inertia 37.670 \n",
      "Best inertia: 38.05402751641059\n",
      "best result updated\n",
      "E step:\n",
      "labels after step E: [0 2 4 3 4 2 1 1 0 2 1 3 0 1 0 1 1 1 1 2 2 0 4 4 0 4 3 0 2 2 1 2 2 0 2 2 4\n",
      " 1 1 0 0 3 1 0 3 2 4 4 4 0 2 3 0 3 4 3 4 3 0 1 2 0 1 4 1 2 2 4 1 3 2 4 3 4\n",
      " 2 1 1 4 1 0 4 2 4 0 3 3 2 4 0 4 1 4 2 0 1 1 3 2 0 1 2 1 3 2 1 2 3 2 4 2 1\n",
      " 2 1 3 0 3 1 0 3 2 1 1 3 3 4 4 4 1 3 4 2 4 2 2 1 0 1 2 1 2 1 3 4 1 2 1 4 0\n",
      " 1 4 1 0 2 1 2 1 2 1 4 2 3 4 1 3 2 4 3 1 3 2 1 2 1 4 3 1 0 2 4 1 2 4 4 1 2\n",
      " 3 2 3 2 4 0 1 3 3 3 4 4 0 3 3]\n",
      "M step:\n",
      "[28 50 47 35 40]\n",
      "new center for 0 calculated\n",
      "new center for 1 calculated\n",
      "new center for 2 calculated\n",
      "new center for 3 calculated\n",
      "new center for 4 calculated\n",
      "Iteration 13, inertia 37.189 \n",
      "Best inertia: 37.66950111784689\n",
      "best result updated\n",
      "E step:\n",
      "labels after step E: [0 2 4 3 4 2 1 1 0 1 1 3 0 1 0 1 1 1 1 2 2 0 4 4 0 4 1 0 2 2 1 1 2 0 1 2 4\n",
      " 1 1 0 0 0 1 0 3 2 4 4 4 0 2 3 0 3 4 3 4 3 0 1 2 0 3 4 1 1 1 4 1 3 2 4 3 4\n",
      " 2 1 1 4 1 0 4 2 4 0 3 3 2 4 0 4 1 4 1 0 1 1 3 2 0 1 2 1 3 1 1 2 3 1 4 2 1\n",
      " 1 1 3 0 3 1 0 3 2 1 1 0 3 4 4 4 1 0 4 2 4 2 2 1 0 1 2 1 2 1 3 4 1 2 1 4 0\n",
      " 1 4 1 0 2 1 1 1 2 1 4 2 1 4 1 3 2 4 3 1 3 2 1 2 1 4 3 1 0 2 4 1 2 4 4 3 2\n",
      " 3 2 3 2 4 0 1 3 3 3 4 4 0 3 3]\n",
      "M step:\n",
      "[31 60 37 32 40]\n",
      "new center for 0 calculated\n",
      "new center for 1 calculated\n",
      "new center for 2 calculated\n",
      "new center for 3 calculated\n",
      "new center for 4 calculated\n",
      "Iteration 14, inertia 36.362 \n",
      "Best inertia: 37.1889978854241\n",
      "best result updated\n",
      "E step:\n",
      "labels after step E: [0 2 4 3 4 2 3 1 0 1 1 3 0 1 0 1 1 1 1 2 1 0 4 4 0 4 1 0 2 2 1 1 2 0 1 2 4\n",
      " 1 1 0 0 0 1 0 3 1 4 4 4 0 1 0 0 3 4 3 4 3 0 3 2 0 3 4 1 1 1 4 1 3 2 4 3 4\n",
      " 2 1 4 4 1 0 4 1 4 0 3 3 2 4 0 4 4 4 1 0 3 3 3 1 0 3 2 1 3 1 1 1 3 1 4 2 3\n",
      " 1 1 3 0 3 1 0 3 2 1 1 0 3 4 4 4 4 0 4 2 4 2 1 1 0 3 2 1 2 1 3 4 1 2 3 4 0\n",
      " 1 4 1 0 2 1 1 1 2 1 4 1 1 4 1 3 1 4 3 1 3 2 1 2 4 4 3 1 0 2 4 1 2 4 4 3 2\n",
      " 3 2 3 2 4 0 1 3 3 3 4 4 0 3 3]\n",
      "M step:\n",
      "[32 57 28 39 44]\n",
      "new center for 0 calculated\n",
      "new center for 1 calculated\n",
      "new center for 2 calculated\n",
      "new center for 3 calculated\n",
      "new center for 4 calculated\n",
      "Iteration 15, inertia 34.479 \n",
      "Best inertia: 36.362088428151125\n",
      "best result updated\n",
      "E step:\n",
      "labels after step E: [0 3 4 3 4 2 3 1 0 1 1 3 0 1 0 1 1 1 1 2 1 0 4 4 0 4 1 0 2 1 1 1 3 0 1 2 4\n",
      " 3 1 0 0 0 1 0 3 1 4 4 4 0 1 0 0 3 4 0 4 3 0 3 2 0 3 4 1 1 1 4 1 3 2 4 3 4\n",
      " 2 1 4 4 1 0 4 1 4 0 3 3 2 4 0 4 4 4 1 0 3 3 3 1 0 3 2 1 3 1 1 1 3 1 4 2 3\n",
      " 1 4 3 0 3 1 0 3 2 4 3 1 3 4 4 4 4 0 4 2 4 2 1 1 0 3 2 1 2 1 2 4 1 2 3 2 0\n",
      " 1 4 1 0 2 1 1 1 2 1 4 1 1 4 1 2 1 4 3 1 3 2 1 2 4 4 3 1 0 2 4 1 2 4 4 3 2\n",
      " 3 2 3 2 4 0 1 3 3 3 4 4 0 3 3]\n",
      "M step:\n",
      "[32 55 28 40 45]\n",
      "new center for 0 calculated\n",
      "new center for 1 calculated\n",
      "new center for 2 calculated\n",
      "new center for 3 calculated\n",
      "new center for 4 calculated\n",
      "Iteration 16, inertia 33.318 \n",
      "Best inertia: 34.47881802847471\n",
      "best result updated\n",
      "E step:\n",
      "labels after step E: [0 3 4 3 4 2 3 1 0 1 1 3 0 1 0 1 1 1 1 2 1 0 4 4 0 4 1 0 2 1 1 1 3 0 1 2 4\n",
      " 3 3 0 0 0 1 0 0 1 4 4 4 0 1 0 0 3 4 0 4 3 0 3 2 0 3 4 1 1 1 4 1 3 2 4 3 4\n",
      " 2 3 4 4 1 0 4 1 4 0 3 3 2 4 0 4 4 2 1 0 3 3 3 1 0 3 2 4 3 1 1 3 3 1 4 2 3\n",
      " 1 4 3 0 3 1 0 3 2 4 3 1 3 4 4 4 4 0 4 2 4 2 1 1 0 3 2 1 2 1 2 4 1 2 3 2 0\n",
      " 1 4 1 0 2 1 1 1 2 4 4 1 1 4 1 2 1 4 3 1 3 2 1 2 4 4 3 1 0 2 4 1 2 4 4 3 2\n",
      " 3 2 3 2 4 0 1 3 3 3 4 4 0 3 3]\n",
      "M step:\n",
      "[33 50 29 42 46]\n",
      "new center for 0 calculated\n",
      "new center for 1 calculated\n",
      "new center for 2 calculated\n",
      "new center for 3 calculated\n",
      "new center for 4 calculated\n",
      "Iteration 17, inertia 33.159 \n",
      "Best inertia: 33.31845930335208\n",
      "best result updated\n",
      "E step:\n",
      "labels after step E: [0 3 4 3 4 2 3 3 0 1 1 3 0 1 0 3 1 1 1 2 1 0 4 4 0 4 1 0 2 1 1 1 3 0 1 2 4\n",
      " 3 3 0 0 0 1 0 0 1 4 4 4 0 1 0 0 3 4 0 4 3 0 3 2 0 3 4 1 1 1 4 3 3 2 4 3 4\n",
      " 2 3 4 4 1 0 4 1 4 0 3 3 2 4 0 4 4 2 1 0 3 3 3 1 0 3 2 4 3 1 1 3 0 1 4 2 3\n",
      " 1 4 3 0 3 4 0 3 2 4 3 1 3 4 4 4 4 0 4 2 4 2 1 1 0 3 2 1 2 3 2 4 1 2 3 2 0\n",
      " 1 4 1 0 2 1 1 1 2 4 4 1 1 4 1 2 1 4 3 1 3 2 1 2 4 4 3 1 0 2 4 1 2 4 4 3 2\n",
      " 3 2 3 2 4 0 1 3 3 3 4 4 0 3 3]\n",
      "M step:\n",
      "[34 45 29 45 47]\n",
      "new center for 0 calculated\n",
      "new center for 1 calculated\n",
      "new center for 2 calculated\n",
      "new center for 3 calculated\n",
      "new center for 4 calculated\n",
      "Iteration 18, inertia 33.056 \n",
      "Best inertia: 33.15944431930336\n",
      "best result updated\n",
      "E step:\n",
      "labels after step E: [0 3 4 3 4 2 3 3 0 1 1 3 0 1 0 3 1 1 1 2 1 0 4 4 0 4 1 0 2 1 1 1 3 0 1 2 4\n",
      " 3 3 0 0 0 4 0 0 1 4 4 4 0 1 0 0 3 4 0 4 3 0 3 2 0 3 4 1 1 1 4 3 0 2 4 3 4\n",
      " 2 3 4 4 1 0 4 1 4 0 3 3 2 4 0 4 4 2 1 0 3 3 3 1 0 3 2 4 3 1 1 3 0 1 4 2 3\n",
      " 1 4 3 0 3 4 0 3 2 4 3 1 3 4 4 4 4 0 4 2 4 2 1 1 0 3 2 1 2 3 2 4 1 2 3 2 0\n",
      " 1 4 1 0 2 1 1 3 2 4 4 1 1 4 1 2 1 4 3 1 3 2 1 2 4 4 3 3 0 2 4 4 2 4 4 3 2\n",
      " 0 2 3 2 4 0 1 3 3 3 4 4 0 3 3]\n",
      "M step:\n",
      "[36 41 29 45 49]\n",
      "new center for 0 calculated\n",
      "new center for 1 calculated\n",
      "new center for 2 calculated\n",
      "new center for 3 calculated\n",
      "new center for 4 calculated\n",
      "Iteration 19, inertia 32.947 \n",
      "Best inertia: 33.05550738131796\n",
      "best result updated\n"
     ]
    }
   ],
   "source": [
    "labels, inertia, centers, distances, iterNb = _k_means_single(X, 5, init='k_means',max_iter =20, verbose = True)"
   ]
  },
  {
   "cell_type": "code",
   "execution_count": 53,
   "metadata": {
    "collapsed": false
   },
   "outputs": [],
   "source": [
    "m1 = np.array([0, 0, 0.4705075, 0, 0, 0, 0, 0.5294925])\n",
    "m2 = np.array([0, 0, 0, 0, 0.09643297, 0, 0, 0.9035670])\n",
    "m3 = np.array([0, 0.7657971, 0,    0, 0 ,   0,    0, 0.2342029])\n",
    "m4 = np.array([0, 0.6981436, 0,  0, 0,    0,    0, 0.3018564])\n",
    "m5 = np.array([0, 0.0673869, 0,  0, 0,  0 ,   0, 0.9326131])\n",
    "m6 = np.array([0, 0.6210247, 0,  0, 0,   0 ,   0, 0.3789753])\n",
    "m7 = np.array([0, 0, 0.1509951 ,   0, 0,   0,    0, 0.8490049])\n",
    "m8 = np.array([0, 0.3991368, 0,  0, 0,  0, 0, 0.6008632])\n",
    "m9 = np.array([0, 0, 0.5140124 , 0, 0, 0 ,0, 0.4859876])\n",
    "m10 = np.array([0, 0.3716902, 0, 0, 0,  0 , 0 ,0.6283098])"
   ]
  },
  {
   "cell_type": "code",
   "execution_count": 52,
   "metadata": {
    "collapsed": false,
    "scrolled": true
   },
   "outputs": [],
   "source": [
    "from center_cal import one_mass_center_calculate\n",
    "def euclid_center(m_N):\n",
    "    return np.mean(m_N, axis = 0)\n",
    "def two_center_close(m_N):\n",
    "    return np.allclose(one_mass_center_calculate(m_N), euclid_center(m_N))\n"
   ]
  },
  {
   "cell_type": "code",
   "execution_count": 55,
   "metadata": {
    "collapsed": false
   },
   "outputs": [
    {
     "data": {
      "text/plain": [
       "True"
      ]
     },
     "execution_count": 55,
     "metadata": {},
     "output_type": "execute_result"
    }
   ],
   "source": [
    "m_N = np.vstack((m1,m2,m3,m4, m5))\n",
    "two_center_close(m_N)"
   ]
  },
  {
   "cell_type": "markdown",
   "metadata": {},
   "source": [
    "conclusion: J_O combinaition on singleton is merely mean value."
   ]
  },
  {
   "cell_type": "code",
   "execution_count": 17,
   "metadata": {
    "collapsed": false,
    "scrolled": true
   },
   "outputs": [
    {
     "name": "stdout",
     "output_type": "stream",
     "text": [
      "[  3.75000000e-09   3.74999990e-09   2.35253754e-01   2.18476031e-16\n",
      "   4.82164887e-02   4.96031787e-16   5.24580379e-16   7.16529750e-01]\n",
      "center1 [  1.87499998e-09   3.82898552e-01   1.17626877e-01   1.67921232e-16\n",
      "   2.41082444e-02  -5.41233725e-17   3.78863607e-16   4.75366325e-01]\n",
      "center2 [  2.49999999e-09   2.55265703e-01   1.56835836e-01  -2.27992228e-16\n",
      "   3.21443258e-02  -1.39174386e-16   1.74860126e-16   5.55754133e-01]\n"
     ]
    }
   ],
   "source": [
    "m1 = np.array([0, 0, 0.4705075, 0, 0, 0, 0, 0.5294925])\n",
    "m2 = np.array([0, 0, 0, 0, 0.09643297, 0, 0, 0.9035670])\n",
    "m3 = np.array([0, 0.7657971, 0,    0, 0 ,   0,    0, 0.2342029])\n",
    "m_N = np.vstack((m1,m2))\n",
    "c1 = one_mass_center_calculate(m_N)\n",
    "print(c1)\n",
    "print(\"center1\", one_mass_center_calculate(np.vstack((c1, m3))))\n",
    "print(\"center2\", one_mass_center_calculate(np.vstack((m1,m2,m3))))"
   ]
  },
  {
   "cell_type": "markdown",
   "metadata": {},
   "source": [
    "conclusion: J_O combination is not associative (it's normal, like average method)"
   ]
  },
  {
   "cell_type": "code",
   "execution_count": 15,
   "metadata": {
    "collapsed": false
   },
   "outputs": [
    {
     "name": "stdout",
     "output_type": "stream",
     "text": [
      "[[ 0.50075975  0.          0.          0.          0.          0.4992402\n",
      "   0.          0.        ]\n",
      " [ 0.          0.          0.          0.          0.09643297  0.          0.\n",
      "   0.903567  ]]\n",
      "[  2.50379885e-01   9.99999979e-09   9.99999981e-09   5.41233725e-16\n",
      "   4.82164950e-02   2.49620100e-01   4.95437025e-16   4.51783500e-01]\n"
     ]
    }
   ],
   "source": [
    "m1 = np.array([0.50075975, 0.000000, 0.0000000 ,   0, 0.00000000, 0.4992402, 0.0000000, 0.0000000])\n",
    "m2 = np.array([0, 0, 0, 0, 0.09643297, 0, 0, 0.9035670])\n",
    "m_N = np.vstack((m1,m2))\n",
    "print(m_N)\n",
    "center = one_mass_center_calculate(m_N)\n",
    "print(center)"
   ]
  },
  {
   "cell_type": "code",
   "execution_count": 18,
   "metadata": {
    "collapsed": false
   },
   "outputs": [
    {
     "name": "stdout",
     "output_type": "stream",
     "text": [
      "[[ 0.1  0.1  0.1  0.1  0.1  0.1  0.1  0.3]\n",
      " [ 0.   0.   0.   0.   0.   0.   0.   1. ]]\n",
      "[ 0.05  0.05  0.05  0.05  0.05  0.05  0.05  0.65]\n"
     ]
    }
   ],
   "source": [
    "m1 = np.array([0.1, 0.1, 0.1 , 0.1, 0.1, 0.1, 0.1, 0.3])\n",
    "m2 = np.array([0, 0, 0, 0, 0, 0, 0, 1])\n",
    "m_N = np.vstack((m1,m2))\n",
    "print(m_N)\n",
    "center = one_mass_center_calculate(m_N)\n",
    "print(center)"
   ]
  },
  {
   "cell_type": "code",
   "execution_count": null,
   "metadata": {
    "collapsed": true
   },
   "outputs": [],
   "source": []
  },
  {
   "cell_type": "code",
   "execution_count": 57,
   "metadata": {
    "collapsed": false
   },
   "outputs": [
    {
     "name": "stdout",
     "output_type": "stream",
     "text": [
      "[[ 1.  0.  0.  0.  0.  0.  0.  0.]\n",
      " [ 0.  0.  0.  0.  0.  0.  0.  1.]]\n",
      "[  5.00000000e-01  -2.06184276e-16  -2.25216671e-16   5.89211219e-16\n",
      "  -2.03012210e-16   5.44802299e-16   5.82867088e-16   5.00000000e-01]\n"
     ]
    }
   ],
   "source": [
    "m1 = np.array([1.0, 0, 0 , 0, 0, 0, 0, 0])\n",
    "m2 = np.array([0, 0, 0, 0, 0, 0, 0, 1.0])\n",
    "m_N = np.vstack((m1,m2))\n",
    "print(m_N)\n",
    "center = one_mass_center_calculate(m_N)\n",
    "print(center)"
   ]
  },
  {
   "cell_type": "code",
   "execution_count": 31,
   "metadata": {
    "collapsed": false
   },
   "outputs": [
    {
     "name": "stdout",
     "output_type": "stream",
     "text": [
      "[[ 0.1  0.1  0.1  0.1  0.1  0.1  0.1  0.3]\n",
      " [ 0.   0.   0.3  0.2  0.   0.   0.   0.5]\n",
      " [ 0.   0.   0.   0.   0.   0.   1.   0. ]]\n",
      "[ 0.03333333  0.03333333  0.13333333  0.1         0.03333333  0.03333333\n",
      "  0.36666667  0.26666667]\n"
     ]
    }
   ],
   "source": [
    "m1 = np.array([0.1, 0.1, 0.1 , 0.1, 0.1, 0.1, 0.1, 0.3])\n",
    "m2 = np.array([0, 0, 0.3, 0.2, 0, 0, 0, 0.5])\n",
    "m3 = np.array([0,0,0,0,0,0,1, 0])\n",
    "m_N = np.vstack((m1,m2,m3))\n",
    "print(m_N)\n",
    "center = one_mass_center_calculate(m_N)\n",
    "print(center)"
   ]
  }
 ],
 "metadata": {
  "kernelspec": {
   "display_name": "Python 3",
   "language": "python",
   "name": "python3"
  },
  "language_info": {
   "codemirror_mode": {
    "name": "ipython",
    "version": 3
   },
   "file_extension": ".py",
   "mimetype": "text/x-python",
   "name": "python",
   "nbconvert_exporter": "python",
   "pygments_lexer": "ipython3",
   "version": "3.5.2"
  }
 },
 "nbformat": 4,
 "nbformat_minor": 1
}
