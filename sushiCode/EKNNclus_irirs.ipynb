{
 "cells": [
  {
   "cell_type": "code",
   "execution_count": 1,
   "metadata": {
    "collapsed": true
   },
   "outputs": [],
   "source": [
    "%matplotlib qt5"
   ]
  },
  {
   "cell_type": "code",
   "execution_count": 2,
   "metadata": {
    "collapsed": false
   },
   "outputs": [
    {
     "name": "stdout",
     "output_type": "stream",
     "text": [
      "[[ 1.   0.   0.   0. ]\n",
      " [ 0.   1.   0.   0.5]\n",
      " [ 0.   0.   1.   0.5]\n",
      " [ 0.   0.5  0.5  1. ]]\n",
      "center:[  1.85037171e-17   4.66666667e-01   2.33333333e-01   3.00000000e-01]\n"
     ]
    }
   ],
   "source": [
    "import numpy as np\n",
    "import matplotlib.pyplot as plt\n",
    "# Though the following import is not directly being used, it is required\n",
    "# for 3D projection to work\n",
    "from mpl_toolkits.mplot3d import Axes3D\n",
    "from sklearn import datasets\n",
    "from sklearn.metrics.pairwise import euclidean_distances\n",
    "\n",
    "import EKNNclus"
   ]
  },
  {
   "cell_type": "code",
   "execution_count": 3,
   "metadata": {
    "collapsed": true
   },
   "outputs": [],
   "source": [
    "iris = datasets.load_iris()"
   ]
  },
  {
   "cell_type": "code",
   "execution_count": 4,
   "metadata": {
    "collapsed": false
   },
   "outputs": [],
   "source": [
    "X=iris.data\n",
    "y = iris.target"
   ]
  },
  {
   "cell_type": "code",
   "execution_count": 5,
   "metadata": {
    "collapsed": false
   },
   "outputs": [],
   "source": [
    "dist_mat = euclidean_distances(X,X)"
   ]
  },
  {
   "cell_type": "code",
   "execution_count": 9,
   "metadata": {
    "collapsed": false
   },
   "outputs": [
    {
     "data": {
      "text/plain": [
       "array([[ 0.        ,  0.53851648,  0.50990195, ...,  4.45982062,\n",
       "         4.65080638,  4.14004831],\n",
       "       [ 0.53851648,  0.        ,  0.3       , ...,  4.49888875,\n",
       "         4.71805044,  4.15331193],\n",
       "       [ 0.50990195,  0.3       ,  0.        , ...,  4.66154481,\n",
       "         4.84871117,  4.29883705],\n",
       "       ..., \n",
       "       [ 4.45982062,  4.49888875,  4.66154481, ...,  0.        ,\n",
       "         0.6164414 ,  0.64031242],\n",
       "       [ 4.65080638,  4.71805044,  4.84871117, ...,  0.6164414 ,\n",
       "         0.        ,  0.76811457],\n",
       "       [ 4.14004831,  4.15331193,  4.29883705, ...,  0.64031242,\n",
       "         0.76811457,  0.        ]])"
      ]
     },
     "execution_count": 9,
     "metadata": {},
     "output_type": "execute_result"
    }
   ],
   "source": [
    "dist_mat"
   ]
  },
  {
   "cell_type": "code",
   "execution_count": 6,
   "metadata": {
    "collapsed": false
   },
   "outputs": [
    {
     "name": "stdout",
     "output_type": "stream",
     "text": [
      "0 1 143 16\n",
      "0 2 24 5\n",
      "0 3 3 5\n",
      "0 4 0 5\n",
      "1 1 140 17\n",
      "1 2 32 7\n",
      "1 3 10 5\n",
      "1 4 1 5\n",
      "1 5 0 5\n",
      "2 1 142 14\n",
      "2 2 17 4\n",
      "2 3 6 4\n",
      "2 4 4 3\n",
      "2 5 0 3\n",
      "3 1 142 13\n",
      "3 2 17 5\n",
      "3 3 1 5\n",
      "3 4 0 5\n",
      "4 1 144 15\n",
      "4 2 22 6\n",
      "4 3 10 4\n",
      "4 4 0 4\n",
      "5 1 142 15\n",
      "5 2 26 4\n",
      "5 3 3 3\n",
      "5 4 0 3\n",
      "6 1 141 21\n",
      "6 2 25 5\n",
      "6 3 0 5\n",
      "7 1 143 18\n",
      "7 2 35 4\n",
      "7 3 0 4\n",
      "8 1 144 14\n",
      "8 2 22 5\n",
      "8 3 1 4\n",
      "8 4 0 4\n",
      "9 1 144 21\n",
      "9 2 33 6\n",
      "9 3 8 4\n",
      "9 4 4 4\n",
      "9 5 3 4\n",
      "9 6 2 4\n",
      "9 7 0 4\n",
      "10 1 145 11\n",
      "10 2 11 4\n",
      "10 3 1 4\n",
      "10 4 0 4\n",
      "11 1 145 9\n",
      "11 2 18 4\n",
      "11 3 2 4\n",
      "11 4 1 4\n",
      "11 5 0 4\n",
      "12 1 144 14\n",
      "12 2 16 4\n",
      "12 3 1 4\n",
      "12 4 0 4\n",
      "13 1 141 20\n",
      "13 2 29 7\n",
      "13 3 14 5\n",
      "13 4 0 5\n",
      "14 1 147 13\n",
      "14 2 23 3\n",
      "14 3 0 3\n",
      "15 1 143 12\n",
      "15 2 14 4\n",
      "15 3 0 4\n",
      "16 1 141 15\n",
      "16 2 32 6\n",
      "16 3 6 5\n",
      "16 4 1 5\n",
      "16 5 0 5\n",
      "17 1 143 12\n",
      "17 2 21 6\n",
      "17 3 8 5\n",
      "17 4 1 4\n",
      "17 5 0 4\n",
      "18 1 145 12\n",
      "18 2 15 4\n",
      "18 3 0 4\n",
      "19 1 143 18\n",
      "19 2 26 6\n",
      "19 3 2 6\n",
      "19 4 0 6\n"
     ]
    }
   ],
   "source": [
    "clus = EKNNclus.EKNNclus_Th(X, K = 30,D = dist_mat, ntrials=20, y0 = list(range(X.shape[0])),tr = True)"
   ]
  },
  {
   "cell_type": "code",
   "execution_count": 7,
   "metadata": {
    "collapsed": false
   },
   "outputs": [
    {
     "data": {
      "text/plain": [
       "array([0, 1, 2])"
      ]
     },
     "execution_count": 7,
     "metadata": {},
     "output_type": "execute_result"
    }
   ],
   "source": [
    "np.unique(clus)"
   ]
  },
  {
   "cell_type": "code",
   "execution_count": 8,
   "metadata": {
    "collapsed": false
   },
   "outputs": [],
   "source": [
    "fignum=1\n",
    "fig = plt.figure(fignum, figsize=(4, 3))\n",
    "ax = Axes3D(fig, rect=[0, 0, .95, 1], elev=48, azim=134)\n",
    "\n",
    "labels = clus\n",
    "\n",
    "ax.scatter(X[:, 3], X[:, 0], X[:, 2],\n",
    "               c=labels.astype(np.float))#, edgecolor='k')\n",
    "\n",
    "ax.w_xaxis.set_ticklabels([])\n",
    "ax.w_yaxis.set_ticklabels([])\n",
    "ax.w_zaxis.set_ticklabels([])\n",
    "ax.set_xlabel('Petal width')\n",
    "ax.set_ylabel('Sepal length')\n",
    "ax.set_zlabel('Petal length')\n",
    "#ax.set_title(titles[fignum - 1])\n",
    "ax.dist = 12\n",
    "fignum = fignum + 1\n",
    "\n",
    "# Plot the ground truth\n",
    "fig = plt.figure(fignum, figsize=(4, 3))\n",
    "ax = Axes3D(fig, rect=[0, 0, .95, 1], elev=48, azim=134)\n",
    "\n",
    "for name, label in [('Setosa', 0),\n",
    "                    ('Versicolour', 1),\n",
    "                    ('Virginica', 2)]:\n",
    "    ax.text3D(X[y == label, 3].mean(),\n",
    "              X[y == label, 0].mean(),\n",
    "              X[y == label, 2].mean() + 2, name,\n",
    "              horizontalalignment='center',\n",
    "              bbox=dict(alpha=.2, edgecolor='w', facecolor='w'))\n",
    "# Reorder the labels to have colors matching the cluster results\n",
    "y = np.choose(y, [1, 2, 0]).astype(np.float)\n",
    "ax.scatter(X[:, 3], X[:, 0], X[:, 2], c=y)#, edgecolor='k')\n",
    "\n",
    "ax.w_xaxis.set_ticklabels([])\n",
    "ax.w_yaxis.set_ticklabels([])\n",
    "ax.w_zaxis.set_ticklabels([])\n",
    "ax.set_xlabel('Petal width')\n",
    "ax.set_ylabel('Sepal length')\n",
    "ax.set_zlabel('Petal length')\n",
    "ax.set_title('Ground Truth')\n",
    "ax.dist = 12\n",
    "\n",
    "fig.show()"
   ]
  }
 ],
 "metadata": {
  "kernelspec": {
   "display_name": "Python 3",
   "language": "python",
   "name": "python3"
  },
  "language_info": {
   "codemirror_mode": {
    "name": "ipython",
    "version": 3
   },
   "file_extension": ".py",
   "mimetype": "text/x-python",
   "name": "python",
   "nbconvert_exporter": "python",
   "pygments_lexer": "ipython3",
   "version": "3.5.2"
  }
 },
 "nbformat": 4,
 "nbformat_minor": 1
}
