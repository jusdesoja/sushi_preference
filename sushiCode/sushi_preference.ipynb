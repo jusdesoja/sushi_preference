{
 "cells": [
  {
   "cell_type": "code",
   "execution_count": 1,
   "metadata": {
    "collapsed": false,
    "scrolled": true
   },
   "outputs": [
    {
     "name": "stdout",
     "output_type": "stream",
     "text": [
      "[1546, 1535, 1406, 1457, 1380, 1447, 1412, 1353, 1321, 1244, 1297, 1213, 1194, 1118, 1112, 1077, 1012, 1016, 968, 957, 939, 945, 868, 857, 841, 847, 785, 775, 699, 694, 696, 619, 512, 567, 560, 545, 500, 532, 509, 453, 433, 468, 413, 334, 336, 327, 358, 366, 347, 348, 355, 385, 287, 282, 231, 199, 214, 218, 219, 236, 219, 234, 213, 215, 234, 155, 142, 138, 135, 155, 141, 164, 169, 133, 165, 148, 144, 131, 150, 153, 78, 67, 88, 50, 66, 80, 52, 77, 85, 84, 74, 80, 76, 75, 72, 95, 68, 79, 75, 77]\n",
      "[0, 1, 3, 5, 6, 2, 4, 7, 8, 10, 9, 11, 12, 13, 14, 15, 17, 16]\n",
      "1\n",
      "[3182]\n",
      "[[ 1.   0.   0.   0. ]\n",
      " [ 0.   1.   0.   0.5]\n",
      " [ 0.   0.   1.   0.5]\n",
      " [ 0.   0.5  0.5  1. ]]\n",
      "center:[  1.85037171e-17   4.66666667e-01   2.33333333e-01   3.00000000e-01]\n"
     ]
    }
   ],
   "source": [
    "from read import read_voter_file, read_score_file, read_order_file\n",
    "from tools import all_mass_init, flatten_pref_mass_mat\n",
    "from beliefKMeans import k_means, _k_means_single, silhouette_score\n",
    "\n",
    "import numpy as np"
   ]
  },
  {
   "cell_type": "markdown",
   "metadata": {},
   "source": [
    "Open user information data, set score and order data into it"
   ]
  },
  {
   "cell_type": "code",
   "execution_count": 17,
   "metadata": {
    "collapsed": false
   },
   "outputs": [],
   "source": [
    "vMap = read_voter_file(\"../data/sushi3-2016/sushi3.com30.udata\")\n",
    "read_score_file(\"../data/sushi3-2016/sushi3b.com30.10.score\", vMap)\n",
    "read_order_file(\"../data/sushi3-2016/sushi3b.com30.10.order\", vMap)\n",
    "# candidate list for 40 cand\n",
    "\"\"\"\n",
    "cand_list=[0, 1, 3, 5, 6, 2, 4, 7, 8, 10, \n",
    "           9, 11, 12, 13, 14, 15, 17, 16, \n",
    "           18, 19, 21, 20, 22, 23, 25, 24, \n",
    "           26, 27, 28, 30, 29, 31, 33, 34, \n",
    "           35, 37, 32, 38, 36, 41]\n",
    "#candidate list for 35 cand\n",
    "\n",
    "\"\"\"\n",
    "\"\"\"\n",
    "cand_list=[0, 1, 3, 5, 6, 2, 4, 7, 8, 10, \n",
    "           9, 11, 12, 13, 14, 15, 17, 16, \n",
    "           18, 19, 21, 20, 22, 23, 25, 24, \n",
    "           26, 27, 28, 30, 29, 31, 33, 34, 35]\n",
    "\"\"\"\n",
    "#candidate list for 30 cands\n",
    "\n",
    "cand_list = [0, 1, 3, 5, 6, 2, 4, 7, 8, 10,\n",
    "             9, 11, 12, 13, 14, 15, 17, 16, \n",
    "             18, 19, 21, 20, 22, 23, 25,24, \n",
    "             26, 27, 28, 30,]\n",
    "\n",
    "#cand_list = list(range(100))\n",
    "#n_item = 40\n",
    "n_item = 30\n",
    "#n_item = 100"
   ]
  },
  {
   "cell_type": "code",
   "execution_count": 2,
   "metadata": {
    "collapsed": false
   },
   "outputs": [],
   "source": [
    "vMap = read_voter_file(\"../data/sushi3-2016/artif_inverse_2.udata\")\n",
    "read_score_file(\"../data/sushi3-2016/artif_inverse_2.score\", vMap)\n",
    "read_order_file(\"../data/sushi3-2016/artif_inverse_2.order\", vMap)\n",
    "cand_list=[8, 0, 13, 1, 9, 17, 11, 10, 7, 5]\n",
    "cand_list.sort()\n",
    "n_item = 10"
   ]
  },
  {
   "cell_type": "code",
   "execution_count": 9,
   "metadata": {
    "collapsed": false
   },
   "outputs": [
    {
     "name": "stdout",
     "output_type": "stream",
     "text": [
      "[0, 1, 2, 3, 4, 5, 6, 7, 8, 9, 10, 11, 12, 13, 14, 15, 16, 17, 18, 19, 20, 21, 22, 23, 24, 25, 26, 27, 28, 29, 30, 31, 32, 33, 34, 35, 36, 37, 38, 41]\n"
     ]
    }
   ],
   "source": [
    "cand_list.sort()\n",
    "print(cand_list)"
   ]
  },
  {
   "cell_type": "markdown",
   "metadata": {},
   "source": [
    "Initialize the mass function value"
   ]
  },
  {
   "cell_type": "code",
   "execution_count": 18,
   "metadata": {
    "collapsed": false,
    "scrolled": true
   },
   "outputs": [],
   "source": [
    "n_sample = len(vMap)\n",
    "vector_size = 16\n",
    "n_pref_pair = int(n_item*(n_item-1)/2)\n",
    "X = np.empty((n_sample, n_pref_pair, vector_size),dtype = object)\n"
   ]
  },
  {
   "cell_type": "code",
   "execution_count": 4,
   "metadata": {
    "collapsed": false
   },
   "outputs": [
    {
     "data": {
      "text/plain": [
       "0.0028003454208374023"
      ]
     },
     "execution_count": 4,
     "metadata": {},
     "output_type": "execute_result"
    }
   ],
   "source": [
    "import sys\n",
    "sys.getsizeof(X)/(1024**3)"
   ]
  },
  {
   "cell_type": "code",
   "execution_count": 19,
   "metadata": {
    "collapsed": false
   },
   "outputs": [],
   "source": [
    "for k,v in vMap.items():\n",
    "    X[k] = flatten_pref_mass_mat(all_mass_init(v.get_scores(), v.get_order_b(), cand_list, nbItem = n_item))"
   ]
  },
  {
   "cell_type": "code",
   "execution_count": 5,
   "metadata": {
    "collapsed": false,
    "scrolled": true
   },
   "outputs": [
    {
     "data": {
      "text/plain": [
       "(147, 595, 16)"
      ]
     },
     "execution_count": 5,
     "metadata": {},
     "output_type": "execute_result"
    }
   ],
   "source": [
    "X.shape"
   ]
  },
  {
   "cell_type": "code",
   "execution_count": 6,
   "metadata": {
    "collapsed": false,
    "scrolled": false
   },
   "outputs": [],
   "source": [
    "from beliefDBSCAN import BeliefDBSCAN\n",
    "cluster_model = BeliefDBSCAN(min_samples=5, eps=4)\n",
    "cluster_model.fit(X)"
   ]
  },
  {
   "cell_type": "code",
   "execution_count": 6,
   "metadata": {
    "collapsed": false
   },
   "outputs": [
    {
     "data": {
      "text/plain": [
       "array([[ 0.        ,  0.        ,  0.69354328, ...,  0.15257284,\n",
       "         2.58030666,  1.95358925],\n",
       "       [ 0.        ,  0.        ,  0.82294885, ...,  1.87626399,\n",
       "         2.64189203,  1.07279211],\n",
       "       [ 0.69354328,  0.82294885,  0.        , ...,  1.42731784,\n",
       "         1.50998855,  1.76199057],\n",
       "       ..., \n",
       "       [ 0.15257284,  1.87626399,  1.42731784, ...,  0.        ,\n",
       "         0.57376535,  0.46875333],\n",
       "       [ 2.58030666,  2.64189203,  1.50998855, ...,  0.57376535,\n",
       "         0.        ,  1.25333333],\n",
       "       [ 1.95358925,  1.07279211,  1.76199057, ...,  0.46875333,\n",
       "         1.25333333,  0.        ]])"
      ]
     },
     "execution_count": 6,
     "metadata": {},
     "output_type": "execute_result"
    }
   ],
   "source": [
    "cluster_model.distances"
   ]
  },
  {
   "cell_type": "code",
   "execution_count": 7,
   "metadata": {
    "collapsed": false
   },
   "outputs": [
    {
     "data": {
      "text/plain": [
       "True"
      ]
     },
     "execution_count": 7,
     "metadata": {},
     "output_type": "execute_result"
    }
   ],
   "source": [
    "hasattr(cluster_model, \"distances\")"
   ]
  },
  {
   "cell_type": "code",
   "execution_count": 20,
   "metadata": {
    "collapsed": false,
    "scrolled": true
   },
   "outputs": [
    {
     "name": "stderr",
     "output_type": "stream",
     "text": [
      "/home/yzhang/ThesisWork/Program/sushiPref/sushiCode/sushiCode/beliefKMeans.py:560: RuntimeWarning: invalid value encountered in true_divide\n",
      "  sil_samples /= np.maximum(intra_clust_dists, inter_clust_dists)\n"
     ]
    },
    {
     "name": "stdout",
     "output_type": "stream",
     "text": [
      "0.1 1 nan\n",
      "0.1 2 nan\n",
      "0.1 3 nan\n",
      "0.1 4 nan\n",
      "0.1 5 nan\n",
      "0.2 1 -0.405237048964\n",
      "0.2 2 -0.405237048964\n",
      "0.2 3 -0.405237048964\n",
      "0.2 4 -0.405237048964\n",
      "0.2 5 -0.405237048964\n",
      "0.3 1 nan\n",
      "0.3 2 nan\n",
      "0.3 3 nan\n",
      "0.3 4 nan\n",
      "0.3 5 nan\n",
      "0.4 1 -0.45466348176\n",
      "0.4 2 -0.45466348176\n",
      "0.4 3 -0.45466348176\n",
      "0.4 4 -0.45466348176\n",
      "0.4 5 -0.45466348176\n",
      "0.5 1 -0.374383943358\n",
      "0.5 2 -0.374383943358\n",
      "0.5 3 -0.374383943358\n",
      "0.5 4 -0.374383943358\n",
      "0.5 5 -0.374383943358\n",
      "0.6 1 -0.467962256365\n",
      "0.6 2 -0.467962256365\n",
      "0.6 3 -0.467962256365\n",
      "0.6 4 -0.467962256365\n",
      "0.6 5 -0.467962256365\n",
      "0.7 1 -0.524465162796\n",
      "0.7 2 -0.524465162796\n",
      "0.7 3 -0.524465162796\n",
      "0.7 4 -0.524465162796\n",
      "0.7 5 -0.524465162796\n",
      "0.8 1 -0.265294573137\n",
      "0.8 2 -0.265294573137\n",
      "0.8 3 -0.265294573137\n",
      "0.8 4 -0.265294573137\n",
      "0.8 5 -0.265294573137\n",
      "0.9 1 -0.280579547388\n",
      "0.9 2 -0.280579547388\n",
      "0.9 3 -0.280579547388\n",
      "0.9 4 -0.280579547388\n",
      "0.9 5 -0.280579547388\n",
      "1.0 1 -0.364537864538\n",
      "1.0 2 -0.364537864538\n",
      "1.0 3 -0.364537864538\n",
      "1.0 4 -0.364537864538\n",
      "1.0 5 -0.364537864538\n",
      "1.1 1 -0.180665076358\n",
      "1.1 2 -0.180665076358\n",
      "1.1 3 -0.180665076358\n",
      "1.1 4 -0.180665076358\n",
      "1.1 5 -0.180665076358\n",
      "1.2 1 -0.179528953785\n",
      "1.2 2 -0.179528953785\n",
      "1.2 3 -0.179528953785\n",
      "1.2 4 -0.179528953785\n",
      "1.2 5 -0.179528953785\n",
      "1.3 1 -0.184843252481\n",
      "1.3 2 -0.184843252481\n",
      "1.3 3 -0.184843252481\n",
      "1.3 4 -0.184843252481\n",
      "1.3 5 -0.184843252481\n",
      "1.4 1 -0.184843252481\n",
      "1.4 2 -0.184843252481\n",
      "1.4 3 -0.184843252481\n",
      "1.4 4 -0.184843252481\n",
      "1.4 5 -0.184843252481\n",
      "1.5 1 -0.0723748519432\n",
      "1.5 2 -0.0723748519432\n",
      "1.5 3 -0.0723748519432\n",
      "1.5 4 -0.0723748519432\n",
      "1.5 5 -0.0723748519432\n",
      "1.6 1 -0.0596299462286\n",
      "1.6 2 -0.0596299462286\n",
      "1.6 3 -0.0596299462286\n",
      "1.6 4 -0.0596299462286\n",
      "1.6 5 -0.0596299462286\n",
      "1.7 1 -0.0608805608986\n",
      "1.7 2 -0.0608805608986\n",
      "1.7 3 -0.0608805608986\n",
      "1.7 4 -0.0608805608986\n",
      "1.7 5 -0.0608805608986\n",
      "1.8 1 -0.154828997731\n",
      "1.8 2 -0.154828997731\n",
      "1.8 3 -0.154828997731\n",
      "1.8 4 -0.154828997731\n",
      "1.8 5 -0.154828997731\n",
      "1.9 1 -0.204157854633\n",
      "1.9 2 -0.204157854633\n",
      "1.9 3 -0.204157854633\n",
      "1.9 4 -0.204157854633\n",
      "1.9 5 -0.204157854633\n"
     ]
    }
   ],
   "source": [
    "for eps in np.arange(0.1,2,0.1):\n",
    "    for minPts in range(1, 6):\n",
    "        cluster_model.eps = eps\n",
    "    #cluster_model.min_samples = minPts\n",
    "        labels=cluster_model.predict(X)\n",
    "        print(eps,minPts, silhouette_score(X,labels, metric = \"conflict\", distances=cluster_model.distances))"
   ]
  },
  {
   "cell_type": "code",
   "execution_count": 21,
   "metadata": {
    "collapsed": false
   },
   "outputs": [],
   "source": [
    "cluster_model.eps = 1.6\n",
    "cluster_model.min_samples = 3\n",
    "labels = cluster_model.predict(X)"
   ]
  },
  {
   "cell_type": "code",
   "execution_count": 32,
   "metadata": {
    "collapsed": false
   },
   "outputs": [
    {
     "name": "stdout",
     "output_type": "stream",
     "text": [
      "20\n",
      "{0: 3, 1: 3, 2: 3, 5: 4, 6: 4, 17: 2, 8: 1, 12: 4, 24: 4, 21: 4}\n",
      "[12, 24, 6, 21, 0, 1, 5, 2, 8, 17]\n",
      "38\n",
      "{0: 2, 1: 2, 26: 4, 4: 0, 16: 4, 7: 4, 8: 4, 10: 4, 23: 2, 13: 4}\n",
      "[10, 8, 13, 16, 0, 26, 7, 1, 23, 4]\n",
      "43\n",
      "{0: 4, 1: 4, 3: 3, 22: 2, 6: 4, 25: 2, 11: 4, 27: 4, 13: 4, 15: 3}\n",
      "[11, 13, 1, 0, 6, 15, 27, 3, 22, 25]\n",
      "49\n",
      "{18: 4, 3: 3, 22: 3, 6: 4, 23: 2, 8: 3, 9: 1, 10: 4, 11: 1, 12: 3}\n",
      "[18, 6, 10, 8, 22, 3, 12, 23, 11, 9]\n"
     ]
    }
   ],
   "source": [
    "for k in np.where(labels==3)[0]:\n",
    "    print(k)\n",
    "    print(vMap[k].get_scores())\n",
    "    print(vMap[k].get_order_b())"
   ]
  },
  {
   "cell_type": "code",
   "execution_count": 12,
   "metadata": {
    "collapsed": false
   },
   "outputs": [
    {
     "ename": "IndexError",
     "evalue": "index 54 is out of bounds for axis 0 with size 54",
     "output_type": "error",
     "traceback": [
      "\u001b[0;31m---------------------------------------------------------------------------\u001b[0m",
      "\u001b[0;31mIndexError\u001b[0m                                Traceback (most recent call last)",
      "\u001b[0;32m<ipython-input-12-4e7bc832e224>\u001b[0m in \u001b[0;36m<module>\u001b[0;34m()\u001b[0m\n\u001b[1;32m      4\u001b[0m         \u001b[0mcluster_model\u001b[0m\u001b[0;34m.\u001b[0m\u001b[0meps\u001b[0m \u001b[0;34m=\u001b[0m \u001b[0meps\u001b[0m\u001b[0;34m\u001b[0m\u001b[0m\n\u001b[1;32m      5\u001b[0m         \u001b[0mcluster_model\u001b[0m\u001b[0;34m.\u001b[0m\u001b[0mmin_samples\u001b[0m \u001b[0;34m=\u001b[0m \u001b[0mminPts\u001b[0m\u001b[0;34m\u001b[0m\u001b[0m\n\u001b[0;32m----> 6\u001b[0;31m         \u001b[0mlabels\u001b[0m\u001b[0;34m=\u001b[0m\u001b[0mcluster_model\u001b[0m\u001b[0;34m.\u001b[0m\u001b[0mpredict\u001b[0m\u001b[0;34m(\u001b[0m\u001b[0mX\u001b[0m\u001b[0;34m)\u001b[0m\u001b[0;34m\u001b[0m\u001b[0m\n\u001b[0m\u001b[1;32m      7\u001b[0m         \u001b[0mprint\u001b[0m\u001b[0;34m(\u001b[0m\u001b[0meps\u001b[0m\u001b[0;34m,\u001b[0m\u001b[0mminPts\u001b[0m\u001b[0;34m,\u001b[0m \u001b[0msilhouette_score\u001b[0m\u001b[0;34m(\u001b[0m\u001b[0mX\u001b[0m\u001b[0;34m,\u001b[0m\u001b[0mlabels\u001b[0m\u001b[0;34m,\u001b[0m \u001b[0mmetric\u001b[0m \u001b[0;34m=\u001b[0m \u001b[0;34m\"conflict\"\u001b[0m\u001b[0;34m)\u001b[0m\u001b[0;34m)\u001b[0m\u001b[0;34m\u001b[0m\u001b[0m\n",
      "\u001b[0;32m/home/yzhang/ThesisWork/Program/sushiPref/sushiCode/sushiCode/beliefDBSCAN.py\u001b[0m in \u001b[0;36mpredict\u001b[0;34m(self, X)\u001b[0m\n\u001b[1;32m     68\u001b[0m         \u001b[0;31m#import pdb; pdb.set_trace()\u001b[0m\u001b[0;34m\u001b[0m\u001b[0;34m\u001b[0m\u001b[0m\n\u001b[1;32m     69\u001b[0m         \u001b[0;32mif\u001b[0m \u001b[0mhasattr\u001b[0m\u001b[0;34m(\u001b[0m\u001b[0mself\u001b[0m\u001b[0;34m,\u001b[0m \u001b[0;34m'distances'\u001b[0m\u001b[0;34m)\u001b[0m\u001b[0;34m:\u001b[0m\u001b[0;34m\u001b[0m\u001b[0m\n\u001b[0;32m---> 70\u001b[0;31m             \u001b[0;32mreturn\u001b[0m \u001b[0mself\u001b[0m\u001b[0;34m.\u001b[0m\u001b[0m_belief_DBSCAN\u001b[0m\u001b[0;34m(\u001b[0m\u001b[0mX\u001b[0m\u001b[0;34m,\u001b[0m \u001b[0mself\u001b[0m\u001b[0;34m.\u001b[0m\u001b[0mdistances\u001b[0m\u001b[0;34m,\u001b[0m \u001b[0mself\u001b[0m\u001b[0;34m.\u001b[0m\u001b[0meps\u001b[0m\u001b[0;34m,\u001b[0m \u001b[0mself\u001b[0m\u001b[0;34m.\u001b[0m\u001b[0mmin_samples\u001b[0m\u001b[0;34m,\u001b[0m \u001b[0mself\u001b[0m\u001b[0;34m.\u001b[0m\u001b[0mmetric\u001b[0m\u001b[0;34m)\u001b[0m\u001b[0;34m\u001b[0m\u001b[0m\n\u001b[0m\u001b[1;32m     71\u001b[0m         \u001b[0;32melse\u001b[0m\u001b[0;34m:\u001b[0m\u001b[0;34m\u001b[0m\u001b[0m\n\u001b[1;32m     72\u001b[0m             \u001b[0;32mraise\u001b[0m \u001b[0mValueError\u001b[0m\u001b[0;34m(\u001b[0m\u001b[0;34m\"Model is empty, please fit the model first.\"\u001b[0m\u001b[0;34m)\u001b[0m\u001b[0;34m\u001b[0m\u001b[0m\n",
      "\u001b[0;32m/home/yzhang/ThesisWork/Program/sushiPref/sushiCode/sushiCode/beliefDBSCAN.py\u001b[0m in \u001b[0;36m_belief_DBSCAN\u001b[0;34m(self, X, distances, eps, minPts, metric)\u001b[0m\n\u001b[1;32m     83\u001b[0m             \u001b[0;32mif\u001b[0m \u001b[0mlabels\u001b[0m\u001b[0;34m[\u001b[0m\u001b[0mP_idx\u001b[0m\u001b[0;34m]\u001b[0m \u001b[0;34m!=\u001b[0m \u001b[0;34m-\u001b[0m\u001b[0;36m1\u001b[0m\u001b[0;34m:\u001b[0m\u001b[0;34m\u001b[0m\u001b[0m\n\u001b[1;32m     84\u001b[0m                 \u001b[0;32mcontinue\u001b[0m\u001b[0;34m\u001b[0m\u001b[0m\n\u001b[0;32m---> 85\u001b[0;31m             \u001b[0mneighbors\u001b[0m \u001b[0;34m=\u001b[0m \u001b[0mrange_query\u001b[0m\u001b[0;34m(\u001b[0m\u001b[0mn_samples\u001b[0m\u001b[0;34m,\u001b[0m \u001b[0mdistances\u001b[0m\u001b[0;34m,\u001b[0m \u001b[0mP_idx\u001b[0m\u001b[0;34m,\u001b[0m \u001b[0meps\u001b[0m\u001b[0;34m)\u001b[0m\u001b[0;34m\u001b[0m\u001b[0m\n\u001b[0m\u001b[1;32m     86\u001b[0m             \u001b[0;31m#import pdb; pdb.set_trace()\u001b[0m\u001b[0;34m\u001b[0m\u001b[0;34m\u001b[0m\u001b[0m\n\u001b[1;32m     87\u001b[0m             \u001b[0;32mif\u001b[0m \u001b[0mlen\u001b[0m\u001b[0;34m(\u001b[0m\u001b[0mneighbors\u001b[0m\u001b[0;34m)\u001b[0m \u001b[0;34m<\u001b[0m \u001b[0mminPts\u001b[0m\u001b[0;34m:\u001b[0m\u001b[0;34m\u001b[0m\u001b[0m\n",
      "\u001b[0;32m/home/yzhang/ThesisWork/Program/sushiPref/sushiCode/sushiCode/beliefDBSCAN.py\u001b[0m in \u001b[0;36mrange_query\u001b[0;34m(data_size, distances, P, eps)\u001b[0m\n\u001b[1;32m     20\u001b[0m     \u001b[0;31m#import pdb; pdb.set_trace()\u001b[0m\u001b[0;34m\u001b[0m\u001b[0;34m\u001b[0m\u001b[0m\n\u001b[1;32m     21\u001b[0m     \u001b[0;32mfor\u001b[0m \u001b[0mi\u001b[0m \u001b[0;32min\u001b[0m \u001b[0mrange\u001b[0m\u001b[0;34m(\u001b[0m\u001b[0mdata_size\u001b[0m\u001b[0;34m)\u001b[0m\u001b[0;34m:\u001b[0m\u001b[0;34m\u001b[0m\u001b[0m\n\u001b[0;32m---> 22\u001b[0;31m         \u001b[0;32mif\u001b[0m \u001b[0mdistances\u001b[0m\u001b[0;34m[\u001b[0m\u001b[0mi\u001b[0m\u001b[0;34m]\u001b[0m\u001b[0;34m[\u001b[0m\u001b[0mP\u001b[0m\u001b[0;34m]\u001b[0m \u001b[0;34m<\u001b[0m \u001b[0meps\u001b[0m\u001b[0;34m:\u001b[0m\u001b[0;34m\u001b[0m\u001b[0m\n\u001b[0m\u001b[1;32m     23\u001b[0m             \u001b[0mNs\u001b[0m\u001b[0;34m.\u001b[0m\u001b[0mappend\u001b[0m\u001b[0;34m(\u001b[0m\u001b[0mi\u001b[0m\u001b[0;34m)\u001b[0m\u001b[0;34m\u001b[0m\u001b[0m\n\u001b[1;32m     24\u001b[0m     \u001b[0mNs\u001b[0m\u001b[0;34m.\u001b[0m\u001b[0mappend\u001b[0m\u001b[0;34m(\u001b[0m\u001b[0mP\u001b[0m\u001b[0;34m)\u001b[0m\u001b[0;34m\u001b[0m\u001b[0m\n",
      "\u001b[0;31mIndexError\u001b[0m: index 54 is out of bounds for axis 0 with size 54"
     ]
    }
   ],
   "source": [
    "# dataset: com30\n",
    "for eps in np.arange(1,2,0.1):\n",
    "    for minPts in range(1, 6):\n",
    "        cluster_model.eps = eps\n",
    "        cluster_model.min_samples = minPts\n",
    "        labels=cluster_model.predict(X)\n",
    "        print(eps,minPts, silhouette_score(X,labels, metric = \"conflict\"))"
   ]
  },
  {
   "cell_type": "code",
   "execution_count": 9,
   "metadata": {
    "collapsed": false
   },
   "outputs": [],
   "source": [
    "#dataset com40\n",
    "vMap = read_voter_file(\"../data/sushi3-2016/sushi3.com40.udata\")\n",
    "read_score_file(\"../data/sushi3-2016/sushi3b.com40.10.score\", vMap)\n",
    "read_order_file(\"../data/sushi3-2016/sushi3b.com40.10.order\", vMap)\n",
    "cand_list=[0, 1, 3, 5, 6, 2, 4, 7, 8, 10, \n",
    "           9, 11, 12, 13, 14, 15, 17, 16, \n",
    "           18, 19, 21, 20, 22, 23, 25, 24, \n",
    "           26, 27, 28, 30, 29, 31, 33, 34, \n",
    "           35, 37, 32, 38, 36, 41]\n",
    "n_item = 40\n",
    "n_sample = len(vMap)\n",
    "vector_size = 16\n",
    "n_pref_pair = int(n_item*(n_item-1)/2)\n",
    "X = np.empty((n_sample, n_pref_pair, vector_size),dtype = object)\n",
    "for k,v in vMap.items():\n",
    "    X[k] = flatten_pref_mass_mat(all_mass_init(v.get_scores(), v.get_order_b(), cand_list, nbItem = n_item))\n",
    "    \n"
   ]
  },
  {
   "cell_type": "code",
   "execution_count": 10,
   "metadata": {
    "collapsed": false
   },
   "outputs": [
    {
     "name": "stdout",
     "output_type": "stream",
     "text": [
      "model fitted\n",
      "1.0 1 -0.549447730426\n",
      "1.0 2 -0.549447730426\n",
      "1.0 3 -0.549447730426\n",
      "1.0 4 -0.549447730426\n",
      "1.0 5 -0.549447730426\n",
      "1.1 1 -0.405644296867\n",
      "1.1 2 -0.405644296867\n",
      "1.1 3 -0.405644296867\n",
      "1.1 4 -0.405644296867\n",
      "1.1 5 -0.405644296867\n",
      "1.2 1 -0.616605366205\n",
      "1.2 2 -0.616605366205\n",
      "1.2 3 -0.616605366205\n",
      "1.2 4 -0.616605366205\n",
      "1.2 5 -0.616605366205\n",
      "1.3 1 -0.366799889743\n",
      "1.3 2 -0.366799889743\n",
      "1.3 3 -0.366799889743\n",
      "1.3 4 -0.366799889743\n",
      "1.3 5 -0.366799889743\n",
      "1.4 1 -0.377462900955\n",
      "1.4 2 -0.377462900955\n",
      "1.4 3 -0.377462900955\n",
      "1.4 4 -0.377462900955\n",
      "1.4 5 -0.377462900955\n",
      "1.5 1 -0.372704565333\n",
      "1.5 2 -0.372704565333\n",
      "1.5 3 -0.372704565333\n",
      "1.5 4 -0.372704565333\n",
      "1.5 5 -0.372704565333\n",
      "1.6 1 -0.369339135612\n",
      "1.6 2 -0.369339135612\n",
      "1.6 3 -0.369339135612\n",
      "1.6 4 -0.369339135612\n",
      "1.6 5 -0.369339135612\n",
      "1.7 1 -0.0933471095854\n",
      "1.7 2 -0.0933471095854\n",
      "1.7 3 -0.0933471095854\n",
      "1.7 4 -0.0933471095854\n",
      "1.7 5 -0.0933471095854\n",
      "1.8 1 -0.0896734399037\n",
      "1.8 2 -0.0896734399037\n",
      "1.8 3 -0.0896734399037\n",
      "1.8 4 -0.0896734399037\n",
      "1.8 5 -0.0896734399037\n",
      "1.9 1 -0.0819098637693\n",
      "1.9 2 -0.0819098637693\n",
      "1.9 3 -0.0819098637693\n",
      "1.9 4 -0.0819098637693\n",
      "1.9 5 -0.0819098637693\n"
     ]
    }
   ],
   "source": [
    "from beliefDBSCAN import BeliefDBSCAN\n",
    "cluster_model40 = BeliefDBSCAN(min_samples=5, eps=4)\n",
    "cluster_model40.fit(X)\n",
    "print(\"model fitted\")\n",
    "for eps in np.arange(1,2,0.1):\n",
    "    for minPts in range(1, 6):\n",
    "        cluster_model40.eps = eps\n",
    "        cluster_model40.min_samples = minPts\n",
    "        labels=cluster_model40.predict(X)\n",
    "        print(eps,minPts, silhouette_score(X,labels, metric = \"conflict\", distances = cluster_model40.distances))"
   ]
  },
  {
   "cell_type": "code",
   "execution_count": 16,
   "metadata": {
    "collapsed": false
   },
   "outputs": [
    {
     "name": "stdout",
     "output_type": "stream",
     "text": [
      "2.0 1 -0.0819098637693\n",
      "2.0 2 -0.0819098637693\n",
      "2.0 3 -0.0819098637693\n",
      "2.0 4 -0.0819098637693\n",
      "2.0 5 -0.0819098637693\n",
      "2.1 1 -0.0838318518505\n",
      "2.1 2 -0.0838318518505\n",
      "2.1 3 -0.0838318518505\n",
      "2.1 4 -0.0838318518505\n",
      "2.1 5 -0.0838318518505\n",
      "2.2 1 -0.405715601744\n",
      "2.2 2 -0.405715601744\n",
      "2.2 3 -0.405715601744\n",
      "2.2 4 -0.405715601744\n",
      "2.2 5 -0.405715601744\n",
      "2.3 1 -0.104471857209\n",
      "2.3 2 -0.104471857209\n",
      "2.3 3 -0.104471857209\n",
      "2.3 4 -0.104471857209\n",
      "2.3 5 -0.104471857209\n",
      "2.4 1 -0.0959980399848\n",
      "2.4 2 -0.0959980399848\n",
      "2.4 3 -0.0959980399848\n",
      "2.4 4 -0.0959980399848\n",
      "2.4 5 -0.0959980399848\n",
      "2.5 1 -0.110512093741\n",
      "2.5 2 -0.110512093741\n",
      "2.5 3 -0.110512093741\n",
      "2.5 4 -0.110512093741\n",
      "2.5 5 -0.110512093741\n",
      "2.6 1 -0.110512093741\n",
      "2.6 2 -0.110512093741\n",
      "2.6 3 -0.110512093741\n",
      "2.6 4 -0.110512093741\n",
      "2.6 5 -0.110512093741\n",
      "2.7 1 -0.110512093741\n",
      "2.7 2 -0.110512093741\n",
      "2.7 3 -0.110512093741\n",
      "2.7 4 -0.110512093741\n",
      "2.7 5 -0.110512093741\n",
      "2.8 1 -0.251315100153\n",
      "2.8 2 -0.251315100153\n",
      "2.8 3 -0.251315100153\n",
      "2.8 4 -0.251315100153\n",
      "2.8 5 -0.251315100153\n"
     ]
    },
    {
     "ename": "ValueError",
     "evalue": "Number of labels is 1. Valid values are 2 to n_samples - 1 (inclusive)",
     "output_type": "error",
     "traceback": [
      "\u001b[0;31m---------------------------------------------------------------------------\u001b[0m",
      "\u001b[0;31mValueError\u001b[0m                                Traceback (most recent call last)",
      "\u001b[0;32m<ipython-input-16-4d79ae80808d>\u001b[0m in \u001b[0;36m<module>\u001b[0;34m()\u001b[0m\n\u001b[1;32m      4\u001b[0m         \u001b[0mcluster_model40\u001b[0m\u001b[0;34m.\u001b[0m\u001b[0mmin_samples\u001b[0m \u001b[0;34m=\u001b[0m \u001b[0mminPts\u001b[0m\u001b[0;34m\u001b[0m\u001b[0m\n\u001b[1;32m      5\u001b[0m         \u001b[0mlabels\u001b[0m\u001b[0;34m=\u001b[0m\u001b[0mcluster_model40\u001b[0m\u001b[0;34m.\u001b[0m\u001b[0mpredict\u001b[0m\u001b[0;34m(\u001b[0m\u001b[0mX\u001b[0m\u001b[0;34m)\u001b[0m\u001b[0;34m\u001b[0m\u001b[0m\n\u001b[0;32m----> 6\u001b[0;31m         \u001b[0mprint\u001b[0m\u001b[0;34m(\u001b[0m\u001b[0meps\u001b[0m\u001b[0;34m,\u001b[0m\u001b[0mminPts\u001b[0m\u001b[0;34m,\u001b[0m \u001b[0msilhouette_score\u001b[0m\u001b[0;34m(\u001b[0m\u001b[0mX\u001b[0m\u001b[0;34m,\u001b[0m\u001b[0mlabels\u001b[0m\u001b[0;34m,\u001b[0m \u001b[0mmetric\u001b[0m \u001b[0;34m=\u001b[0m \u001b[0;34m\"conflict\"\u001b[0m\u001b[0;34m,\u001b[0m \u001b[0mdistances\u001b[0m \u001b[0;34m=\u001b[0m \u001b[0mcluster_model40\u001b[0m\u001b[0;34m.\u001b[0m\u001b[0mdistances\u001b[0m\u001b[0;34m)\u001b[0m\u001b[0;34m)\u001b[0m\u001b[0;34m\u001b[0m\u001b[0m\n\u001b[0m",
      "\u001b[0;32m/home/yzhang/ThesisWork/Program/sushiPref/sushiCode/sushiCode/beliefKMeans.py\u001b[0m in \u001b[0;36msilhouette_score\u001b[0;34m(X, labels, metric, sample_size, random_state, distances, **kwds)\u001b[0m\n\u001b[1;32m    627\u001b[0m         \u001b[0;32melse\u001b[0m\u001b[0;34m:\u001b[0m\u001b[0;34m\u001b[0m\u001b[0m\n\u001b[1;32m    628\u001b[0m             \u001b[0mX\u001b[0m\u001b[0;34m,\u001b[0m \u001b[0mlabels\u001b[0m \u001b[0;34m=\u001b[0m \u001b[0mX\u001b[0m\u001b[0;34m[\u001b[0m\u001b[0mindices\u001b[0m\u001b[0;34m]\u001b[0m\u001b[0;34m,\u001b[0m \u001b[0mlabels\u001b[0m\u001b[0;34m[\u001b[0m\u001b[0mindices\u001b[0m\u001b[0;34m]\u001b[0m\u001b[0;34m\u001b[0m\u001b[0m\n\u001b[0;32m--> 629\u001b[0;31m     \u001b[0;32mreturn\u001b[0m \u001b[0mnp\u001b[0m\u001b[0;34m.\u001b[0m\u001b[0mmean\u001b[0m\u001b[0;34m(\u001b[0m\u001b[0msilhouette_samples\u001b[0m\u001b[0;34m(\u001b[0m\u001b[0mX\u001b[0m\u001b[0;34m,\u001b[0m \u001b[0mlabels\u001b[0m\u001b[0;34m,\u001b[0m \u001b[0mmetric\u001b[0m\u001b[0;34m=\u001b[0m\u001b[0mmetric\u001b[0m\u001b[0;34m,\u001b[0m \u001b[0mdistances\u001b[0m \u001b[0;34m=\u001b[0m \u001b[0mdistances\u001b[0m\u001b[0;34m,\u001b[0m\u001b[0;34m**\u001b[0m\u001b[0mkwds\u001b[0m\u001b[0;34m)\u001b[0m\u001b[0;34m)\u001b[0m\u001b[0;34m\u001b[0m\u001b[0m\n\u001b[0m\u001b[1;32m    630\u001b[0m \u001b[0;34m\u001b[0m\u001b[0m\n\u001b[1;32m    631\u001b[0m \u001b[0;34m\u001b[0m\u001b[0m\n",
      "\u001b[0;32m/home/yzhang/ThesisWork/Program/sushiPref/sushiCode/sushiCode/beliefKMeans.py\u001b[0m in \u001b[0;36msilhouette_samples\u001b[0;34m(X, labels, metric, distances)\u001b[0m\n\u001b[1;32m    520\u001b[0m     \u001b[0mle\u001b[0m \u001b[0;34m=\u001b[0m \u001b[0mLabelEncoder\u001b[0m\u001b[0;34m(\u001b[0m\u001b[0;34m)\u001b[0m\u001b[0;34m\u001b[0m\u001b[0m\n\u001b[1;32m    521\u001b[0m     \u001b[0mlabels\u001b[0m \u001b[0;34m=\u001b[0m \u001b[0mle\u001b[0m\u001b[0;34m.\u001b[0m\u001b[0mfit_transform\u001b[0m\u001b[0;34m(\u001b[0m\u001b[0mlabels\u001b[0m\u001b[0;34m)\u001b[0m\u001b[0;34m\u001b[0m\u001b[0m\n\u001b[0;32m--> 522\u001b[0;31m     \u001b[0mcheck_number_of_labels\u001b[0m\u001b[0;34m(\u001b[0m\u001b[0mlen\u001b[0m\u001b[0;34m(\u001b[0m\u001b[0mle\u001b[0m\u001b[0;34m.\u001b[0m\u001b[0mclasses_\u001b[0m\u001b[0;34m)\u001b[0m\u001b[0;34m,\u001b[0m \u001b[0mX\u001b[0m\u001b[0;34m.\u001b[0m\u001b[0mshape\u001b[0m\u001b[0;34m[\u001b[0m\u001b[0;36m0\u001b[0m\u001b[0;34m]\u001b[0m\u001b[0;34m)\u001b[0m\u001b[0;34m\u001b[0m\u001b[0m\n\u001b[0m\u001b[1;32m    523\u001b[0m     \u001b[0;32mif\u001b[0m \u001b[0mtype\u001b[0m\u001b[0;34m(\u001b[0m\u001b[0mdistances\u001b[0m\u001b[0;34m)\u001b[0m \u001b[0;34m==\u001b[0m \u001b[0mtype\u001b[0m\u001b[0;34m(\u001b[0m\u001b[0;32mNone\u001b[0m\u001b[0;34m)\u001b[0m\u001b[0;34m:\u001b[0m\u001b[0;34m\u001b[0m\u001b[0m\n\u001b[1;32m    524\u001b[0m         \u001b[0mdistances\u001b[0m \u001b[0;34m=\u001b[0m \u001b[0m_pairwise_distances\u001b[0m\u001b[0;34m(\u001b[0m\u001b[0mX\u001b[0m\u001b[0;34m,\u001b[0m \u001b[0mmetric\u001b[0m\u001b[0;34m)\u001b[0m\u001b[0;31m#, metric=metric, **kwds)\u001b[0m\u001b[0;34m\u001b[0m\u001b[0m\n",
      "\u001b[0;32m/home/yzhang/ThesisWork/Program/sushiPref/sushiCode/sushiCode/beliefKMeans.py\u001b[0m in \u001b[0;36mcheck_number_of_labels\u001b[0;34m(n_labels, n_samples)\u001b[0m\n\u001b[1;32m    468\u001b[0m     \u001b[0;32mif\u001b[0m \u001b[0;32mnot\u001b[0m \u001b[0;36m1\u001b[0m \u001b[0;34m<\u001b[0m \u001b[0mn_labels\u001b[0m \u001b[0;34m<\u001b[0m \u001b[0mn_samples\u001b[0m\u001b[0;34m:\u001b[0m\u001b[0;34m\u001b[0m\u001b[0m\n\u001b[1;32m    469\u001b[0m         raise ValueError(\"Number of labels is %d. Valid values are 2 \"\n\u001b[0;32m--> 470\u001b[0;31m \"to n_samples - 1 (inclusive)\" % n_labels)\n\u001b[0m\u001b[1;32m    471\u001b[0m \u001b[0;34m\u001b[0m\u001b[0m\n\u001b[1;32m    472\u001b[0m \u001b[0;34m\u001b[0m\u001b[0m\n",
      "\u001b[0;31mValueError\u001b[0m: Number of labels is 1. Valid values are 2 to n_samples - 1 (inclusive)"
     ]
    }
   ],
   "source": [
    "for eps in np.arange(2,3,0.1):\n",
    "    for minPts in range(1, 6):\n",
    "        cluster_model40.eps = eps\n",
    "        cluster_model40.min_samples = minPts\n",
    "        labels=cluster_model40.predict(X)\n",
    "        print(eps,minPts, silhouette_score(X,labels, metric = \"conflict\", distances = cluster_model40.distances))"
   ]
  },
  {
   "cell_type": "code",
   "execution_count": 11,
   "metadata": {
    "collapsed": false
   },
   "outputs": [
    {
     "data": {
      "text/plain": [
       "-0.051084027597869723"
      ]
     },
     "execution_count": 11,
     "metadata": {},
     "output_type": "execute_result"
    }
   ],
   "source": [
    "silhouette_score(X,labels)"
   ]
  },
  {
   "cell_type": "code",
   "execution_count": 7,
   "metadata": {
    "collapsed": false,
    "scrolled": true
   },
   "outputs": [
    {
     "name": "stdout",
     "output_type": "stream",
     "text": [
      "centers initialized, shape:(2, 595, 16)\n",
      "Initialization complete\n",
      "E step:\n",
      "labels after step E: [1 0 1 1 1 1 0 1 0 0 0 1 1 1 0 1 1 1 1 0 0 1 0 0 0 0 1 1 0 1 1 1 0 1 0 0 1\n",
      " 0 0 0 1 1 1 1 0 1 1 1 1 0 0 0 1 0 1 0 0 0 0 0 0 0 0 1 0 1 1 1 1 0 0 0 0 0\n",
      " 0 0 1 1 0 0 1 0 0 1 1 0 0 1 1 0 1 1 1 1 1 0 1 0 0 0 0 1 1 1 1 0 1 1 1 0 1\n",
      " 0 0 0 0 0 0 1 0 0 0 1 0 0 0 1 1 1 0 0 1 1 1 1 1 1 1 0 0 0 0 1 1 1 1 0 1]\n",
      "M step:\n",
      "[73 74]\n",
      "new center for 0 calculated\n",
      "new center for 1 calculated\n",
      "Iteration  0, inertia 65.142 \n",
      "Best inertia: None\n",
      "best result updated\n",
      "E step:\n",
      "labels after step E: [1 0 1 1 1 1 0 1 0 0 0 0 1 1 0 1 1 1 1 0 0 1 0 0 0 0 1 1 0 1 1 1 0 1 0 0 1\n",
      " 0 0 0 1 1 1 1 0 1 1 1 1 0 0 0 0 0 1 0 0 0 0 0 0 0 0 0 0 1 1 1 1 0 0 0 0 0\n",
      " 0 0 1 1 0 0 1 0 0 1 1 0 0 1 1 1 1 1 1 1 1 0 1 0 0 0 0 0 1 0 0 0 1 1 1 1 1\n",
      " 0 0 0 0 0 0 1 0 0 0 1 0 0 0 1 1 1 0 0 1 1 1 1 1 1 1 0 0 0 0 1 1 1 1 0 1]\n",
      "M step:\n",
      "[77 70]\n",
      "new center for 0 calculated\n",
      "new center for 1 calculated\n",
      "Iteration  1, inertia 66.097 \n",
      "Best inertia: 65.1416665804\n",
      "E step:\n",
      "labels after step E: [1 0 1 1 1 1 0 0 0 0 0 0 1 1 0 1 1 1 1 0 0 1 0 0 0 0 1 1 0 1 1 1 0 1 0 0 1\n",
      " 0 0 0 1 0 1 1 0 1 1 1 0 0 0 0 0 0 1 0 0 0 0 0 0 0 0 0 0 1 1 1 1 0 0 0 0 0\n",
      " 0 0 1 1 0 0 1 0 0 1 1 0 0 1 1 1 1 1 1 1 0 0 1 0 0 0 0 0 1 0 0 0 1 1 1 1 1\n",
      " 0 0 0 0 0 0 1 0 0 0 1 0 0 0 1 1 1 0 0 1 1 1 1 1 1 1 1 0 0 0 0 1 1 1 0 1]\n",
      "M step:\n",
      "[81 66]\n",
      "new center for 0 calculated\n",
      "new center for 1 calculated\n",
      "Iteration  2, inertia 65.937 \n",
      "Best inertia: 65.1416665804\n",
      "E step:\n",
      "labels after step E: [1 0 1 1 1 1 0 0 0 0 0 0 1 1 0 1 1 1 1 0 0 1 1 0 0 0 1 1 0 1 1 1 0 1 0 0 1\n",
      " 0 0 0 1 0 1 1 0 1 1 1 0 0 0 0 0 0 1 0 0 0 0 0 0 0 0 0 0 1 1 1 1 1 1 0 0 0\n",
      " 0 0 1 1 0 0 1 0 0 1 1 0 0 1 1 1 1 1 1 1 0 0 1 0 0 0 0 0 1 0 0 0 1 1 1 1 1\n",
      " 0 0 0 0 0 0 1 0 0 0 1 0 0 0 1 1 1 0 0 1 1 1 1 1 1 1 1 0 0 0 0 1 1 1 0 1]\n",
      "M step:\n",
      "[78 69]\n",
      "new center for 0 calculated\n",
      "new center for 1 calculated\n",
      "Iteration  3, inertia 65.854 \n",
      "Best inertia: 65.1416665804\n",
      "E step:\n",
      "labels after step E: [1 0 1 1 1 1 0 0 0 0 0 0 1 1 0 1 1 1 1 0 0 1 1 0 0 0 1 1 0 1 1 1 0 1 0 0 1\n",
      " 0 0 0 1 0 1 1 0 1 1 1 0 0 0 0 0 0 1 0 0 0 0 0 0 0 0 0 0 1 1 1 1 1 1 0 0 0\n",
      " 0 0 1 1 0 0 1 0 0 1 1 0 0 1 1 1 1 1 1 1 0 0 1 0 0 0 0 0 1 0 0 0 1 1 1 1 1\n",
      " 0 0 0 0 0 0 1 0 0 0 1 0 0 0 1 1 1 0 0 1 1 1 1 1 1 1 1 0 0 0 0 1 1 1 0 1]\n",
      "M step:\n",
      "[78 69]\n",
      "new center for 0 calculated\n",
      "new center for 1 calculated\n",
      "Iteration  4, inertia 65.806 \n",
      "Best inertia: 65.1416665804\n",
      "Converged at iteration 4: center shift 0.000000e+00 within tolerance 1.000000e-03\n"
     ]
    }
   ],
   "source": [
    "labels, inertia, centers, distances, iterNb = _k_means_single(X, 2, init='k_means',max_iter = 20, verbose = True)\n",
    "#centers, labels, inertia, distances, iterNb = k_means(X, 2,n_init=5, verbose=True, return_n_iter=True)"
   ]
  },
  {
   "cell_type": "code",
   "execution_count": 27,
   "metadata": {
    "collapsed": false
   },
   "outputs": [
    {
     "data": {
      "text/plain": [
       "array([1, 0, 1, 0, 1, 0, 1, 0, 0, 0, 0, 0], dtype=int32)"
      ]
     },
     "execution_count": 27,
     "metadata": {},
     "output_type": "execute_result"
    }
   ],
   "source": [
    "labels"
   ]
  },
  {
   "cell_type": "code",
   "execution_count": 15,
   "metadata": {
    "collapsed": false
   },
   "outputs": [
    {
     "data": {
      "text/plain": [
       "array([2, 2])"
      ]
     },
     "execution_count": 15,
     "metadata": {},
     "output_type": "execute_result"
    }
   ],
   "source": [
    "np.bincount(labels, minlength=2)"
   ]
  },
  {
   "cell_type": "code",
   "execution_count": 16,
   "metadata": {
    "collapsed": false
   },
   "outputs": [
    {
     "data": {
      "text/plain": [
       "0.0"
      ]
     },
     "execution_count": 16,
     "metadata": {},
     "output_type": "execute_result"
    }
   ],
   "source": [
    "inertia"
   ]
  },
  {
   "cell_type": "code",
   "execution_count": 10,
   "metadata": {
    "collapsed": false
   },
   "outputs": [
    {
     "data": {
      "text/plain": [
       "array([[[4.08903414923675e-18, 0.03559006211180057, 0.03613354037267074,\n",
       "         ..., -1.9345636204093318e-15, 8.881784197001239e-17,\n",
       "         0.912204968944101],\n",
       "        [-1.9694391045528367e-18, 0.0456366459627337, 0.04472049689441075,\n",
       "         ..., 3.423650252187823e-15, 4.08562073062057e-15,\n",
       "         0.8817391304347761],\n",
       "        [-2.1380412968018938e-18, 0.09032608695652238,\n",
       "         0.027468944099379836, ..., 3.6706748751669214e-15,\n",
       "         6.30606677987088e-15, 0.8716149068322897],\n",
       "        ..., \n",
       "        [1.0915526591644531e-17, 0.005869565217391327,\n",
       "         0.005341614906832341, ..., 2.386979502944088e-16,\n",
       "         8.8817841970012395e-16, 0.9887888198757764],\n",
       "        [2.2025514607477978e-17, 1.5462492682164045e-16,\n",
       "         0.01074534161490708, ..., 1.4488410471358282e-15,\n",
       "         2.3980817331903347e-15, 0.9892546583850903],\n",
       "        [5.916456789157588e-32, -2.442689856871144e-16,\n",
       "         -3.097886495062221e-17, ..., -8.743006318923093e-16, 0.0,\n",
       "         1.000000000000001]],\n",
       "\n",
       "       [[-8.266100222609825e-18, 0.061852941176470104,\n",
       "         0.055102941176470084, ..., -5.412337245047645e-17,\n",
       "         -2.664535259100372e-16, 0.8369705882352944],\n",
       "        [-1.3832889082554005e-17, 0.0718382352941177, 0.05877941176470611,\n",
       "         ..., 1.5487611193520917e-15, 1.598721155460223e-15,\n",
       "         0.8360294117647038],\n",
       "        [-1.841811017425602e-17, 0.050455882352941364, 0.03245588235294158,\n",
       "         ..., 2.5410229476108246e-15, 2.7533531010703844e-15,\n",
       "         0.8940294117647022],\n",
       "        ..., \n",
       "        [-9.061379098029399e-20, -1.2408098775686076e-16,\n",
       "         0.005441176470588205, ..., -1.0144662887512357e-15,\n",
       "         -9.769962616701365e-16, 0.994558823529415],\n",
       "        [-5.729893683708711e-18, 0.005529411764705352,\n",
       "         0.0026029411764705132, ..., -1.8138268664813466e-15,\n",
       "         -1.7763568394002479e-16, 0.9892647058823548],\n",
       "        [-1.7081924110500846e-17, 0.008029411764705601,\n",
       "         0.010264705882352771, ..., -2.3023249973164157e-15,\n",
       "         -1.8651746813702603e-15, 0.9742647058823564]]], dtype=object)"
      ]
     },
     "execution_count": 10,
     "metadata": {},
     "output_type": "execute_result"
    }
   ],
   "source": [
    "centers"
   ]
  },
  {
   "cell_type": "code",
   "execution_count": 8,
   "metadata": {
    "collapsed": false
   },
   "outputs": [
    {
     "data": {
      "text/plain": [
       "0.0092941482192552029"
      ]
     },
     "execution_count": 8,
     "metadata": {},
     "output_type": "execute_result"
    }
   ],
   "source": [
    "from beliefKMeans import _inter_intra_inertia, _ratio_inter_intra_inertia\n",
    "_inter_intra_inertia(centers, labels, distances)\n",
    "_ratio_inter_intra_inertia(centers, labels, distances)"
   ]
  },
  {
   "cell_type": "code",
   "execution_count": 25,
   "metadata": {
    "collapsed": false
   },
   "outputs": [
    {
     "name": "stderr",
     "output_type": "stream",
     "text": [
      "/home/yzhang/ThesisWork/Program/sushiPref/sushiCode/sushiCode/iBelief/distance.py:18: FutureWarning: comparison to `None` will result in an elementwise object comparison in the future.\n",
      "  if D== None:\n"
     ]
    },
    {
     "data": {
      "text/plain": [
       "0.021218149852089679"
      ]
     },
     "execution_count": 25,
     "metadata": {},
     "output_type": "execute_result"
    }
   ],
   "source": [
    "silhouette_score(X,labels)"
   ]
  }
 ],
 "metadata": {
  "kernelspec": {
   "display_name": "Python 3",
   "language": "python",
   "name": "python3"
  },
  "language_info": {
   "codemirror_mode": {
    "name": "ipython",
    "version": 3
   },
   "file_extension": ".py",
   "mimetype": "text/x-python",
   "name": "python",
   "nbconvert_exporter": "python",
   "pygments_lexer": "ipython3",
   "version": "3.5.2"
  }
 },
 "nbformat": 4,
 "nbformat_minor": 1
}
