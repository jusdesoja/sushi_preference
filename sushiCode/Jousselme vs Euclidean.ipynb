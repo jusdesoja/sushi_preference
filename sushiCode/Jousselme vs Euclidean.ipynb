{
 "cells": [
  {
   "cell_type": "markdown",
   "metadata": {},
   "source": [
    "# Experiment -- Jousselme distance v.s. Euclidean metric \n",
    "This experiment takes Jousselme distance and euclidean metric as two dissimilarity measure functions and compare the clustring results under EKNNclus.\n",
    "Data is from sushi3 data with most shared 40 sushi"
   ]
  },
  {
   "cell_type": "code",
   "execution_count": 265,
   "metadata": {
    "collapsed": false,
    "scrolled": false
   },
   "outputs": [],
   "source": [
    "%matplotlib qt5\n",
    "import numpy as np\n",
    "import pandas as pd\n",
    "from mpl_toolkits.basemap import Basemap\n",
    "import matplotlib.pyplot as plt\n",
    "\n",
    "import random\n",
    "import re\n",
    "\n",
    "from read import read_voter_file, read_score_file, read_order_file\n",
    "from tools import all_mass_init, all_certain_mass_init, flatten_pref_mass_mat\n",
    "from beliefKMeans import k_means, silhouette_score, _k_means_single\n",
    "from beliefDBSCAN import cal_distances\n",
    "\n",
    "from jpGeoPlot import scatter_on_map, read_geo_info\n",
    "\n",
    "\n"
   ]
  },
  {
   "cell_type": "markdown",
   "metadata": {},
   "source": [
    "geo_info = pd.read_csv(\"../data/jap_prefecture_geo_en.csv\")\n",
    "vMap = read_voter_file(\"../data/sushi3-2016/sushi3.udata\")\n",
    "read_score_file(\"../data/sushi3-2016/sushi3b.5000.10.score\", vMap)\n",
    "read_order_file(\"../data/sushi3-2016/sushi3b.5000.10.order\", vMap)"
   ]
  },
  {
   "cell_type": "code",
   "execution_count": 266,
   "metadata": {
    "collapsed": true
   },
   "outputs": [],
   "source": [
    "geo_info = read_geo_info(\"../data/jap_prefecture_geo_en.csv\")\n",
    "vMap = read_voter_file(\"../data/sushi3-2016/sushi3.com40.udata\")\n",
    "read_score_file(\"../data/sushi3-2016/sushi3b.com40.10.score\", vMap)\n",
    "read_order_file(\"../data/sushi3-2016/sushi3b.com40.10.order\", vMap)"
   ]
  },
  {
   "cell_type": "code",
   "execution_count": 28,
   "metadata": {
    "collapsed": false
   },
   "outputs": [],
   "source": [
    "cand_list = list(range(100))\n",
    "n_item = 100\n",
    "n_sample = len(vMap)\n",
    "vector_size = 16\n",
    "n_pref_pair = int(n_item*(n_item-1)/2)\n",
    "X = np.empty((n_sample, n_pref_pair, vector_size),dtype = object)\n",
    "for k,v in vMap.items():\n",
    "    #print(v.get_order_a())\n",
    "    X[k] = flatten_pref_mass_mat(all_mass_init(v.get_scores(), v.get_order_b(), cand_list, nbItem = n_item))"
   ]
  },
  {
   "cell_type": "code",
   "execution_count": 29,
   "metadata": {
    "collapsed": true
   },
   "outputs": [],
   "source": [
    "dist_mat = cal_distances(X, 'jousselme')"
   ]
  },
  {
   "cell_type": "code",
   "execution_count": 44,
   "metadata": {
    "collapsed": true
   },
   "outputs": [],
   "source": [
    "dist_mat_2 = dist_mat*100"
   ]
  },
  {
   "cell_type": "code",
   "execution_count": 30,
   "metadata": {
    "collapsed": true
   },
   "outputs": [],
   "source": [
    "def cal_pair_in_common(vMap):\n",
    "    com_mat = np.zeros((len(vMap),len(vMap)))\n",
    "    for i in vMap.keys():\n",
    "        for j in vMap.keys():\n",
    "            com_element=len(set(vMap[i].get_order_b()).intersection(set(vMap[j].get_order_b())))\n",
    "            #com_mat[i][j] = com_element*(com_element-1)/2\n",
    "            com_mat[i][j] = com_element\n",
    "    return com_mat"
   ]
  },
  {
   "cell_type": "code",
   "execution_count": 45,
   "metadata": {
    "collapsed": false
   },
   "outputs": [
    {
     "data": {
      "text/plain": [
       "array([[ 0.        ,  1.28319753,  1.33656021, ...,  1.40209994,\n",
       "         1.36789739,  1.42079017],\n",
       "       [ 1.28319753,  0.        ,  1.22326495, ...,  1.25666202,\n",
       "         1.28564371,  1.14139162],\n",
       "       [ 1.33656021,  1.22326495,  0.        , ...,  1.30937597,\n",
       "         1.2862837 ,  1.30183528],\n",
       "       ..., \n",
       "       [ 1.40209994,  1.25666202,  1.30937597, ...,  0.        ,\n",
       "         1.39425989,  1.34574569],\n",
       "       [ 1.36789739,  1.28564371,  1.2862837 , ...,  1.39425989,\n",
       "         0.        ,  1.39348654],\n",
       "       [ 1.42079017,  1.14139162,  1.30183528, ...,  1.34574569,\n",
       "         1.39348654,  0.        ]])"
      ]
     },
     "execution_count": 45,
     "metadata": {},
     "output_type": "execute_result"
    }
   ],
   "source": [
    "dist_mat_2"
   ]
  },
  {
   "cell_type": "code",
   "execution_count": 50,
   "metadata": {
    "collapsed": false,
    "scrolled": true
   },
   "outputs": [
    {
     "name": "stdout",
     "output_type": "stream",
     "text": [
      "0 1 273 103\n",
      "0 2 95 72\n",
      "0 3 103 45\n",
      "0 4 112 30\n",
      "0 5 76 10\n",
      "0 6 13 4\n",
      "0 7 4 4\n",
      "0 8 1 3\n",
      "0 9 0 3\n",
      "1 1 274 111\n",
      "1 2 123 59\n",
      "1 3 63 45\n",
      "1 4 132 25\n",
      "1 5 58 7\n",
      "1 6 15 3\n",
      "1 7 0 3\n",
      "2 1 270 108\n",
      "2 2 104 67\n",
      "2 3 75 47\n",
      "2 4 53 42\n",
      "2 5 41 35\n",
      "2 6 71 27\n",
      "2 7 100 15\n",
      "2 8 44 6\n",
      "2 9 5 3\n",
      "2 10 0 3\n",
      "3 1 275 109\n",
      "3 2 135 56\n",
      "3 3 150 19\n",
      "3 4 44 5\n",
      "3 5 3 2\n",
      "3 6 0 2\n",
      "4 1 278 105\n",
      "4 2 140 56\n",
      "4 3 158 23\n",
      "4 4 51 4\n",
      "4 5 5 3\n",
      "4 6 4 2\n",
      "4 7 0 2\n",
      "5 1 273 103\n",
      "5 2 105 64\n",
      "5 3 67 46\n",
      "5 4 77 33\n",
      "5 5 83 24\n",
      "5 6 75 18\n",
      "5 7 91 11\n",
      "5 8 15 3\n",
      "5 9 4 2\n",
      "5 10 0 2\n",
      "6 1 274 106\n",
      "6 2 111 64\n",
      "6 3 65 45\n",
      "6 4 57 36\n",
      "6 5 76 26\n",
      "6 6 95 14\n",
      "6 7 59 6\n",
      "6 8 10 3\n",
      "6 9 0 3\n",
      "7 1 269 109\n",
      "7 2 112 68\n",
      "7 3 82 48\n",
      "7 4 76 30\n",
      "7 5 96 16\n",
      "7 6 42 5\n",
      "7 7 8 3\n",
      "7 8 1 2\n",
      "7 9 0 2\n",
      "8 1 273 106\n",
      "8 2 94 65\n",
      "8 3 72 48\n",
      "8 4 75 36\n",
      "8 5 64 30\n",
      "8 6 42 24\n",
      "8 7 58 17\n",
      "8 8 39 9\n",
      "8 9 17 7\n",
      "8 10 35 6\n",
      "8 11 30 5\n",
      "8 12 13 4\n",
      "8 13 17 4\n",
      "8 14 10 3\n",
      "8 15 20 3\n",
      "8 16 11 2\n",
      "8 17 0 2\n",
      "9 1 279 107\n",
      "9 2 117 56\n",
      "9 3 62 43\n",
      "9 4 48 33\n",
      "9 5 106 24\n",
      "9 6 91 9\n",
      "9 7 34 6\n",
      "9 8 9 4\n",
      "9 9 2 4\n",
      "9 10 2 4\n",
      "9 11 1 3\n",
      "9 12 0 3\n"
     ]
    }
   ],
   "source": [
    "import EKNNclus\n",
    "knn_ind, knn_dist = EKNNclus.get_KNN(dist_mat, 3)\n",
    "alpha_mat = cal_pair_in_common(vMap)/10\n",
    "knn_alpha = np.zeros(knn_ind.shape)\n",
    "for i in range(knn_ind.shape[0]):\n",
    "    knn_alpha[i] = alpha_mat[i][knn_ind[i]]\n",
    "#print(knn_alpha)\n",
    "knn_ind[0]*alpha_mat[0][[41,47,46]]\n",
    "\n",
    "clus = EKNNclus.EKNNclus_Th(X, K = 6, D = dist_mat_2, alpha_mat = alpha_mat,ntrials=10, y0 = list(range(X.shape[0])),tr = True)"
   ]
  },
  {
   "cell_type": "code",
   "execution_count": 51,
   "metadata": {
    "collapsed": false,
    "scrolled": true
   },
   "outputs": [
    {
     "data": {
      "text/plain": [
       "array([0, 0, 0, 0, 0, 0, 0, 0, 0, 0, 0, 0, 0, 0, 0, 0, 0, 0, 0, 0, 0, 0, 0,\n",
       "       0, 0, 0, 0, 0, 0, 0, 0, 0, 0, 0, 0, 0, 0, 0, 0, 0, 0, 0, 0, 0, 0, 0,\n",
       "       0, 0, 0, 0, 0, 0, 0, 0, 0, 0, 0, 0, 0, 0, 0, 0, 0, 0, 0, 0, 0, 0, 0,\n",
       "       0, 0, 0, 0, 0, 0, 0, 0, 0, 0, 0, 0, 0, 0, 0, 0, 0, 0, 0, 0, 0, 0, 0,\n",
       "       0, 0, 0, 0, 0, 0, 0, 0, 0, 0, 0, 0, 0, 0, 0, 0, 0, 0, 0, 0, 0, 0, 0,\n",
       "       0, 0, 0, 0, 0, 0, 0, 0, 0, 0, 0, 0, 0, 0, 0, 0, 0, 0, 0, 0, 0, 0, 0,\n",
       "       0, 0, 0, 0, 0, 0, 0, 0, 0, 0, 0, 0, 0, 0, 0, 0, 0, 0, 0, 0, 0, 0, 0,\n",
       "       0, 0, 0, 0, 0, 0, 0, 0, 0, 0, 0, 0, 0, 0, 0, 0, 0, 0, 0, 0, 0, 0, 0,\n",
       "       0, 0, 0, 0, 0, 0, 0, 0, 0, 0, 0, 0, 0, 0, 0, 0, 0, 0, 1, 0, 0, 0, 0,\n",
       "       0, 0, 0, 0, 0, 0, 0, 0, 0, 0, 0, 0, 0, 0, 0, 0, 0, 0, 0, 0, 0, 0, 0,\n",
       "       0, 0, 0, 0, 0, 0, 0, 0, 0, 0, 0, 0, 0, 0, 0, 0, 0, 0, 0, 0, 0, 0, 0,\n",
       "       0, 0, 0, 0, 0, 0, 0, 0, 0, 0, 0, 0, 0, 0, 0, 0, 0, 0, 0, 0, 0, 0, 0,\n",
       "       0, 0, 0, 0, 0, 0, 0, 0, 0, 0, 0, 0, 0, 0, 0, 1, 0, 0, 0, 0, 0, 0, 0,\n",
       "       0, 0, 0, 0, 0, 0, 0, 0, 0, 0, 0, 0, 0, 0, 0, 0, 0, 0, 0, 0, 0, 0, 0,\n",
       "       0, 0, 0, 0, 0, 0, 0, 0, 0])"
      ]
     },
     "execution_count": 51,
     "metadata": {},
     "output_type": "execute_result"
    }
   ],
   "source": [
    "clus"
   ]
  },
  {
   "cell_type": "code",
   "execution_count": 267,
   "metadata": {
    "collapsed": false,
    "scrolled": true
   },
   "outputs": [
    {
     "name": "stderr",
     "output_type": "stream",
     "text": [
      "/home/yzhang/miniconda3/lib/python3.5/site-packages/mpl_toolkits/basemap/__init__.py:1767: MatplotlibDeprecationWarning: The get_axis_bgcolor function was deprecated in version 2.0. Use get_facecolor instead.\n",
      "  axisbgc = ax.get_axis_bgcolor()\n",
      "/home/yzhang/miniconda3/lib/python3.5/site-packages/mpl_toolkits/basemap/__init__.py:3222: MatplotlibDeprecationWarning: The ishold function was deprecated in version 2.0.\n",
      "  b = ax.ishold()\n",
      "/home/yzhang/miniconda3/lib/python3.5/site-packages/mpl_toolkits/basemap/__init__.py:3231: MatplotlibDeprecationWarning: axes.hold is deprecated.\n",
      "    See the API Changes document (http://matplotlib.org/api/api_changes.html)\n",
      "    for more details.\n",
      "  ax.hold(b)\n"
     ]
    }
   ],
   "source": [
    "scatter_on_map(vMap, clus, geo_info)"
   ]
  },
  {
   "cell_type": "markdown",
   "metadata": {},
   "source": [
    "## Jousselme metric"
   ]
  },
  {
   "cell_type": "code",
   "execution_count": 53,
   "metadata": {
    "collapsed": true
   },
   "outputs": [],
   "source": [
    "from iBelief.distance import JousselmeDistance\n",
    "from iBelief.Dcalculus import Dcalculus\n",
    "import numpy as np"
   ]
  },
  {
   "cell_type": "code",
   "execution_count": 176,
   "metadata": {
    "collapsed": true
   },
   "outputs": [],
   "source": [
    "new_matrix = np.genfromtxt(\"/home/yzhang/ThesisWork/Program/sushiPref/experiment/generatedMass.csv\")\n",
    "new_matrix = new_matrix.T"
   ]
  },
  {
   "cell_type": "code",
   "execution_count": 219,
   "metadata": {
    "collapsed": false
   },
   "outputs": [
    {
     "name": "stdout",
     "output_type": "stream",
     "text": [
      "[ 0.  0.  0.  0.  0.  0.  0.  0.  0.  0.  0.  0.  0.  0.  0.  0.  0.  0.\n",
      "  0.  0.  0.  0.  0.  0.  0.  0.  0.  0.  0.  0.  0.  0.  0.  0.  0.  0.\n",
      "  0.  0.  0.  0.  0.  0.  0.  0.  0.  0.  0.  0.  0.  0.  1.  1.  1.  1.\n",
      "  1.  1.  1.  1.  1.  1.  1.  1.  1.  1.  1.  1.  1.  1.  1.  1.  1.  1.\n",
      "  1.  1.  1.  1.  1.  1.  1.  1.  1.  1.  1.  1.  1.  1.  1.  1.  1.  1.\n",
      "  1.  1.  1.  1.  1.  1.  1.  1.  1.  1.  2.  2.  2.  2.  2.  2.  2.  2.\n",
      "  2.  2.  2.  2.  2.  2.  2.  2.  2.  2.  2.  2.  2.  2.  2.  2.  2.  2.\n",
      "  2.  2.  2.  2.  2.  2.  2.  2.  2.  2.  2.  2.  2.  2.  2.  2.  2.  2.\n",
      "  2.  2.  2.  2.  2.  2.  3.  3.  3.  3.  3.  3.  3.  3.  3.  3.  3.  3.\n",
      "  3.  3.  3.  3.  3.  3.  3.  3.  3.  3.  3.  3.  3.  3.  3.  3.  3.  3.\n",
      "  3.  3.  3.  3.  3.  3.  3.  3.  3.  3.  3.  3.  3.  3.  3.  3.  3.  3.\n",
      "  3.  3.]\n",
      "50\n"
     ]
    }
   ],
   "source": [
    "labels_true = np.zeros((200))\n",
    "labels_true[0:50] = 0\n",
    "labels_true[50:100] = 1\n",
    "labels_true[100:150] = 2\n",
    "labels_true[150:200] = 3\n",
    "print(labels_true)\n",
    "print(len(np.where(labels_true==0)[0]))"
   ]
  },
  {
   "cell_type": "code",
   "execution_count": 220,
   "metadata": {
    "collapsed": false
   },
   "outputs": [],
   "source": [
    "D = Dcalculus(16)\n",
    "size = new_matrix.shape[0]\n",
    "generated_mat_distances = np.zeros((size, size))\n",
    "for i in range(size):\n",
    "    for j in range(size):\n",
    "        if j>i:\n",
    "            generated_mat_distances[i][j] = JousselmeDistance(new_matrix[i], new_matrix[j], D)"
   ]
  },
  {
   "cell_type": "code",
   "execution_count": 221,
   "metadata": {
    "collapsed": false
   },
   "outputs": [],
   "source": [
    "generated_mat_distances = generated_mat_distances+generated_mat_distances.T"
   ]
  },
  {
   "cell_type": "code",
   "execution_count": 222,
   "metadata": {
    "collapsed": false
   },
   "outputs": [
    {
     "data": {
      "text/plain": [
       "array([[ 0.        ,  0.11560226,  0.13551698, ...,  0.43510741,\n",
       "         0.37119032,  0.78541015],\n",
       "       [ 0.11560226,  0.        ,  0.01991473, ...,  0.51566337,\n",
       "         0.47997347,  0.81096133],\n",
       "       [ 0.13551698,  0.01991473,  0.        , ...,  0.53084993,\n",
       "         0.49902318,  0.81693561],\n",
       "       ..., \n",
       "       [ 0.43510741,  0.51566337,  0.53084993, ...,  0.        ,\n",
       "         0.20763474,  0.4645378 ],\n",
       "       [ 0.37119032,  0.47997347,  0.49902318, ...,  0.20763474,\n",
       "         0.        ,  0.67217254],\n",
       "       [ 0.78541015,  0.81096133,  0.81693561, ...,  0.4645378 ,\n",
       "         0.67217254,  0.        ]])"
      ]
     },
     "execution_count": 222,
     "metadata": {},
     "output_type": "execute_result"
    }
   ],
   "source": [
    "generated_mat_distances"
   ]
  },
  {
   "cell_type": "code",
   "execution_count": 250,
   "metadata": {
    "collapsed": false,
    "scrolled": true
   },
   "outputs": [
    {
     "name": "stdout",
     "output_type": "stream",
     "text": [
      "0 1 185 27\n",
      "0 2 48 10\n",
      "0 3 4 8\n",
      "0 4 3 8\n",
      "0 5 6 8\n",
      "0 6 1 7\n",
      "0 7 0 7\n",
      "1 1 182 27\n",
      "1 2 53 11\n",
      "1 3 22 9\n",
      "1 4 5 7\n",
      "1 5 0 7\n",
      "2 1 183 33\n",
      "2 2 61 10\n",
      "2 3 14 6\n",
      "2 4 6 6\n",
      "2 5 0 6\n",
      "3 1 185 34\n",
      "3 2 52 9\n",
      "3 3 8 8\n",
      "3 4 1 8\n",
      "3 5 0 8\n",
      "4 1 189 24\n",
      "4 2 32 7\n",
      "4 3 1 7\n",
      "4 4 3 7\n",
      "4 5 7 6\n",
      "4 6 0 6\n",
      "5 1 191 28\n",
      "5 2 47 7\n",
      "5 3 6 6\n",
      "5 4 7 6\n",
      "5 5 4 5\n",
      "5 6 1 5\n",
      "5 7 0 5\n",
      "6 1 185 37\n",
      "6 2 51 13\n",
      "6 3 13 10\n",
      "6 4 25 9\n",
      "6 5 15 6\n",
      "6 6 0 6\n",
      "7 1 184 35\n",
      "7 2 65 9\n",
      "7 3 15 7\n",
      "7 4 4 6\n",
      "7 5 0 6\n",
      "8 1 188 26\n",
      "8 2 48 8\n",
      "8 3 8 8\n",
      "8 4 14 6\n",
      "8 5 3 6\n",
      "8 6 8 6\n",
      "8 7 1 5\n",
      "8 8 11 5\n",
      "8 9 4 4\n",
      "8 10 0 4\n",
      "9 1 180 31\n",
      "9 2 40 16\n",
      "9 3 35 14\n",
      "9 4 18 12\n",
      "9 5 16 11\n",
      "9 6 21 9\n",
      "9 7 13 7\n",
      "9 8 7 7\n",
      "9 9 3 6\n",
      "9 10 0 6\n",
      "10 1 183 37\n",
      "10 2 83 10\n",
      "10 3 29 5\n",
      "10 4 4 5\n",
      "10 5 3 5\n",
      "10 6 0 5\n",
      "11 1 184 28\n",
      "11 2 43 12\n",
      "11 3 12 8\n",
      "11 4 4 7\n",
      "11 5 0 7\n",
      "12 1 184 32\n",
      "12 2 61 9\n",
      "12 3 14 6\n",
      "12 4 2 6\n",
      "12 5 0 6\n",
      "13 1 186 31\n",
      "13 2 59 10\n",
      "13 3 23 6\n",
      "13 4 5 5\n",
      "13 5 0 5\n",
      "14 1 184 27\n",
      "14 2 36 12\n",
      "14 3 12 9\n",
      "14 4 15 8\n",
      "14 5 11 7\n",
      "14 6 1 6\n",
      "14 7 0 6\n",
      "15 1 186 29\n",
      "15 2 46 10\n",
      "15 3 17 8\n",
      "15 4 11 7\n",
      "15 5 3 6\n",
      "15 6 7 6\n",
      "15 7 4 5\n",
      "15 8 0 5\n",
      "16 1 185 33\n",
      "16 2 47 9\n",
      "16 3 10 8\n",
      "16 4 3 8\n",
      "16 5 0 8\n",
      "17 1 182 32\n",
      "17 2 63 9\n",
      "17 3 16 8\n",
      "17 4 14 6\n",
      "17 5 3 6\n",
      "17 6 1 6\n",
      "17 7 0 6\n",
      "18 1 182 34\n",
      "18 2 54 9\n",
      "18 3 12 6\n",
      "18 4 11 5\n",
      "18 5 0 5\n",
      "19 1 186 31\n",
      "19 2 52 9\n",
      "19 3 17 7\n",
      "19 4 5 6\n",
      "19 5 7 6\n",
      "19 6 2 5\n",
      "19 7 0 5\n",
      "20 1 185 30\n",
      "20 2 48 10\n",
      "20 3 15 8\n",
      "20 4 8 6\n",
      "20 5 0 6\n",
      "21 1 185 26\n",
      "21 2 52 9\n",
      "21 3 13 5\n",
      "21 4 0 5\n",
      "22 1 178 33\n",
      "22 2 59 12\n",
      "22 3 10 10\n",
      "22 4 7 10\n",
      "22 5 13 9\n",
      "22 6 16 7\n",
      "22 7 18 6\n",
      "22 8 3 5\n",
      "22 9 0 5\n",
      "23 1 183 34\n",
      "23 2 59 11\n",
      "23 3 20 8\n",
      "23 4 2 7\n",
      "23 5 2 7\n",
      "23 6 0 7\n",
      "24 1 185 34\n",
      "24 2 69 9\n",
      "24 3 16 7\n",
      "24 4 5 6\n",
      "24 5 2 6\n",
      "24 6 0 6\n",
      "25 1 186 26\n",
      "25 2 39 10\n",
      "25 3 16 9\n",
      "25 4 12 8\n",
      "25 5 3 7\n",
      "25 6 0 7\n",
      "26 1 183 29\n",
      "26 2 52 9\n",
      "26 3 16 7\n",
      "26 4 2 6\n",
      "26 5 0 6\n",
      "27 1 187 34\n",
      "27 2 51 9\n",
      "27 3 9 8\n",
      "27 4 6 7\n",
      "27 5 0 7\n",
      "28 1 190 29\n",
      "28 2 42 6\n",
      "28 3 2 6\n",
      "28 4 0 6\n",
      "29 1 188 31\n",
      "29 2 54 9\n",
      "29 3 16 7\n",
      "29 4 3 7\n",
      "29 5 10 6\n",
      "29 6 5 5\n",
      "29 7 0 5\n",
      "0.376137158724 4 0.185362468223\n"
     ]
    }
   ],
   "source": [
    "clus = EKNNclus.EKNNclus_Th(new_matrix, K = 65, D = generated_mat_distances , ntrials=30, \n",
    "                            y0 = list(range(new_matrix.shape[0])),tr = False)\n",
    "jousselme_ss = silhouette_score(new_matrix, clus, generated_mat_distances)\n",
    "print(jousselme_ss, len(np.unique(clus)), sklearn.metrics.adjusted_rand_score(labels_true, clus))"
   ]
  },
  {
   "cell_type": "code",
   "execution_count": 227,
   "metadata": {
    "collapsed": false,
    "scrolled": true
   },
   "outputs": [
    {
     "data": {
      "text/plain": [
       "0.22045042931200096"
      ]
     },
     "execution_count": 227,
     "metadata": {},
     "output_type": "execute_result"
    }
   ],
   "source": [
    "sklearn.metrics.adjusted_rand_score(labels_true, clus)"
   ]
  },
  {
   "cell_type": "code",
   "execution_count": 201,
   "metadata": {
    "collapsed": false
   },
   "outputs": [
    {
     "data": {
      "text/plain": [
       "(array([152, 155, 157, 158, 159, 160, 162, 164, 168, 171, 173, 175, 176,\n",
       "        177, 181, 185, 186, 188, 189, 190, 192, 193, 196, 199]),)"
      ]
     },
     "execution_count": 201,
     "metadata": {},
     "output_type": "execute_result"
    }
   ],
   "source": [
    "np.where(clus==3)"
   ]
  },
  {
   "cell_type": "code",
   "execution_count": 85,
   "metadata": {
    "collapsed": false
   },
   "outputs": [],
   "source": [
    "from sklearn.preprocessing import LabelEncoder\n",
    "def check_number_of_labels(n_labels, n_samples):\n",
    "    if not 1 < n_labels < n_samples:\n",
    "        raise ValueError(\"Number of labels is %d. Valid values are 2 \"\n",
    "\"to n_samples - 1 (inclusive)\" % n_labels)\n",
    "def silhouette_samples(X, labels, distances):#, **kwds):\n",
    "    #X, labels = check_X_y(X, labels, accept_sparse=['csc', 'csr'])\n",
    "    le = LabelEncoder()\n",
    "    labels = le.fit_transform(labels)\n",
    "    check_number_of_labels(len(le.classes_), X.shape[0])\n",
    "    #if type(distances) == type(None):\n",
    "    #    distances = JousselmeDistance(X, metric)#, metric=metric, **kwds)\n",
    "    unique_labels = le.classes_\n",
    "    n_samples_per_label = np.bincount(labels, minlength=len(unique_labels))\n",
    "\n",
    "    # For sample i, store the mean distance of the cluster to which\n",
    "    # it belongs in intra_clust_dists[i]\n",
    "    intra_clust_dists = np.zeros(distances.shape[0], dtype=distances.dtype)\n",
    "\n",
    "    # For sample i, store the mean distance of the second closest\n",
    "    # cluster in inter_clust_dists[i]\n",
    "    inter_clust_dists = np.inf + intra_clust_dists\n",
    "\n",
    "    for curr_label in range(len(unique_labels)):\n",
    "\n",
    "        # Find inter_clust_dist for all samples belonging to the same\n",
    "        # label.\n",
    "        mask = labels == curr_label\n",
    "        current_distances = distances[mask]\n",
    "\n",
    "        # Leave out current sample.\n",
    "        n_samples_curr_lab = n_samples_per_label[curr_label] - 1\n",
    "        if n_samples_curr_lab != 0:\n",
    "            intra_clust_dists[mask] = np.sum(\n",
    "                current_distances[:, mask], axis=1) / n_samples_curr_lab\n",
    "\n",
    "        # Now iterate over all other labels, finding the mean\n",
    "        # cluster distance that is closest to every sample.\n",
    "        for other_label in range(len(unique_labels)):\n",
    "            if other_label != curr_label:\n",
    "                other_mask = labels == other_label\n",
    "                other_distances = np.mean(\n",
    "                    current_distances[:, other_mask], axis=1)\n",
    "                inter_clust_dists[mask] = np.minimum(\n",
    "                    inter_clust_dists[mask], other_distances)\n",
    "\n",
    "    sil_samples = inter_clust_dists - intra_clust_dists\n",
    "    sil_samples /= np.maximum(intra_clust_dists, inter_clust_dists)\n",
    "    # score 0 for clusters of size 1, according to the paper\n",
    "    sil_samples[n_samples_per_label.take(labels) == 1] = 0\n",
    "    return sil_samples\n",
    "def silhouette_score(X, labels,distances = None, metric='euclidean', sample_size=None,\n",
    "                     random_state=None,  **kwds):\n",
    "    if sample_size is not None:\n",
    "        #X, labels = check_X_y(X, labels, accept_sparse=['csc', 'csr'])\n",
    "        random_state = check_random_state(random_state)\n",
    "        indices = random_state.permutation(X.shape[0])[:sample_size]\n",
    "        if metric == \"precomputed\":\n",
    "            X, labels = X[indices].T[indices].T, labels[indices]\n",
    "        else:\n",
    "            X, labels = X[indices], labels[indices]\n",
    "    return np.mean(silhouette_samples(X, labels, distances = distances,**kwds))\n",
    "\n",
    "\n"
   ]
  },
  {
   "cell_type": "code",
   "execution_count": 103,
   "metadata": {
    "collapsed": false
   },
   "outputs": [
    {
     "name": "stdout",
     "output_type": "stream",
     "text": [
      "0.142436392191\n"
     ]
    }
   ],
   "source": [
    "jousselme_ss = silhouette_score(new_matrix, clus, generated_mat_distances)\n",
    "print(jousselme_ss)"
   ]
  },
  {
   "cell_type": "code",
   "execution_count": 104,
   "metadata": {
    "collapsed": false
   },
   "outputs": [
    {
     "data": {
      "text/plain": [
       "0.1424363921909102"
      ]
     },
     "execution_count": 104,
     "metadata": {},
     "output_type": "execute_result"
    }
   ],
   "source": [
    "jousselme_ss"
   ]
  },
  {
   "cell_type": "markdown",
   "metadata": {},
   "source": [
    "## L1 norm metric"
   ]
  },
  {
   "cell_type": "code",
   "execution_count": 88,
   "metadata": {
    "collapsed": true
   },
   "outputs": [],
   "source": [
    "from sklearn.metrics.pairwise import euclidean_distances\n",
    "import sklearn.metrics \n",
    "from sklearn.cluster import KMeans\n"
   ]
  },
  {
   "cell_type": "code",
   "execution_count": 248,
   "metadata": {
    "collapsed": false,
    "scrolled": true
   },
   "outputs": [
    {
     "name": "stdout",
     "output_type": "stream",
     "text": [
      "0 1 182 29\n",
      "0 2 54 9\n",
      "0 3 8 7\n",
      "0 4 2 7\n",
      "0 5 0 7\n",
      "1 1 181 32\n",
      "1 2 54 13\n",
      "1 3 20 10\n",
      "1 4 10 8\n",
      "1 5 3 8\n",
      "1 6 0 8\n",
      "2 1 183 31\n",
      "2 2 59 9\n",
      "2 3 15 7\n",
      "2 4 7 6\n",
      "2 5 5 5\n",
      "2 6 0 5\n",
      "3 1 184 32\n",
      "3 2 53 10\n",
      "3 3 14 6\n",
      "3 4 6 5\n",
      "3 5 9 5\n",
      "3 6 1 4\n",
      "3 7 0 4\n",
      "4 1 187 23\n",
      "4 2 45 9\n",
      "4 3 11 6\n",
      "4 4 0 6\n",
      "5 1 184 26\n",
      "5 2 46 11\n",
      "5 3 13 8\n",
      "5 4 4 8\n",
      "5 5 0 8\n",
      "6 1 186 29\n",
      "6 2 41 11\n",
      "6 3 16 11\n",
      "6 4 8 8\n",
      "6 5 16 8\n",
      "6 6 4 6\n",
      "6 7 0 6\n",
      "7 1 181 31\n",
      "7 2 70 12\n",
      "7 3 22 9\n",
      "7 4 14 8\n",
      "7 5 7 6\n",
      "7 6 7 5\n",
      "7 7 1 5\n",
      "7 8 0 5\n",
      "8 1 193 26\n",
      "8 2 35 6\n",
      "8 3 3 6\n",
      "8 4 0 6\n",
      "9 1 181 31\n",
      "9 2 71 12\n",
      "9 3 27 9\n",
      "9 4 9 7\n",
      "9 5 7 6\n",
      "9 6 0 6\n",
      "10 1 188 29\n",
      "10 2 46 8\n",
      "10 3 8 6\n",
      "10 4 1 6\n",
      "10 5 4 6\n",
      "10 6 4 5\n",
      "10 7 10 5\n",
      "10 8 5 4\n",
      "10 9 0 4\n",
      "11 1 187 30\n",
      "11 2 54 9\n",
      "11 3 10 7\n",
      "11 4 0 7\n",
      "12 1 176 41\n",
      "12 2 74 15\n",
      "12 3 32 10\n",
      "12 4 8 9\n",
      "12 5 7 9\n",
      "12 6 4 8\n",
      "12 7 3 8\n",
      "12 8 7 7\n",
      "12 9 6 7\n",
      "12 10 8 6\n",
      "12 11 0 6\n",
      "13 1 186 25\n",
      "13 2 47 10\n",
      "13 3 15 8\n",
      "13 4 1 8\n",
      "13 5 0 8\n",
      "14 1 184 30\n",
      "14 2 42 11\n",
      "14 3 12 10\n",
      "14 4 3 10\n",
      "14 5 6 9\n",
      "14 6 5 9\n",
      "14 7 3 8\n",
      "14 8 0 8\n",
      "15 1 191 28\n",
      "15 2 31 8\n",
      "15 3 5 7\n",
      "15 4 0 7\n",
      "16 1 182 31\n",
      "16 2 68 12\n",
      "16 3 43 8\n",
      "16 4 19 5\n",
      "16 5 0 5\n",
      "17 1 181 30\n",
      "17 2 60 16\n",
      "17 3 28 12\n",
      "17 4 15 8\n",
      "17 5 11 8\n",
      "17 6 6 6\n",
      "17 7 2 6\n",
      "17 8 6 5\n",
      "17 9 0 5\n",
      "18 1 192 16\n",
      "18 2 31 5\n",
      "18 3 2 5\n",
      "18 4 1 5\n",
      "18 5 0 5\n",
      "19 1 183 35\n",
      "19 2 69 11\n",
      "19 3 21 7\n",
      "19 4 1 7\n",
      "19 5 0 7\n",
      "0.353367910555 4 0.102118189466\n"
     ]
    }
   ],
   "source": [
    "l1_dist_mat = dist_mat = euclidean_distances(new_matrix,new_matrix)\n",
    "labels2 = EKNNclus.EKNNclus_Th(new_matrix, K = 65, D = l1_dist_mat , \n",
    "                            ntrials=20, y0 = list(range(new_matrix.shape[0])),tr = False)\n",
    "euc_ss = sklearn.metrics.silhouette_score(new_matrix, labels2)\n",
    "print(euc_ss, len(np.unique(labels2)), sklearn.metrics.adjusted_rand_score(labels_true, labels2))"
   ]
  },
  {
   "cell_type": "markdown",
   "metadata": {},
   "source": [
    "## Euclidean without ignorance"
   ]
  },
  {
   "cell_type": "code",
   "execution_count": 264,
   "metadata": {
    "collapsed": false
   },
   "outputs": [
    {
     "data": {
      "text/plain": [
       "(199, 16)"
      ]
     },
     "execution_count": 264,
     "metadata": {},
     "output_type": "execute_result"
    }
   ],
   "source": [
    "new_matrix[0:-1][:].shape"
   ]
  },
  {
   "cell_type": "code",
   "execution_count": null,
   "metadata": {
    "collapsed": true
   },
   "outputs": [],
   "source": [
    "= euclidean_distances(new_matrix[,new_matrix)"
   ]
  }
 ],
 "metadata": {
  "kernelspec": {
   "display_name": "Python 3",
   "language": "python",
   "name": "python3"
  },
  "language_info": {
   "codemirror_mode": {
    "name": "ipython",
    "version": 3
   },
   "file_extension": ".py",
   "mimetype": "text/x-python",
   "name": "python",
   "nbconvert_exporter": "python",
   "pygments_lexer": "ipython3",
   "version": "3.5.2"
  }
 },
 "nbformat": 4,
 "nbformat_minor": 1
}
