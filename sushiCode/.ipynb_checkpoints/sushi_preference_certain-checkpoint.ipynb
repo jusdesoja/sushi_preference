{
 "cells": [
  {
   "cell_type": "markdown",
   "metadata": {},
   "source": [
    "# Two models (k-o'means & Belief function based) on Sushi preference"
   ]
  },
  {
   "cell_type": "code",
   "execution_count": 1,
   "metadata": {
    "collapsed": false
   },
   "outputs": [
    {
     "name": "stdout",
     "output_type": "stream",
     "text": [
      "[1546, 1535, 1406, 1457, 1380, 1447, 1412, 1353, 1321, 1244, 1297, 1213, 1194, 1118, 1112, 1077, 1012, 1016, 968, 957, 939, 945, 868, 857, 841, 847, 785, 775, 699, 694, 696, 619, 512, 567, 560, 545, 500, 532, 509, 453, 433, 468, 413, 334, 336, 327, 358, 366, 347, 348, 355, 385, 287, 282, 231, 199, 214, 218, 219, 236, 219, 234, 213, 215, 234, 155, 142, 138, 135, 155, 141, 164, 169, 133, 165, 148, 144, 131, 150, 153, 78, 67, 88, 50, 66, 80, 52, 77, 85, 84, 74, 80, 76, 75, 72, 95, 68, 79, 75, 77]\n",
      "[0, 1, 3, 5, 6, 2, 4, 7, 8, 10, 9, 11, 12, 13, 14, 15, 17, 16]\n",
      "1\n",
      "[3182]\n"
     ]
    }
   ],
   "source": [
    "from read import read_voter_file, read_score_file, read_order_file\n",
    "from tools import all_mass_init, all_certain_mass_init, flatten_pref_mass_mat\n",
    "from beliefKMeans import k_means, silhouette_score, _k_means_single\n",
    "\n",
    "import numpy as np\n",
    "\n",
    "vMap = read_voter_file(\"../data/sushi3-2016/sushi3.udata\", 100)\n",
    "#read_score_file(\"../data/sushi3-2016/sushi3b.5000.10.score\", vMap, 100)\n",
    "read_order_file(\"../data/sushi3-2016/sushi3a.5000.10.order\", vMap, 100)\n",
    "n_item = 10\n",
    "n_sample = len(vMap)\n",
    "vector_size = 4\n",
    "n_pref_pair = int(n_item*(n_item-1)/2)\n",
    "X = np.empty((n_sample, n_pref_pair, vector_size),dtype = object)\n"
   ]
  },
  {
   "cell_type": "code",
   "execution_count": 2,
   "metadata": {
    "collapsed": false
   },
   "outputs": [],
   "source": [
    "a=flatten_pref_mass_mat(all_certain_mass_init(vMap[0].get_order_a(),10))"
   ]
  },
  {
   "cell_type": "code",
   "execution_count": 3,
   "metadata": {
    "collapsed": false
   },
   "outputs": [
    {
     "data": {
      "text/plain": [
       "array([[0.0, 1.0, 0.0, 0.0],\n",
       "       [0.0, 1.0, 0.0, 0.0],\n",
       "       [0.0, 1.0, 0.0, 0.0],\n",
       "       [0.0, 1.0, 0.0, 0.0],\n",
       "       [0.0, 0.0, 1.0, 0.0],\n",
       "       [0.0, 1.0, 0.0, 0.0],\n",
       "       [0.0, 1.0, 0.0, 0.0],\n",
       "       [0.0, 1.0, 0.0, 0.0],\n",
       "       [0.0, 1.0, 0.0, 0.0],\n",
       "       [0.0, 1.0, 0.0, 0.0],\n",
       "       [0.0, 0.0, 1.0, 0.0],\n",
       "       [0.0, 0.0, 1.0, 0.0],\n",
       "       [0.0, 0.0, 1.0, 0.0],\n",
       "       [0.0, 0.0, 1.0, 0.0],\n",
       "       [0.0, 1.0, 0.0, 0.0],\n",
       "       [0.0, 0.0, 1.0, 0.0],\n",
       "       [0.0, 0.0, 1.0, 0.0],\n",
       "       [0.0, 0.0, 1.0, 0.0],\n",
       "       [0.0, 0.0, 1.0, 0.0],\n",
       "       [0.0, 0.0, 1.0, 0.0],\n",
       "       [0.0, 0.0, 1.0, 0.0],\n",
       "       [0.0, 0.0, 1.0, 0.0],\n",
       "       [0.0, 0.0, 1.0, 0.0],\n",
       "       [0.0, 0.0, 1.0, 0.0],\n",
       "       [0.0, 1.0, 0.0, 0.0],\n",
       "       [0.0, 0.0, 1.0, 0.0],\n",
       "       [0.0, 1.0, 0.0, 0.0],\n",
       "       [0.0, 1.0, 0.0, 0.0],\n",
       "       [0.0, 1.0, 0.0, 0.0],\n",
       "       [0.0, 1.0, 0.0, 0.0],\n",
       "       [0.0, 0.0, 1.0, 0.0],\n",
       "       [0.0, 1.0, 0.0, 0.0],\n",
       "       [0.0, 1.0, 0.0, 0.0],\n",
       "       [0.0, 1.0, 0.0, 0.0],\n",
       "       [0.0, 1.0, 0.0, 0.0],\n",
       "       [0.0, 1.0, 0.0, 0.0],\n",
       "       [0.0, 1.0, 0.0, 0.0],\n",
       "       [0.0, 1.0, 0.0, 0.0],\n",
       "       [0.0, 1.0, 0.0, 0.0],\n",
       "       [0.0, 1.0, 0.0, 0.0],\n",
       "       [0.0, 1.0, 0.0, 0.0],\n",
       "       [0.0, 1.0, 0.0, 0.0],\n",
       "       [0.0, 0.0, 1.0, 0.0],\n",
       "       [0.0, 0.0, 1.0, 0.0],\n",
       "       [0.0, 0.0, 1.0, 0.0]], dtype=object)"
      ]
     },
     "execution_count": 3,
     "metadata": {},
     "output_type": "execute_result"
    }
   ],
   "source": [
    "a"
   ]
  },
  {
   "cell_type": "code",
   "execution_count": 4,
   "metadata": {
    "collapsed": false
   },
   "outputs": [],
   "source": [
    "for k,v in vMap.items():\n",
    "    X[k] = flatten_pref_mass_mat(all_certain_mass_init(vMap[k].get_order_a(),10))"
   ]
  },
  {
   "cell_type": "code",
   "execution_count": 17,
   "metadata": {
    "collapsed": false
   },
   "outputs": [
    {
     "data": {
      "text/plain": [
       "array([[0.0, 1.0, 0.0, 0.0],\n",
       "       [0.0, 1.0, 0.0, 0.0],\n",
       "       [0.0, 1.0, 0.0, 0.0],\n",
       "       [0.0, 1.0, 0.0, 0.0],\n",
       "       [0.0, 0.0, 1.0, 0.0],\n",
       "       [0.0, 1.0, 0.0, 0.0],\n",
       "       [0.0, 1.0, 0.0, 0.0],\n",
       "       [0.0, 1.0, 0.0, 0.0],\n",
       "       [0.0, 1.0, 0.0, 0.0],\n",
       "       [0.0, 1.0, 0.0, 0.0],\n",
       "       [0.0, 0.0, 1.0, 0.0],\n",
       "       [0.0, 0.0, 1.0, 0.0],\n",
       "       [0.0, 0.0, 1.0, 0.0],\n",
       "       [0.0, 0.0, 1.0, 0.0],\n",
       "       [0.0, 1.0, 0.0, 0.0],\n",
       "       [0.0, 0.0, 1.0, 0.0],\n",
       "       [0.0, 0.0, 1.0, 0.0],\n",
       "       [0.0, 0.0, 1.0, 0.0],\n",
       "       [0.0, 0.0, 1.0, 0.0],\n",
       "       [0.0, 0.0, 1.0, 0.0],\n",
       "       [0.0, 0.0, 1.0, 0.0],\n",
       "       [0.0, 0.0, 1.0, 0.0],\n",
       "       [0.0, 0.0, 1.0, 0.0],\n",
       "       [0.0, 0.0, 1.0, 0.0],\n",
       "       [0.0, 1.0, 0.0, 0.0],\n",
       "       [0.0, 0.0, 1.0, 0.0],\n",
       "       [0.0, 1.0, 0.0, 0.0],\n",
       "       [0.0, 1.0, 0.0, 0.0],\n",
       "       [0.0, 1.0, 0.0, 0.0],\n",
       "       [0.0, 1.0, 0.0, 0.0],\n",
       "       [0.0, 0.0, 1.0, 0.0],\n",
       "       [0.0, 1.0, 0.0, 0.0],\n",
       "       [0.0, 1.0, 0.0, 0.0],\n",
       "       [0.0, 1.0, 0.0, 0.0],\n",
       "       [0.0, 1.0, 0.0, 0.0],\n",
       "       [0.0, 1.0, 0.0, 0.0],\n",
       "       [0.0, 1.0, 0.0, 0.0],\n",
       "       [0.0, 1.0, 0.0, 0.0],\n",
       "       [0.0, 1.0, 0.0, 0.0],\n",
       "       [0.0, 1.0, 0.0, 0.0],\n",
       "       [0.0, 1.0, 0.0, 0.0],\n",
       "       [0.0, 1.0, 0.0, 0.0],\n",
       "       [0.0, 0.0, 1.0, 0.0],\n",
       "       [0.0, 0.0, 1.0, 0.0],\n",
       "       [0.0, 0.0, 1.0, 0.0]], dtype=object)"
      ]
     },
     "execution_count": 17,
     "metadata": {},
     "output_type": "execute_result"
    }
   ],
   "source": [
    "X[0]"
   ]
  },
  {
   "cell_type": "code",
   "execution_count": 10,
   "metadata": {
    "collapsed": false
   },
   "outputs": [
    {
     "name": "stdout",
     "output_type": "stream",
     "text": [
      "centers initialized, shape:(3, 45, 4)\n",
      "Initialization complete\n",
      "E step:\n"
     ]
    },
    {
     "name": "stderr",
     "output_type": "stream",
     "text": [
      "/home/yzhang/ThesisWork/Program/sushiPref/sushiCode/sushiCode/iBelief/distance.py:18: FutureWarning: comparison to `None` will result in an elementwise object comparison in the future.\n",
      "  if D== None:\n"
     ]
    },
    {
     "name": "stdout",
     "output_type": "stream",
     "text": [
      "labels after step E: [0 1 0 0 1 0 0 1 1 1 1 0 0 1 0 0 0 0 0 0 0 0 0 0 1 0 1 0 1 0 1 2 0 2 0 0 0\n",
      " 1 0 2 0 0 0 2 0 0 2 1 1 1 0 0 0 1 0 1 2 1 0 1 0 0 1 1 0 0 0 0 1 2 2 0 1 2\n",
      " 0 0 0 0 1 0 1 1 1 1 1 0 0 2 0 0 0 2 0 1 2 0 0 2 2 0]\n",
      "M step:\n",
      "[56 30 14]\n",
      "new center for 0 calculated\n",
      "new center for 1 calculated\n",
      "new center for 2 calculated\n",
      "Iteration  0, inertia 29.600 \n",
      "Best inertia: None\n",
      "best result updated\n",
      "E step:\n",
      "labels after step E: [0 0 0 0 0 0 0 0 0 0 0 0 0 0 0 0 0 0 0 0 0 0 0 0 0 0 0 0 0 0 0 0 0 0 0 0 0\n",
      " 0 0 0 0 0 0 0 0 0 0 0 0 0 0 0 0 0 0 0 0 0 0 0 0 0 0 0 0 0 0 0 0 0 0 0 0 0\n",
      " 0 0 0 0 0 0 0 0 0 0 0 0 0 0 0 0 0 0 0 0 0 0 0 0 0 0]\n",
      "M step:\n",
      "[100   0   0]\n",
      "empty cluster id: 1\n",
      "empty cluster id: 2\n",
      "new center for 0 calculated\n",
      "Iteration  1, inertia 70.711 \n",
      "Best inertia: 29.599999999999955\n",
      "E step:\n",
      "labels after step E: [2 1 2 2 2 1 2 1 2 2 2 1 2 1 1 2 2 1 2 2 2 2 2 2 1 2 2 2 2 2 2 1 2 2 1 1 2\n",
      " 1 1 1 2 2 2 1 2 2 2 2 2 1 2 1 2 2 1 1 1 2 2 1 2 1 2 1 1 2 2 1 1 2 1 2 1 1\n",
      " 2 2 1 2 2 2 1 0 1 1 2 2 2 1 2 2 1 1 2 1 1 2 1 1 2 1]\n",
      "M step:\n",
      "[ 1 41 58]\n",
      "new center for 0 calculated\n",
      "new center for 1 calculated\n",
      "new center for 2 calculated\n",
      "Iteration  2, inertia 34.863 \n",
      "Best inertia: 29.599999999999955\n",
      "E step:\n",
      "labels after step E: [0 0 0 0 0 0 0 0 0 0 0 0 0 0 0 0 0 0 0 0 0 0 0 0 0 0 0 0 0 0 0 0 0 0 0 0 0\n",
      " 0 0 0 0 0 0 0 0 0 0 0 0 0 0 0 0 0 0 0 0 0 0 0 0 0 0 0 0 0 0 0 0 0 0 0 0 0\n",
      " 0 0 0 0 0 0 0 0 0 0 0 0 0 0 0 0 0 0 0 0 0 0 0 0 0 0]\n",
      "M step:\n",
      "[100   0   0]\n",
      "empty cluster id: 1\n",
      "empty cluster id: 2\n",
      "new center for 0 calculated\n",
      "Iteration  3, inertia 70.711 \n",
      "Best inertia: 29.599999999999955\n",
      "E step:\n",
      "labels after step E: [2 1 2 2 2 1 2 1 2 2 2 1 2 1 1 2 2 1 2 2 2 2 2 2 1 2 2 2 2 2 2 1 2 2 1 1 2\n",
      " 1 1 1 2 2 2 1 2 2 2 2 2 1 2 1 2 2 1 1 1 2 2 1 2 1 2 1 1 2 2 1 1 2 1 2 1 1\n",
      " 2 2 1 2 2 2 1 0 1 1 2 2 2 1 2 2 1 1 2 1 1 2 1 1 2 1]\n",
      "M step:\n",
      "[ 1 41 58]\n",
      "new center for 0 calculated\n",
      "new center for 1 calculated\n",
      "new center for 2 calculated\n",
      "Iteration  4, inertia 34.863 \n",
      "Best inertia: 29.599999999999955\n"
     ]
    }
   ],
   "source": [
    "labels, inertia, centers, distances, iterNb = _k_means_single(X, 3, init='k_means',max_iter = 5, verbose = True)"
   ]
  },
  {
   "cell_type": "code",
   "execution_count": 8,
   "metadata": {
    "collapsed": false
   },
   "outputs": [
    {
     "ename": "NameError",
     "evalue": "name 'centers' is not defined",
     "output_type": "error",
     "traceback": [
      "\u001b[0;31m---------------------------------------------------------------------------\u001b[0m",
      "\u001b[0;31mNameError\u001b[0m                                 Traceback (most recent call last)",
      "\u001b[0;32m<ipython-input-8-e8ca83ce7fd5>\u001b[0m in \u001b[0;36m<module>\u001b[0;34m()\u001b[0m\n\u001b[0;32m----> 1\u001b[0;31m \u001b[0mcenters\u001b[0m\u001b[0;34m\u001b[0m\u001b[0m\n\u001b[0m",
      "\u001b[0;31mNameError\u001b[0m: name 'centers' is not defined"
     ]
    }
   ],
   "source": [
    "centers"
   ]
  },
  {
   "cell_type": "markdown",
   "metadata": {
    "collapsed": true
   },
   "source": [
    "experiments on artificial data\n",
    "    "
   ]
  },
  {
   "cell_type": "code",
   "execution_count": 1,
   "metadata": {
    "collapsed": true
   },
   "outputs": [],
   "source": [
    "from tools import all_mass_init, all_certain_mass_init, flatten_pref_mass_mat\n",
    "from singleBeliefKMeans import k_means, silhouette_score, _k_means_single\n",
    "import numpy as np\n",
    "from iBelief.distance import JousselmeDistance"
   ]
  },
  {
   "cell_type": "code",
   "execution_count": 2,
   "metadata": {
    "collapsed": true
   },
   "outputs": [],
   "source": [
    "def read_mass_file(file):\n",
    "    masses = np.empty((0,16))\n",
    "    with open(file) as f:\n",
    "        for line in f:\n",
    "            masses = np.vstack((masses, np.array([float(i) for i in line.split()])))\n",
    "    return masses"
   ]
  },
  {
   "cell_type": "code",
   "execution_count": 3,
   "metadata": {
    "collapsed": false
   },
   "outputs": [],
   "source": [
    "X = read_mass_file(\"/home/yzhang/ThesisWork/Program/sushiPref/sushiCode/data/sushi3-2016/artificiel_mass.data\")"
   ]
  },
  {
   "cell_type": "code",
   "execution_count": 4,
   "metadata": {
    "collapsed": false
   },
   "outputs": [],
   "source": [
    "X = X[:6]"
   ]
  },
  {
   "cell_type": "code",
   "execution_count": 5,
   "metadata": {
    "collapsed": false
   },
   "outputs": [
    {
     "data": {
      "text/plain": [
       "array([[ 0.        ,  0.3385673 ,  0.00475236,  0.        ,  0.        ,\n",
       "         0.        ,  0.        ,  0.        ,  0.6554754 ,  0.        ,\n",
       "         0.        ,  0.        ,  0.        ,  0.        ,  0.        ,\n",
       "         0.00120499],\n",
       "       [ 0.        ,  0.131232  ,  0.07621001,  0.        ,  0.2876665 ,\n",
       "         0.        ,  0.        ,  0.        ,  0.        ,  0.        ,\n",
       "         0.        ,  0.        ,  0.        ,  0.        ,  0.        ,\n",
       "         0.5048914 ],\n",
       "       [ 0.        ,  0.07812018,  0.8427176 ,  0.        ,  0.        ,\n",
       "         0.        ,  0.        ,  0.        ,  0.01211108,  0.        ,\n",
       "         0.        ,  0.        ,  0.        ,  0.        ,  0.        ,\n",
       "         0.06705113],\n",
       "       [ 0.        ,  0.        ,  0.08955104,  0.        ,  0.2305491 ,\n",
       "         0.        ,  0.        ,  0.        ,  0.290527  ,  0.        ,\n",
       "         0.        ,  0.        ,  0.        ,  0.        ,  0.        ,\n",
       "         0.3893729 ],\n",
       "       [ 0.        ,  0.19548   ,  0.5421526 ,  0.        ,  0.1163133 ,\n",
       "         0.        ,  0.        ,  0.        ,  0.        ,  0.        ,\n",
       "         0.        ,  0.        ,  0.        ,  0.        ,  0.        ,\n",
       "         0.1460541 ],\n",
       "       [ 0.        ,  0.        ,  0.1221994 ,  0.        ,  0.4436646 ,\n",
       "         0.        ,  0.        ,  0.        ,  0.07006351,  0.        ,\n",
       "         0.        ,  0.        ,  0.        ,  0.        ,  0.        ,\n",
       "         0.3640725 ]])"
      ]
     },
     "execution_count": 5,
     "metadata": {},
     "output_type": "execute_result"
    }
   ],
   "source": [
    "X"
   ]
  },
  {
   "cell_type": "code",
   "execution_count": null,
   "metadata": {
    "collapsed": false
   },
   "outputs": [
    {
     "name": "stdout",
     "output_type": "stream",
     "text": [
      "centers initialized, shape:(2, 16)\n",
      "Initialization complete\n",
      "E step:\n",
      "labels after step E: [1 1 1 0 1 0]\n",
      "M step:\n",
      "[2 4]\n",
      "> /home/yzhang/ThesisWork/Program/sushiPref/sushiCode/sushiCode/singleBeliefKMeans.py(278)_centers_dense()\n",
      "-> centers[i] = _fusion(X[np.where(labels == i)], strategy = 2)\n",
      "(Pdb) n\n",
      "> /home/yzhang/ThesisWork/Program/sushiPref/sushiCode/sushiCode/singleBeliefKMeans.py(279)_centers_dense()\n",
      "-> print(\"new center for %d calculated\" % i)\n",
      "(Pdb) centers[0]\n",
      "array([-5.0000000188501038e-09, -5.0000000188501038e-09,\n",
      "       -5.0000000188501038e-09, -5.0000000188501038e-09,\n",
      "       -5.0000000188501038e-09, -5.0000000188501038e-09,\n",
      "       -5.0000000188501038e-09, -5.0000000188501038e-09,\n",
      "       -5.0000000188501038e-09, -5.0000000188501038e-09,\n",
      "       -5.0000000188501038e-09, -5.0000000188501038e-09,\n",
      "       -5.0000000188501038e-09, -5.0000000188501038e-09,\n",
      "       -5.0000000188501038e-09, -5.0000000188501038e-09], dtype=object)\n",
      "(Pdb) one_mass_center_calculate(X[np.where(labels==0)])\n",
      "array([ -5.00000002e-09,  -4.99999996e-09,   1.05875215e-01,\n",
      "        -7.51141194e-17,   3.37106845e-01,  -5.52473974e-16,\n",
      "        -5.55799947e-16,   8.04416058e-16,   1.80295250e-01,\n",
      "        -1.70344391e-16,  -3.15787259e-16,   2.46528988e-16,\n",
      "        -7.49747486e-16,   1.03875242e-15,   1.13242749e-15,\n",
      "         3.76722700e-01])\n",
      "(Pdb) _fusion(X[np.where(labels==0)], strategy=2)\n",
      "array([-5.0000000188501038e-09, -5.0000000188501038e-09,\n",
      "       -5.0000000188501038e-09, -5.0000000188501038e-09,\n",
      "       -5.0000000188501038e-09, -5.0000000188501038e-09,\n",
      "       -5.0000000188501038e-09, -5.0000000188501038e-09,\n",
      "       -5.0000000188501038e-09, -5.0000000188501038e-09,\n",
      "       -5.0000000188501038e-09, -5.0000000188501038e-09,\n",
      "       -5.0000000188501038e-09, -5.0000000188501038e-09,\n",
      "       -5.0000000188501038e-09, -5.0000000188501038e-09], dtype=object)\n"
     ]
    }
   ],
   "source": [
    "labels, inertia, centers, distances, iterNb = _k_means_single(X, 2, init='k_means',max_iter = 5, verbose = True)"
   ]
  },
  {
   "cell_type": "code",
   "execution_count": 17,
   "metadata": {
    "collapsed": false
   },
   "outputs": [
    {
     "data": {
      "text/plain": [
       "array([[ 0.        ,  0.07812018,  0.8427176 ,  0.        ,  0.        ,\n",
       "         0.        ,  0.        ,  0.        ,  0.01211108,  0.        ,\n",
       "         0.        ,  0.        ,  0.        ,  0.        ,  0.        ,\n",
       "         0.06705113],\n",
       "       [ 0.        ,  0.19548   ,  0.5421526 ,  0.        ,  0.1163133 ,\n",
       "         0.        ,  0.        ,  0.        ,  0.        ,  0.        ,\n",
       "         0.        ,  0.        ,  0.        ,  0.        ,  0.        ,\n",
       "         0.1460541 ]])"
      ]
     },
     "execution_count": 17,
     "metadata": {},
     "output_type": "execute_result"
    }
   ],
   "source": [
    "X[np.where(labels==0)]"
   ]
  },
  {
   "cell_type": "code",
   "execution_count": 18,
   "metadata": {
    "collapsed": false
   },
   "outputs": [
    {
     "data": {
      "text/plain": [
       "array([[ 0.        ,  0.3385673 ,  0.00475236,  0.        ,  0.        ,\n",
       "         0.        ,  0.        ,  0.        ,  0.6554754 ,  0.        ,\n",
       "         0.        ,  0.        ,  0.        ,  0.        ,  0.        ,\n",
       "         0.00120499],\n",
       "       [ 0.        ,  0.131232  ,  0.07621001,  0.        ,  0.2876665 ,\n",
       "         0.        ,  0.        ,  0.        ,  0.        ,  0.        ,\n",
       "         0.        ,  0.        ,  0.        ,  0.        ,  0.        ,\n",
       "         0.5048914 ],\n",
       "       [ 0.        ,  0.        ,  0.08955104,  0.        ,  0.2305491 ,\n",
       "         0.        ,  0.        ,  0.        ,  0.290527  ,  0.        ,\n",
       "         0.        ,  0.        ,  0.        ,  0.        ,  0.        ,\n",
       "         0.3893729 ],\n",
       "       [ 0.        ,  0.        ,  0.1221994 ,  0.        ,  0.4436646 ,\n",
       "         0.        ,  0.        ,  0.        ,  0.07006351,  0.        ,\n",
       "         0.        ,  0.        ,  0.        ,  0.        ,  0.        ,\n",
       "         0.3640725 ]])"
      ]
     },
     "execution_count": 18,
     "metadata": {},
     "output_type": "execute_result"
    }
   ],
   "source": [
    "X[np.where(labels==1)]"
   ]
  }
 ],
 "metadata": {
  "kernelspec": {
   "display_name": "Python 3",
   "language": "python",
   "name": "python3"
  },
  "language_info": {
   "codemirror_mode": {
    "name": "ipython",
    "version": 3
   },
   "file_extension": ".py",
   "mimetype": "text/x-python",
   "name": "python",
   "nbconvert_exporter": "python",
   "pygments_lexer": "ipython3",
   "version": "3.5.2"
  }
 },
 "nbformat": 4,
 "nbformat_minor": 1
}
