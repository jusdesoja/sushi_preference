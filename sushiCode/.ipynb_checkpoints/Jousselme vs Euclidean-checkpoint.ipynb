{
 "cells": [
  {
   "cell_type": "code",
   "execution_count": 52,
   "metadata": {
    "collapsed": false,
    "scrolled": false
   },
   "outputs": [],
   "source": [
    "%matplotlib qt5\n",
    "import numpy as np\n",
    "import pandas as pd\n",
    "from mpl_toolkits.basemap import Basemap\n",
    "import matplotlib.pyplot as plt\n",
    "\n",
    "import random\n",
    "import re\n",
    "\n",
    "from read import read_voter_file, read_score_file, read_order_file\n",
    "from tools import all_mass_init, all_certain_mass_init, flatten_pref_mass_mat\n",
    "from beliefKMeans import k_means, silhouette_score, _k_means_single\n",
    "from beliefDBSCAN import cal_distances\n",
    "\n",
    "from jpGeoPlot import scatter_on_map, read_geo_info\n",
    "\n",
    "\n"
   ]
  },
  {
   "cell_type": "markdown",
   "metadata": {},
   "source": [
    "geo_info = pd.read_csv(\"../data/jap_prefecture_geo_en.csv\")\n",
    "vMap = read_voter_file(\"../data/sushi3-2016/sushi3.udata\")\n",
    "read_score_file(\"../data/sushi3-2016/sushi3b.5000.10.score\", vMap)\n",
    "read_order_file(\"../data/sushi3-2016/sushi3b.5000.10.order\", vMap)"
   ]
  },
  {
   "cell_type": "code",
   "execution_count": 27,
   "metadata": {
    "collapsed": true
   },
   "outputs": [],
   "source": [
    "geo_info = read_geo_info(\"../data/jap_prefecture_geo_en.csv\")\n",
    "vMap = read_voter_file(\"../data/sushi3-2016/sushi3.com40.udata\")\n",
    "read_score_file(\"../data/sushi3-2016/sushi3b.com40.10.score\", vMap)\n",
    "read_order_file(\"../data/sushi3-2016/sushi3b.com40.10.order\", vMap)"
   ]
  },
  {
   "cell_type": "code",
   "execution_count": 28,
   "metadata": {
    "collapsed": false
   },
   "outputs": [],
   "source": [
    "cand_list = list(range(100))\n",
    "n_item = 100\n",
    "n_sample = len(vMap)\n",
    "vector_size = 16\n",
    "n_pref_pair = int(n_item*(n_item-1)/2)\n",
    "X = np.empty((n_sample, n_pref_pair, vector_size),dtype = object)\n",
    "for k,v in vMap.items():\n",
    "    #print(v.get_order_a())\n",
    "    X[k] = flatten_pref_mass_mat(all_mass_init(v.get_scores(), v.get_order_b(), cand_list, nbItem = n_item))"
   ]
  },
  {
   "cell_type": "code",
   "execution_count": 29,
   "metadata": {
    "collapsed": true
   },
   "outputs": [],
   "source": [
    "dist_mat = cal_distances(X, 'jousselme')"
   ]
  },
  {
   "cell_type": "code",
   "execution_count": 44,
   "metadata": {
    "collapsed": true
   },
   "outputs": [],
   "source": [
    "dist_mat_2 = dist_mat*100"
   ]
  },
  {
   "cell_type": "code",
   "execution_count": 30,
   "metadata": {
    "collapsed": true
   },
   "outputs": [],
   "source": [
    "def cal_pair_in_common(vMap):\n",
    "    com_mat = np.zeros((len(vMap),len(vMap)))\n",
    "    for i in vMap.keys():\n",
    "        for j in vMap.keys():\n",
    "            com_element=len(set(vMap[i].get_order_b()).intersection(set(vMap[j].get_order_b())))\n",
    "            #com_mat[i][j] = com_element*(com_element-1)/2\n",
    "            com_mat[i][j] = com_element\n",
    "    return com_mat"
   ]
  },
  {
   "cell_type": "code",
   "execution_count": 45,
   "metadata": {
    "collapsed": false
   },
   "outputs": [
    {
     "data": {
      "text/plain": [
       "array([[ 0.        ,  1.28319753,  1.33656021, ...,  1.40209994,\n",
       "         1.36789739,  1.42079017],\n",
       "       [ 1.28319753,  0.        ,  1.22326495, ...,  1.25666202,\n",
       "         1.28564371,  1.14139162],\n",
       "       [ 1.33656021,  1.22326495,  0.        , ...,  1.30937597,\n",
       "         1.2862837 ,  1.30183528],\n",
       "       ..., \n",
       "       [ 1.40209994,  1.25666202,  1.30937597, ...,  0.        ,\n",
       "         1.39425989,  1.34574569],\n",
       "       [ 1.36789739,  1.28564371,  1.2862837 , ...,  1.39425989,\n",
       "         0.        ,  1.39348654],\n",
       "       [ 1.42079017,  1.14139162,  1.30183528, ...,  1.34574569,\n",
       "         1.39348654,  0.        ]])"
      ]
     },
     "execution_count": 45,
     "metadata": {},
     "output_type": "execute_result"
    }
   ],
   "source": [
    "dist_mat_2"
   ]
  },
  {
   "cell_type": "code",
   "execution_count": 50,
   "metadata": {
    "collapsed": false,
    "scrolled": true
   },
   "outputs": [
    {
     "name": "stdout",
     "output_type": "stream",
     "text": [
      "0 1 273 103\n",
      "0 2 95 72\n",
      "0 3 103 45\n",
      "0 4 112 30\n",
      "0 5 76 10\n",
      "0 6 13 4\n",
      "0 7 4 4\n",
      "0 8 1 3\n",
      "0 9 0 3\n",
      "1 1 274 111\n",
      "1 2 123 59\n",
      "1 3 63 45\n",
      "1 4 132 25\n",
      "1 5 58 7\n",
      "1 6 15 3\n",
      "1 7 0 3\n",
      "2 1 270 108\n",
      "2 2 104 67\n",
      "2 3 75 47\n",
      "2 4 53 42\n",
      "2 5 41 35\n",
      "2 6 71 27\n",
      "2 7 100 15\n",
      "2 8 44 6\n",
      "2 9 5 3\n",
      "2 10 0 3\n",
      "3 1 275 109\n",
      "3 2 135 56\n",
      "3 3 150 19\n",
      "3 4 44 5\n",
      "3 5 3 2\n",
      "3 6 0 2\n",
      "4 1 278 105\n",
      "4 2 140 56\n",
      "4 3 158 23\n",
      "4 4 51 4\n",
      "4 5 5 3\n",
      "4 6 4 2\n",
      "4 7 0 2\n",
      "5 1 273 103\n",
      "5 2 105 64\n",
      "5 3 67 46\n",
      "5 4 77 33\n",
      "5 5 83 24\n",
      "5 6 75 18\n",
      "5 7 91 11\n",
      "5 8 15 3\n",
      "5 9 4 2\n",
      "5 10 0 2\n",
      "6 1 274 106\n",
      "6 2 111 64\n",
      "6 3 65 45\n",
      "6 4 57 36\n",
      "6 5 76 26\n",
      "6 6 95 14\n",
      "6 7 59 6\n",
      "6 8 10 3\n",
      "6 9 0 3\n",
      "7 1 269 109\n",
      "7 2 112 68\n",
      "7 3 82 48\n",
      "7 4 76 30\n",
      "7 5 96 16\n",
      "7 6 42 5\n",
      "7 7 8 3\n",
      "7 8 1 2\n",
      "7 9 0 2\n",
      "8 1 273 106\n",
      "8 2 94 65\n",
      "8 3 72 48\n",
      "8 4 75 36\n",
      "8 5 64 30\n",
      "8 6 42 24\n",
      "8 7 58 17\n",
      "8 8 39 9\n",
      "8 9 17 7\n",
      "8 10 35 6\n",
      "8 11 30 5\n",
      "8 12 13 4\n",
      "8 13 17 4\n",
      "8 14 10 3\n",
      "8 15 20 3\n",
      "8 16 11 2\n",
      "8 17 0 2\n",
      "9 1 279 107\n",
      "9 2 117 56\n",
      "9 3 62 43\n",
      "9 4 48 33\n",
      "9 5 106 24\n",
      "9 6 91 9\n",
      "9 7 34 6\n",
      "9 8 9 4\n",
      "9 9 2 4\n",
      "9 10 2 4\n",
      "9 11 1 3\n",
      "9 12 0 3\n"
     ]
    }
   ],
   "source": [
    "import EKNNclus\n",
    "knn_ind, knn_dist = EKNNclus.get_KNN(dist_mat, 3)\n",
    "alpha_mat = cal_pair_in_common(vMap)/10\n",
    "knn_alpha = np.zeros(knn_ind.shape)\n",
    "for i in range(knn_ind.shape[0]):\n",
    "    knn_alpha[i] = alpha_mat[i][knn_ind[i]]\n",
    "#print(knn_alpha)\n",
    "knn_ind[0]*alpha_mat[0][[41,47,46]]\n",
    "\n",
    "clus = EKNNclus.EKNNclus_Th(X, K = 6, D = dist_mat_2, alpha_mat = alpha_mat,ntrials=10, y0 = list(range(X.shape[0])),tr = True)"
   ]
  },
  {
   "cell_type": "code",
   "execution_count": 51,
   "metadata": {
    "collapsed": false,
    "scrolled": true
   },
   "outputs": [
    {
     "data": {
      "text/plain": [
       "array([0, 0, 0, 0, 0, 0, 0, 0, 0, 0, 0, 0, 0, 0, 0, 0, 0, 0, 0, 0, 0, 0, 0,\n",
       "       0, 0, 0, 0, 0, 0, 0, 0, 0, 0, 0, 0, 0, 0, 0, 0, 0, 0, 0, 0, 0, 0, 0,\n",
       "       0, 0, 0, 0, 0, 0, 0, 0, 0, 0, 0, 0, 0, 0, 0, 0, 0, 0, 0, 0, 0, 0, 0,\n",
       "       0, 0, 0, 0, 0, 0, 0, 0, 0, 0, 0, 0, 0, 0, 0, 0, 0, 0, 0, 0, 0, 0, 0,\n",
       "       0, 0, 0, 0, 0, 0, 0, 0, 0, 0, 0, 0, 0, 0, 0, 0, 0, 0, 0, 0, 0, 0, 0,\n",
       "       0, 0, 0, 0, 0, 0, 0, 0, 0, 0, 0, 0, 0, 0, 0, 0, 0, 0, 0, 0, 0, 0, 0,\n",
       "       0, 0, 0, 0, 0, 0, 0, 0, 0, 0, 0, 0, 0, 0, 0, 0, 0, 0, 0, 0, 0, 0, 0,\n",
       "       0, 0, 0, 0, 0, 0, 0, 0, 0, 0, 0, 0, 0, 0, 0, 0, 0, 0, 0, 0, 0, 0, 0,\n",
       "       0, 0, 0, 0, 0, 0, 0, 0, 0, 0, 0, 0, 0, 0, 0, 0, 0, 0, 1, 0, 0, 0, 0,\n",
       "       0, 0, 0, 0, 0, 0, 0, 0, 0, 0, 0, 0, 0, 0, 0, 0, 0, 0, 0, 0, 0, 0, 0,\n",
       "       0, 0, 0, 0, 0, 0, 0, 0, 0, 0, 0, 0, 0, 0, 0, 0, 0, 0, 0, 0, 0, 0, 0,\n",
       "       0, 0, 0, 0, 0, 0, 0, 0, 0, 0, 0, 0, 0, 0, 0, 0, 0, 0, 0, 0, 0, 0, 0,\n",
       "       0, 0, 0, 0, 0, 0, 0, 0, 0, 0, 0, 0, 0, 0, 0, 1, 0, 0, 0, 0, 0, 0, 0,\n",
       "       0, 0, 0, 0, 0, 0, 0, 0, 0, 0, 0, 0, 0, 0, 0, 0, 0, 0, 0, 0, 0, 0, 0,\n",
       "       0, 0, 0, 0, 0, 0, 0, 0, 0])"
      ]
     },
     "execution_count": 51,
     "metadata": {},
     "output_type": "execute_result"
    }
   ],
   "source": [
    "clus"
   ]
  },
  {
   "cell_type": "code",
   "execution_count": 42,
   "metadata": {
    "collapsed": false,
    "scrolled": true
   },
   "outputs": [
    {
     "name": "stderr",
     "output_type": "stream",
     "text": [
      "/home/yzhang/miniconda3/lib/python3.5/site-packages/mpl_toolkits/basemap/__init__.py:1767: MatplotlibDeprecationWarning: The get_axis_bgcolor function was deprecated in version 2.0. Use get_facecolor instead.\n",
      "  axisbgc = ax.get_axis_bgcolor()\n",
      "/home/yzhang/miniconda3/lib/python3.5/site-packages/mpl_toolkits/basemap/__init__.py:3222: MatplotlibDeprecationWarning: The ishold function was deprecated in version 2.0.\n",
      "  b = ax.ishold()\n",
      "/home/yzhang/miniconda3/lib/python3.5/site-packages/mpl_toolkits/basemap/__init__.py:3231: MatplotlibDeprecationWarning: axes.hold is deprecated.\n",
      "    See the API Changes document (http://matplotlib.org/api/api_changes.html)\n",
      "    for more details.\n",
      "  ax.hold(b)\n"
     ]
    }
   ],
   "source": [
    "scatter_on_map(vMap, clus, geo_info)"
   ]
  },
  {
   "cell_type": "code",
   "execution_count": 53,
   "metadata": {
    "collapsed": true
   },
   "outputs": [],
   "source": [
    "from iBelief.distance import JousselmeDistance\n",
    "from iBelief.Dcalculus import Dcalculus\n",
    "import numpy as np"
   ]
  },
  {
   "cell_type": "code",
   "execution_count": 54,
   "metadata": {
    "collapsed": true
   },
   "outputs": [],
   "source": [
    "new_matrix = np.genfromtxt(\"/home/yzhang/ThesisWork/Program/sushiPref/experiment/generatedMass.csv\")\n",
    "new_matrix = new_matrix.T"
   ]
  },
  {
   "cell_type": "code",
   "execution_count": 60,
   "metadata": {
    "collapsed": false
   },
   "outputs": [],
   "source": [
    "D = Dcalculus(16)\n",
    "size = new_matrix.shape[0]\n",
    "generated_mat_distances = np.zeros((size, size))\n",
    "for i in range(size):\n",
    "    for j in range(size):\n",
    "        if j>i:\n",
    "            generated_mat_distances[i][j] = JousselmeDistance(new_matrix[i], new_matrix[j], D)"
   ]
  },
  {
   "cell_type": "code",
   "execution_count": 62,
   "metadata": {
    "collapsed": false
   },
   "outputs": [],
   "source": [
    "generated_mat_distances = generated_mat_distances+generated_mat_distances.T"
   ]
  },
  {
   "cell_type": "code",
   "execution_count": 74,
   "metadata": {
    "collapsed": false,
    "scrolled": true
   },
   "outputs": [
    {
     "name": "stdout",
     "output_type": "stream",
     "text": [
      "0 1 86 20\n",
      "0 2 34 8\n",
      "0 3 11 6\n",
      "0 4 1 5\n",
      "0 5 0 5\n",
      "1 1 91 19\n",
      "1 2 30 6\n",
      "1 3 11 5\n",
      "1 4 2 5\n",
      "1 5 0 5\n",
      "2 1 91 16\n",
      "2 2 25 9\n",
      "2 3 16 6\n",
      "2 4 6 6\n",
      "2 5 2 5\n",
      "2 6 0 5\n",
      "3 1 91 20\n",
      "3 2 29 8\n",
      "3 3 11 6\n",
      "3 4 2 5\n",
      "3 5 0 5\n",
      "4 1 88 22\n",
      "4 2 28 9\n",
      "4 3 18 6\n",
      "4 4 10 5\n",
      "4 5 1 5\n",
      "4 6 0 5\n",
      "5 1 91 18\n",
      "5 2 24 7\n",
      "5 3 10 6\n",
      "5 4 3 5\n",
      "5 5 0 5\n",
      "6 1 90 16\n",
      "6 2 27 7\n",
      "6 3 10 5\n",
      "6 4 3 5\n",
      "6 5 0 5\n",
      "7 1 89 21\n",
      "7 2 32 8\n",
      "7 3 18 6\n",
      "7 4 11 5\n",
      "7 5 8 5\n",
      "7 6 1 5\n",
      "7 7 0 5\n",
      "8 1 90 16\n",
      "8 2 27 10\n",
      "8 3 12 6\n",
      "8 4 7 5\n",
      "8 5 0 5\n",
      "9 1 90 21\n",
      "9 2 25 9\n",
      "9 3 8 7\n",
      "9 4 8 5\n",
      "9 5 0 5\n"
     ]
    }
   ],
   "source": [
    "clus = EKNNclus.EKNNclus_Th(new_matrix, K = 10, D = generated_mat_distances , ntrials=10, y0 = list(range(new_matrix.shape[0])),tr = False)"
   ]
  },
  {
   "cell_type": "code",
   "execution_count": 75,
   "metadata": {
    "collapsed": false,
    "scrolled": true
   },
   "outputs": [
    {
     "data": {
      "text/plain": [
       "array([4, 4, 2, 0, 4, 4, 4, 3, 3, 4, 4, 0, 3, 4, 3, 3, 4, 3, 4, 3, 4, 4, 3,\n",
       "       4, 4, 3, 2, 2, 4, 3, 1, 3, 4, 2, 3, 4, 4, 3, 0, 3, 4, 3, 4, 4, 3, 3,\n",
       "       4, 1, 4, 0, 4, 4, 4, 4, 4, 3, 3, 4, 4, 4, 4, 4, 2, 1, 3, 4, 4, 2, 4,\n",
       "       4, 3, 3, 3, 4, 4, 4, 4, 0, 2, 0, 2, 4, 4, 2, 4, 4, 4, 2, 4, 1, 3, 3,\n",
       "       4, 4, 4, 4, 4, 1, 3, 3])"
      ]
     },
     "execution_count": 75,
     "metadata": {},
     "output_type": "execute_result"
    }
   ],
   "source": [
    "clus"
   ]
  },
  {
   "cell_type": "code",
   "execution_count": 76,
   "metadata": {
    "collapsed": false
   },
   "outputs": [
    {
     "data": {
      "text/plain": [
       "array([[ 0.        ,  0.16150134,  0.        ,  0.54838903,  0.        ,\n",
       "         0.        ,  0.        ,  0.        ,  0.        ,  0.        ,\n",
       "         0.        ,  0.        ,  0.03925239,  0.        ,  0.        ,\n",
       "         0.25085724],\n",
       "       [ 0.        ,  0.20551785,  0.        ,  0.45218105,  0.        ,\n",
       "         0.        ,  0.        ,  0.        ,  0.        ,  0.        ,\n",
       "         0.        ,  0.        ,  0.21811702,  0.        ,  0.        ,\n",
       "         0.12418407],\n",
       "       [ 0.        ,  0.04273179,  0.        ,  0.61592125,  0.        ,\n",
       "         0.        ,  0.        ,  0.        ,  0.        ,  0.        ,\n",
       "         0.        ,  0.        ,  0.        ,  0.00414767,  0.        ,\n",
       "         0.33719929],\n",
       "       [ 0.        ,  0.23229383,  0.        ,  0.48917786,  0.        ,\n",
       "         0.        ,  0.        ,  0.        ,  0.1866832 ,  0.        ,\n",
       "         0.        ,  0.        ,  0.        ,  0.        ,  0.        ,\n",
       "         0.09184511],\n",
       "       [ 0.        ,  0.12746243,  0.        ,  0.56283212,  0.        ,\n",
       "         0.10432931,  0.        ,  0.        ,  0.        ,  0.        ,\n",
       "         0.        ,  0.        ,  0.        ,  0.        ,  0.        ,\n",
       "         0.20537613],\n",
       "       [ 0.        ,  0.03122786,  0.        ,  0.66853581,  0.        ,\n",
       "         0.        ,  0.        ,  0.        ,  0.        ,  0.        ,\n",
       "         0.        ,  0.        ,  0.        ,  0.        ,  0.00264659,\n",
       "         0.29758974]])"
      ]
     },
     "execution_count": 76,
     "metadata": {},
     "output_type": "execute_result"
    }
   ],
   "source": [
    "new_matrix[np.where(clus==0)]"
   ]
  },
  {
   "cell_type": "code",
   "execution_count": 77,
   "metadata": {
    "collapsed": false
   },
   "outputs": [
    {
     "ename": "SyntaxError",
     "evalue": "non-default argument follows default argument (<ipython-input-77-13575a3aaef2>, line 1)",
     "output_type": "error",
     "traceback": [
      "\u001b[0;36m  File \u001b[0;32m\"<ipython-input-77-13575a3aaef2>\"\u001b[0;36m, line \u001b[0;32m1\u001b[0m\n\u001b[0;31m    def silhouette_samples(X, labels, metric='jousselme', distances):#, **kwds):\u001b[0m\n\u001b[0m                          ^\u001b[0m\n\u001b[0;31mSyntaxError\u001b[0m\u001b[0;31m:\u001b[0m non-default argument follows default argument\n"
     ]
    }
   ],
   "source": [
    "def silhouette_samples(X, labels, distances):#, **kwds):\n",
    "    #X, labels = check_X_y(X, labels, accept_sparse=['csc', 'csr'])\n",
    "    le = LabelEncoder()\n",
    "    labels = le.fit_transform(labels)\n",
    "    check_number_of_labels(len(le.classes_), X.shape[0])\n",
    "    #if type(distances) == type(None):\n",
    "    #    distances = JousselmeDistance(X, metric)#, metric=metric, **kwds)\n",
    "    unique_labels = le.classes_\n",
    "    n_samples_per_label = np.bincount(labels, minlength=len(unique_labels))\n",
    "\n",
    "    # For sample i, store the mean distance of the cluster to which\n",
    "    # it belongs in intra_clust_dists[i]\n",
    "    intra_clust_dists = np.zeros(distances.shape[0], dtype=distances.dtype)\n",
    "\n",
    "    # For sample i, store the mean distance of the second closest\n",
    "    # cluster in inter_clust_dists[i]\n",
    "    inter_clust_dists = np.inf + intra_clust_dists\n",
    "\n",
    "    for curr_label in range(len(unique_labels)):\n",
    "\n",
    "        # Find inter_clust_dist for all samples belonging to the same\n",
    "        # label.\n",
    "        mask = labels == curr_label\n",
    "        current_distances = distances[mask]\n",
    "\n",
    "        # Leave out current sample.\n",
    "        n_samples_curr_lab = n_samples_per_label[curr_label] - 1\n",
    "        if n_samples_curr_lab != 0:\n",
    "            intra_clust_dists[mask] = np.sum(\n",
    "                current_distances[:, mask], axis=1) / n_samples_curr_lab\n",
    "\n",
    "        # Now iterate over all other labels, finding the mean\n",
    "        # cluster distance that is closest to every sample.\n",
    "        for other_label in range(len(unique_labels)):\n",
    "            if other_label != curr_label:\n",
    "                other_mask = labels == other_label\n",
    "                other_distances = np.mean(\n",
    "                    current_distances[:, other_mask], axis=1)\n",
    "                inter_clust_dists[mask] = np.minimum(\n",
    "                    inter_clust_dists[mask], other_distances)\n",
    "\n",
    "    sil_samples = inter_clust_dists - intra_clust_dists\n",
    "    sil_samples /= np.maximum(intra_clust_dists, inter_clust_dists)\n",
    "    # score 0 for clusters of size 1, according to the paper\n",
    "    sil_samples[n_samples_per_label.take(labels) == 1] = 0\n",
    "    return sil_samples\n",
    "def silhouette_score(X, labels, metric='euclidean', sample_size=None,\n",
    "                     random_state=None, distances = None, **kwds):\n",
    "    if sample_size is not None:\n",
    "        #X, labels = check_X_y(X, labels, accept_sparse=['csc', 'csr'])\n",
    "        random_state = check_random_state(random_state)\n",
    "        indices = random_state.permutation(X.shape[0])[:sample_size]\n",
    "        if metric == \"precomputed\":\n",
    "            X, labels = X[indices].T[indices].T, labels[indices]\n",
    "        else:\n",
    "            X, labels = X[indices], labels[indices]\n",
    "    return np.mean(silhouette_samples(X, labels, metric=metric, distances = distances,**kwds))\n",
    "\n",
    "\n"
   ]
  }
 ],
 "metadata": {
  "kernelspec": {
   "display_name": "Python 3",
   "language": "python",
   "name": "python3"
  },
  "language_info": {
   "codemirror_mode": {
    "name": "ipython",
    "version": 3
   },
   "file_extension": ".py",
   "mimetype": "text/x-python",
   "name": "python",
   "nbconvert_exporter": "python",
   "pygments_lexer": "ipython3",
   "version": "3.5.2"
  }
 },
 "nbformat": 4,
 "nbformat_minor": 1
}
