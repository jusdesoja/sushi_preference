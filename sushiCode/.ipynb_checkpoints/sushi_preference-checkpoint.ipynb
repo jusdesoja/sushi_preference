{
 "cells": [
  {
   "cell_type": "code",
   "execution_count": 1,
   "metadata": {
    "collapsed": false
   },
   "outputs": [
    {
     "name": "stdout",
     "output_type": "stream",
     "text": [
      "[1546, 1535, 1406, 1457, 1380, 1447, 1412, 1353, 1321, 1244, 1297, 1213, 1194, 1118, 1112, 1077, 1012, 1016, 968, 957, 939, 945, 868, 857, 841, 847, 785, 775, 699, 694, 696, 619, 512, 567, 560, 545, 500, 532, 509, 453, 433, 468, 413, 334, 336, 327, 358, 366, 347, 348, 355, 385, 287, 282, 231, 199, 214, 218, 219, 236, 219, 234, 213, 215, 234, 155, 142, 138, 135, 155, 141, 164, 169, 133, 165, 148, 144, 131, 150, 153, 78, 67, 88, 50, 66, 80, 52, 77, 85, 84, 74, 80, 76, 75, 72, 95, 68, 79, 75, 77]\n",
      "[0, 1, 3, 5, 6, 2, 4, 7, 8, 10, 9, 11, 12, 13, 14, 15, 17, 16]\n",
      "1\n",
      "[3182]\n",
      "[[ 1.   0.   0.   0. ]\n",
      " [ 0.   1.   0.   0.5]\n",
      " [ 0.   0.   1.   0.5]\n",
      " [ 0.   0.5  0.5  1. ]]\n",
      "center:[  1.85037171e-17   4.66666667e-01   2.33333333e-01   3.00000000e-01]\n"
     ]
    }
   ],
   "source": [
    "from read import read_voter_file, read_score_file, read_order_file\n",
    "from tools import all_mass_init, flatten_pref_mass_mat\n",
    "from beliefKMeans import k_means, _k_means_single, silhouette_score\n",
    "\n",
    "import numpy as np"
   ]
  },
  {
   "cell_type": "markdown",
   "metadata": {},
   "source": [
    "Open user information data, set score and order data into it"
   ]
  },
  {
   "cell_type": "code",
   "execution_count": 2,
   "metadata": {
    "collapsed": false
   },
   "outputs": [],
   "source": [
    "vMap = read_voter_file(\"../data/sushi3-2016/sushi3.com30.udata\")\n",
    "read_score_file(\"../data/sushi3-2016/sushi3b.com30.10.score\", vMap)\n",
    "read_order_file(\"../data/sushi3-2016/sushi3b.com30.10.order\", vMap)\n",
    "# candidate list for 40 cand\n",
    "\"\"\"\n",
    "cand_list=[0, 1, 3, 5, 6, 2, 4, 7, 8, 10, \n",
    "           9, 11, 12, 13, 14, 15, 17, 16, \n",
    "           18, 19, 21, 20, 22, 23, 25, 24, \n",
    "           26, 27, 28, 30, 29, 31, 33, 34, \n",
    "           35, 37, 32, 38, 36, 41]\n",
    "#candidate list for 35 cand\n",
    "\n",
    "\"\"\"\n",
    "\"\"\"\n",
    "cand_list=[0, 1, 3, 5, 6, 2, 4, 7, 8, 10, \n",
    "           9, 11, 12, 13, 14, 15, 17, 16, \n",
    "           18, 19, 21, 20, 22, 23, 25, 24, \n",
    "           26, 27, 28, 30, 29, 31, 33, 34, 35]\n",
    "\"\"\"\n",
    "#candidate list for 30 cands\n",
    "\n",
    "cand_list = [0, 1, 3, 5, 6, 2, 4, 7, 8, 10,\n",
    "             9, 11, 12, 13, 14, 15, 17, 16, \n",
    "             18, 19, 21, 20, 22, 23, 25,24, \n",
    "             26, 27, 28, 30,]\n",
    "\n",
    "#cand_list = list(range(100))\n",
    "#n_item = 40\n",
    "n_item = 30\n",
    "#n_item = 100"
   ]
  },
  {
   "cell_type": "code",
   "execution_count": 2,
   "metadata": {
    "collapsed": false
   },
   "outputs": [],
   "source": [
    "vMap = read_voter_file(\"../data/sushi3-2016/artif_inverse_2.udata\")\n",
    "read_score_file(\"../data/sushi3-2016/artif_inverse_2.score\", vMap)\n",
    "read_order_file(\"../data/sushi3-2016/artif_inverse_2.order\", vMap)\n",
    "cand_list=[8, 0, 13, 1, 9, 17, 11, 10, 7, 5]\n",
    "cand_list.sort()\n",
    "n_item = 10"
   ]
  },
  {
   "cell_type": "code",
   "execution_count": 9,
   "metadata": {
    "collapsed": false
   },
   "outputs": [
    {
     "name": "stdout",
     "output_type": "stream",
     "text": [
      "[0, 1, 2, 3, 4, 5, 6, 7, 8, 9, 10, 11, 12, 13, 14, 15, 16, 17, 18, 19, 20, 21, 22, 23, 24, 25, 26, 27, 28, 29, 30, 31, 32, 33, 34, 35, 36, 37, 38, 41]\n"
     ]
    }
   ],
   "source": [
    "cand_list.sort()\n",
    "print(cand_list)"
   ]
  },
  {
   "cell_type": "markdown",
   "metadata": {},
   "source": [
    "Initialize the mass function value"
   ]
  },
  {
   "cell_type": "code",
   "execution_count": 3,
   "metadata": {
    "collapsed": false,
    "scrolled": true
   },
   "outputs": [],
   "source": [
    "n_sample = len(vMap)\n",
    "vector_size = 16\n",
    "n_pref_pair = int(n_item*(n_item-1)/2)\n",
    "X = np.empty((n_sample, n_pref_pair, vector_size),dtype = object)\n"
   ]
  },
  {
   "cell_type": "code",
   "execution_count": 4,
   "metadata": {
    "collapsed": false
   },
   "outputs": [
    {
     "data": {
      "text/plain": [
       "0.0028003454208374023"
      ]
     },
     "execution_count": 4,
     "metadata": {},
     "output_type": "execute_result"
    }
   ],
   "source": [
    "import sys\n",
    "sys.getsizeof(X)/(1024**3)"
   ]
  },
  {
   "cell_type": "code",
   "execution_count": 4,
   "metadata": {
    "collapsed": false
   },
   "outputs": [],
   "source": [
    "for k,v in vMap.items():\n",
    "    X[k] = flatten_pref_mass_mat(all_mass_init(v.get_scores(), v.get_order_b(), cand_list, nbItem = n_item))"
   ]
  },
  {
   "cell_type": "code",
   "execution_count": 5,
   "metadata": {
    "collapsed": false,
    "scrolled": true
   },
   "outputs": [
    {
     "data": {
      "text/plain": [
       "(147, 595, 16)"
      ]
     },
     "execution_count": 5,
     "metadata": {},
     "output_type": "execute_result"
    }
   ],
   "source": [
    "X.shape"
   ]
  },
  {
   "cell_type": "code",
   "execution_count": 5,
   "metadata": {
    "collapsed": false,
    "scrolled": false
   },
   "outputs": [],
   "source": [
    "from beliefDBSCAN import BeliefDBSCAN\n",
    "cluster_model = BeliefDBSCAN(min_samples=5, eps=4)\n",
    "cluster_model.fit(X)"
   ]
  },
  {
   "cell_type": "code",
   "execution_count": 8,
   "metadata": {
    "collapsed": false
   },
   "outputs": [],
   "source": [
    "cluster_model.min_samples=3"
   ]
  },
  {
   "cell_type": "code",
   "execution_count": 9,
   "metadata": {
    "collapsed": false,
    "scrolled": true
   },
   "outputs": [
    {
     "name": "stdout",
     "output_type": "stream",
     "text": [
      "0.1 1 -0.12729714667\n",
      "0.2 1 -0.0951821730729\n",
      "0.3 1 -0.0835147175752\n",
      "0.4 1 -0.0595217068937\n",
      "0.5 1 -0.0510840275979\n",
      "0.6 1 -0.0494494254749\n",
      "0.7 1 -0.0623863361873\n",
      "0.8 1 -0.0377124919593\n",
      "0.9 1 -0.0340431784198\n",
      "1.0 1 -0.0329117414302\n",
      "1.1 1 -0.00891739896448\n",
      "1.2 1 -0.0117300686799\n",
      "1.3 1 -0.013695137522\n",
      "1.4 1 -0.013695137522\n",
      "1.5 1 -0.00214480760205\n",
      "1.6 1 -0.00179739607362\n",
      "1.7 1 -0.0122667860371\n",
      "1.8 1 -0.0157959972704\n",
      "1.9 1 -0.0145735140392\n"
     ]
    }
   ],
   "source": [
    "for eps in np.arange(0.1,2,0.1):\n",
    "    #for minPts in range(1, 6):\n",
    "    cluster_model.eps = eps\n",
    "    #cluster_model.min_samples = minPts\n",
    "    labels=cluster_model.predict(X)\n",
    "    print(eps,minPts, silhouette_score(X,labels, metric = \"conflict\"))"
   ]
  },
  {
   "cell_type": "code",
   "execution_count": 10,
   "metadata": {
    "collapsed": false
   },
   "outputs": [
    {
     "name": "stdout",
     "output_type": "stream",
     "text": [
      "1.0 1 -0.0329117414302\n",
      "1.0 2 -0.0329117414302\n",
      "1.0 3 -0.0329117414302\n",
      "1.0 4 -0.0329117414302\n",
      "1.0 5 -0.0329117414302\n",
      "1.1 1 -0.00891739896448\n",
      "1.1 2 -0.00891739896448\n",
      "1.1 3 -0.00891739896448\n",
      "1.1 4 -0.00891739896448\n",
      "1.1 5 -0.00891739896448\n",
      "1.2 1 -0.0117300686799\n",
      "1.2 2 -0.0117300686799\n",
      "1.2 3 -0.0117300686799\n",
      "1.2 4 -0.0117300686799\n",
      "1.2 5 -0.0117300686799\n",
      "1.3 1 -0.013695137522\n",
      "1.3 2 -0.013695137522\n",
      "1.3 3 -0.013695137522\n",
      "1.3 4 -0.013695137522\n",
      "1.3 5 -0.013695137522\n",
      "1.4 1 -0.013695137522\n",
      "1.4 2 -0.013695137522\n",
      "1.4 3 -0.013695137522\n",
      "1.4 4 -0.013695137522\n",
      "1.4 5 -0.013695137522\n",
      "1.5 1 -0.00214480760205\n",
      "1.5 2 -0.00214480760205\n",
      "1.5 3 -0.00214480760205\n",
      "1.5 4 -0.00214480760205\n",
      "1.5 5 -0.00214480760205\n",
      "1.6 1 -0.00179739607362\n",
      "1.6 2 -0.00179739607362\n",
      "1.6 3 -0.00179739607362\n",
      "1.6 4 -0.00179739607362\n",
      "1.6 5 -0.00179739607362\n",
      "1.7 1 -0.0122667860371\n",
      "1.7 2 -0.0122667860371\n",
      "1.7 3 -0.0122667860371\n",
      "1.7 4 -0.0122667860371\n",
      "1.7 5 -0.0122667860371\n",
      "1.8 1 -0.0157959972704\n",
      "1.8 2 -0.0157959972704\n",
      "1.8 3 -0.0157959972704\n",
      "1.8 4 -0.0157959972704\n",
      "1.8 5 -0.0157959972704\n",
      "1.9 1 -0.0145735140392\n",
      "1.9 2 -0.0145735140392\n",
      "1.9 3 -0.0145735140392\n",
      "1.9 4 -0.0145735140392\n",
      "1.9 5 -0.0145735140392\n"
     ]
    }
   ],
   "source": [
    "# dataset: com30\n",
    "for eps in np.arange(1,2,0.1):\n",
    "    for minPts in range(1, 6):\n",
    "        cluster_model.eps = eps\n",
    "        cluster_model.min_samples = minPts\n",
    "        labels=cluster_model.predict(X)\n",
    "        print(eps,minPts, silhouette_score(X,labels, metric = \"conflict\"))"
   ]
  },
  {
   "cell_type": "code",
   "execution_count": 12,
   "metadata": {
    "collapsed": false
   },
   "outputs": [
    {
     "ename": "KeyboardInterrupt",
     "evalue": "",
     "output_type": "error",
     "traceback": [
      "\u001b[0;31m---------------------------------------------------------------------------\u001b[0m",
      "\u001b[0;31mKeyboardInterrupt\u001b[0m                         Traceback (most recent call last)",
      "\u001b[0;32m<ipython-input-12-73315e14a8df>\u001b[0m in \u001b[0;36m<module>\u001b[0;34m()\u001b[0m\n\u001b[1;32m     18\u001b[0m \u001b[0;32mfrom\u001b[0m \u001b[0mbeliefDBSCAN\u001b[0m \u001b[0;32mimport\u001b[0m \u001b[0mBeliefDBSCAN\u001b[0m\u001b[0;34m\u001b[0m\u001b[0m\n\u001b[1;32m     19\u001b[0m \u001b[0mcluster_model40\u001b[0m \u001b[0;34m=\u001b[0m \u001b[0mBeliefDBSCAN\u001b[0m\u001b[0;34m(\u001b[0m\u001b[0mmin_samples\u001b[0m\u001b[0;34m=\u001b[0m\u001b[0;36m5\u001b[0m\u001b[0;34m,\u001b[0m \u001b[0meps\u001b[0m\u001b[0;34m=\u001b[0m\u001b[0;36m4\u001b[0m\u001b[0;34m)\u001b[0m\u001b[0;34m\u001b[0m\u001b[0m\n\u001b[0;32m---> 20\u001b[0;31m \u001b[0mcluster_model40\u001b[0m\u001b[0;34m.\u001b[0m\u001b[0mfit\u001b[0m\u001b[0;34m(\u001b[0m\u001b[0mX\u001b[0m\u001b[0;34m)\u001b[0m\u001b[0;34m\u001b[0m\u001b[0m\n\u001b[0m\u001b[1;32m     21\u001b[0m \u001b[0;32mfor\u001b[0m \u001b[0meps\u001b[0m \u001b[0;32min\u001b[0m \u001b[0mnp\u001b[0m\u001b[0;34m.\u001b[0m\u001b[0marange\u001b[0m\u001b[0;34m(\u001b[0m\u001b[0;36m1\u001b[0m\u001b[0;34m,\u001b[0m\u001b[0;36m2\u001b[0m\u001b[0;34m,\u001b[0m\u001b[0;36m0.1\u001b[0m\u001b[0;34m)\u001b[0m\u001b[0;34m:\u001b[0m\u001b[0;34m\u001b[0m\u001b[0m\n\u001b[1;32m     22\u001b[0m     \u001b[0;32mfor\u001b[0m \u001b[0mminPts\u001b[0m \u001b[0;32min\u001b[0m \u001b[0mrange\u001b[0m\u001b[0;34m(\u001b[0m\u001b[0;36m1\u001b[0m\u001b[0;34m,\u001b[0m \u001b[0;36m6\u001b[0m\u001b[0;34m)\u001b[0m\u001b[0;34m:\u001b[0m\u001b[0;34m\u001b[0m\u001b[0m\n",
      "\u001b[0;32m/home/yzhang/ThesisWork/Program/sushiPref/sushiCode/sushiCode/beliefDBSCAN.py\u001b[0m in \u001b[0;36mfit\u001b[0;34m(self, X)\u001b[0m\n\u001b[1;32m     54\u001b[0m         \u001b[0mself\u001b[0m\u001b[0;34m.\u001b[0m\u001b[0mmetric\u001b[0m \u001b[0;34m=\u001b[0m \u001b[0mmetric\u001b[0m\u001b[0;34m\u001b[0m\u001b[0m\n\u001b[1;32m     55\u001b[0m     \u001b[0;32mdef\u001b[0m \u001b[0mfit\u001b[0m\u001b[0;34m(\u001b[0m\u001b[0mself\u001b[0m\u001b[0;34m,\u001b[0m \u001b[0mX\u001b[0m\u001b[0;34m)\u001b[0m\u001b[0;34m:\u001b[0m\u001b[0;34m\u001b[0m\u001b[0m\n\u001b[0;32m---> 56\u001b[0;31m         \u001b[0mself\u001b[0m\u001b[0;34m.\u001b[0m\u001b[0mdistance_dic\u001b[0m \u001b[0;34m=\u001b[0m \u001b[0mgen_dist_dic\u001b[0m\u001b[0;34m(\u001b[0m\u001b[0mX\u001b[0m\u001b[0;34m,\u001b[0m \u001b[0mself\u001b[0m\u001b[0;34m.\u001b[0m\u001b[0mmetric\u001b[0m\u001b[0;34m)\u001b[0m\u001b[0;34m\u001b[0m\u001b[0m\n\u001b[0m\u001b[1;32m     57\u001b[0m     \u001b[0;32mdef\u001b[0m \u001b[0mpredict\u001b[0m\u001b[0;34m(\u001b[0m\u001b[0mself\u001b[0m\u001b[0;34m,\u001b[0m \u001b[0mX\u001b[0m\u001b[0;34m)\u001b[0m\u001b[0;34m:\u001b[0m\u001b[0;34m\u001b[0m\u001b[0m\n\u001b[1;32m     58\u001b[0m         \u001b[0;32mif\u001b[0m \u001b[0mhasattr\u001b[0m\u001b[0;34m(\u001b[0m\u001b[0mself\u001b[0m\u001b[0;34m,\u001b[0m \u001b[0;34m'distance_dic'\u001b[0m\u001b[0;34m)\u001b[0m\u001b[0;34m:\u001b[0m\u001b[0;34m\u001b[0m\u001b[0m\n",
      "\u001b[0;32m/home/yzhang/ThesisWork/Program/sushiPref/sushiCode/sushiCode/beliefDBSCAN.py\u001b[0m in \u001b[0;36mgen_dist_dic\u001b[0;34m(X, metric)\u001b[0m\n\u001b[1;32m     43\u001b[0m         \u001b[0;32mif\u001b[0m \u001b[0mlen\u001b[0m\u001b[0;34m(\u001b[0m\u001b[0mset_e\u001b[0m\u001b[0;34m)\u001b[0m \u001b[0;34m==\u001b[0m \u001b[0;36m2\u001b[0m \u001b[0;32mand\u001b[0m \u001b[0mset_e\u001b[0m \u001b[0;32mnot\u001b[0m \u001b[0;32min\u001b[0m \u001b[0mdist_dic\u001b[0m\u001b[0;34m.\u001b[0m\u001b[0mkeys\u001b[0m\u001b[0;34m(\u001b[0m\u001b[0;34m)\u001b[0m\u001b[0;34m:\u001b[0m\u001b[0;34m\u001b[0m\u001b[0m\n\u001b[1;32m     44\u001b[0m             \u001b[0;32mif\u001b[0m \u001b[0mmetric\u001b[0m \u001b[0;34m==\u001b[0m \u001b[0;34m\"conflict\"\u001b[0m\u001b[0;34m:\u001b[0m\u001b[0;34m\u001b[0m\u001b[0m\n\u001b[0;32m---> 45\u001b[0;31m                 \u001b[0mdist_dic\u001b[0m\u001b[0;34m[\u001b[0m\u001b[0mset_e\u001b[0m\u001b[0;34m]\u001b[0m \u001b[0;34m=\u001b[0m \u001b[0m_user_conflict\u001b[0m\u001b[0;34m(\u001b[0m\u001b[0mX\u001b[0m\u001b[0;34m[\u001b[0m\u001b[0me\u001b[0m\u001b[0;34m[\u001b[0m\u001b[0;36m0\u001b[0m\u001b[0;34m]\u001b[0m\u001b[0;34m]\u001b[0m\u001b[0;34m,\u001b[0m \u001b[0mX\u001b[0m\u001b[0;34m[\u001b[0m\u001b[0me\u001b[0m\u001b[0;34m[\u001b[0m\u001b[0;36m1\u001b[0m\u001b[0;34m]\u001b[0m\u001b[0;34m]\u001b[0m\u001b[0;34m)\u001b[0m\u001b[0;34m\u001b[0m\u001b[0m\n\u001b[0m\u001b[1;32m     46\u001b[0m             \u001b[0;32melif\u001b[0m \u001b[0mmetric\u001b[0m \u001b[0;34m==\u001b[0m \u001b[0;34m\"Jousselme\"\u001b[0m\u001b[0;34m:\u001b[0m\u001b[0;34m\u001b[0m\u001b[0m\n\u001b[1;32m     47\u001b[0m                 \u001b[0mdist_dic\u001b[0m\u001b[0;34m[\u001b[0m\u001b[0mset_e\u001b[0m\u001b[0;34m]\u001b[0m \u001b[0;34m=\u001b[0m \u001b[0m_user_Jousselme_distance\u001b[0m\u001b[0;34m(\u001b[0m\u001b[0mX\u001b[0m\u001b[0;34m[\u001b[0m\u001b[0me\u001b[0m\u001b[0;34m[\u001b[0m\u001b[0;36m0\u001b[0m\u001b[0;34m]\u001b[0m\u001b[0;34m]\u001b[0m\u001b[0;34m,\u001b[0m \u001b[0mX\u001b[0m\u001b[0;34m[\u001b[0m\u001b[0me\u001b[0m\u001b[0;34m[\u001b[0m\u001b[0;36m1\u001b[0m\u001b[0;34m]\u001b[0m\u001b[0;34m]\u001b[0m\u001b[0;34m)\u001b[0m\u001b[0;34m\u001b[0m\u001b[0m\n",
      "\u001b[0;32m/home/yzhang/ThesisWork/Program/sushiPref/sushiCode/sushiCode/beliefKMeans.py\u001b[0m in \u001b[0;36m_user_conflict\u001b[0;34m(flat_BFMat1, flat_BFMat2)\u001b[0m\n\u001b[1;32m    145\u001b[0m         \u001b[0mU_conflict\u001b[0m \u001b[0;34m=\u001b[0m \u001b[0;36m0\u001b[0m\u001b[0;34m\u001b[0m\u001b[0m\n\u001b[1;32m    146\u001b[0m         \u001b[0;32mfor\u001b[0m \u001b[0mi\u001b[0m \u001b[0;32min\u001b[0m \u001b[0mrange\u001b[0m\u001b[0;34m(\u001b[0m\u001b[0mC_size\u001b[0m\u001b[0;34m)\u001b[0m\u001b[0;34m:\u001b[0m\u001b[0;34m\u001b[0m\u001b[0m\n\u001b[0;32m--> 147\u001b[0;31m             \u001b[0mU_conflict\u001b[0m \u001b[0;34m=\u001b[0m \u001b[0mU_conflict\u001b[0m \u001b[0;34m+\u001b[0m \u001b[0mconflict\u001b[0m\u001b[0;34m(\u001b[0m\u001b[0mflat_BFMat1\u001b[0m\u001b[0;34m[\u001b[0m\u001b[0mi\u001b[0m\u001b[0;34m]\u001b[0m\u001b[0;34m,\u001b[0m \u001b[0mflat_BFMat2\u001b[0m\u001b[0;34m[\u001b[0m\u001b[0mi\u001b[0m\u001b[0;34m]\u001b[0m\u001b[0;34m,\u001b[0m \u001b[0mD\u001b[0m\u001b[0;34m)\u001b[0m\u001b[0;34m\u001b[0m\u001b[0m\n\u001b[0m\u001b[1;32m    148\u001b[0m         \u001b[0;32mreturn\u001b[0m \u001b[0mU_conflict\u001b[0m\u001b[0;34m\u001b[0m\u001b[0m\n\u001b[1;32m    149\u001b[0m \u001b[0;34m\u001b[0m\u001b[0m\n",
      "\u001b[0;32m/home/yzhang/ThesisWork/Program/sushiPref/sushiCode/sushiCode/iBelief/conflict.py\u001b[0m in \u001b[0;36mconflict\u001b[0;34m(m1, m2, D)\u001b[0m\n\u001b[1;32m     59\u001b[0m         \u001b[0;31m#import pdb; pdb.set_trace()\u001b[0m\u001b[0;34m\u001b[0m\u001b[0;34m\u001b[0m\u001b[0m\n\u001b[1;32m     60\u001b[0m         \u001b[0;32mif\u001b[0m \u001b[0;32mnot\u001b[0m \u001b[0mtype\u001b[0m\u001b[0;34m(\u001b[0m\u001b[0mD\u001b[0m\u001b[0;34m)\u001b[0m \u001b[0;34m==\u001b[0m \u001b[0mstr\u001b[0m\u001b[0;34m:\u001b[0m\u001b[0;34m\u001b[0m\u001b[0m\n\u001b[0;32m---> 61\u001b[0;31m             \u001b[0;32mreturn\u001b[0m \u001b[0;34m(\u001b[0m\u001b[0;36m1\u001b[0m\u001b[0;34m-\u001b[0m\u001b[0minclusionDegree\u001b[0m\u001b[0;34m(\u001b[0m\u001b[0mm1\u001b[0m\u001b[0;34m,\u001b[0m\u001b[0mm2\u001b[0m\u001b[0;34m)\u001b[0m\u001b[0;34m)\u001b[0m \u001b[0;34m*\u001b[0m \u001b[0mJousselmeDistance\u001b[0m\u001b[0;34m(\u001b[0m\u001b[0mm1\u001b[0m\u001b[0;34m,\u001b[0m \u001b[0mm2\u001b[0m\u001b[0;34m,\u001b[0m\u001b[0mD\u001b[0m\u001b[0;34m)\u001b[0m\u001b[0;34m\u001b[0m\u001b[0m\n\u001b[0m\u001b[1;32m     62\u001b[0m         \u001b[0;32melse\u001b[0m\u001b[0;34m:\u001b[0m\u001b[0;34m\u001b[0m\u001b[0m\n\u001b[1;32m     63\u001b[0m             \u001b[0;32mreturn\u001b[0m \u001b[0;34m(\u001b[0m\u001b[0;36m1\u001b[0m\u001b[0;34m-\u001b[0m\u001b[0minclusionDegree\u001b[0m\u001b[0;34m(\u001b[0m\u001b[0mm1\u001b[0m\u001b[0;34m,\u001b[0m\u001b[0mm2\u001b[0m\u001b[0;34m)\u001b[0m\u001b[0;34m)\u001b[0m \u001b[0;34m*\u001b[0m \u001b[0mJousselmeDistance\u001b[0m\u001b[0;34m(\u001b[0m\u001b[0mm1\u001b[0m\u001b[0;34m,\u001b[0m \u001b[0mm2\u001b[0m\u001b[0;34m)\u001b[0m\u001b[0;34m\u001b[0m\u001b[0m\n",
      "\u001b[0;32m/home/yzhang/ThesisWork/Program/sushiPref/sushiCode/sushiCode/iBelief/conflict.py\u001b[0m in \u001b[0;36minclusionDegree\u001b[0;34m(m1, m2, type)\u001b[0m\n\u001b[1;32m     49\u001b[0m     \u001b[0;32mif\u001b[0m \u001b[0mm1\u001b[0m\u001b[0;34m.\u001b[0m\u001b[0msize\u001b[0m \u001b[0;34m==\u001b[0m \u001b[0mm2\u001b[0m\u001b[0;34m.\u001b[0m\u001b[0msize\u001b[0m\u001b[0;34m:\u001b[0m\u001b[0;34m\u001b[0m\u001b[0m\n\u001b[1;32m     50\u001b[0m         \u001b[0;32mif\u001b[0m \u001b[0mtype\u001b[0m \u001b[0;34m==\u001b[0m \u001b[0;34m'S'\u001b[0m\u001b[0;34m:\u001b[0m\u001b[0;34m\u001b[0m\u001b[0m\n\u001b[0;32m---> 51\u001b[0;31m             \u001b[0;32mreturn\u001b[0m \u001b[0mmax\u001b[0m\u001b[0;34m(\u001b[0m\u001b[0md_incS\u001b[0m\u001b[0;34m(\u001b[0m\u001b[0mm1\u001b[0m\u001b[0;34m,\u001b[0m\u001b[0mm2\u001b[0m\u001b[0;34m)\u001b[0m\u001b[0;34m,\u001b[0m \u001b[0md_incS\u001b[0m\u001b[0;34m(\u001b[0m\u001b[0mm2\u001b[0m\u001b[0;34m,\u001b[0m\u001b[0mm1\u001b[0m\u001b[0;34m)\u001b[0m\u001b[0;34m)\u001b[0m\u001b[0;34m\u001b[0m\u001b[0m\n\u001b[0m\u001b[1;32m     52\u001b[0m         \u001b[0;32melse\u001b[0m\u001b[0;34m:\u001b[0m\u001b[0;34m\u001b[0m\u001b[0m\n\u001b[1;32m     53\u001b[0m             \u001b[0;32mreturn\u001b[0m \u001b[0mmax\u001b[0m\u001b[0;34m(\u001b[0m\u001b[0md_incL\u001b[0m\u001b[0;34m(\u001b[0m\u001b[0mm1\u001b[0m\u001b[0;34m,\u001b[0m\u001b[0mm2\u001b[0m\u001b[0;34m)\u001b[0m\u001b[0;34m,\u001b[0m \u001b[0md_incL\u001b[0m\u001b[0;34m(\u001b[0m\u001b[0mm2\u001b[0m\u001b[0;34m,\u001b[0m\u001b[0mm1\u001b[0m\u001b[0;34m)\u001b[0m\u001b[0;34m)\u001b[0m\u001b[0;34m\u001b[0m\u001b[0m\n",
      "\u001b[0;32m/home/yzhang/ThesisWork/Program/sushiPref/sushiCode/sushiCode/iBelief/conflict.py\u001b[0m in \u001b[0;36md_incS\u001b[0;34m(m1, m2)\u001b[0m\n\u001b[1;32m     21\u001b[0m         \u001b[0;32mfor\u001b[0m \u001b[0mF1\u001b[0m \u001b[0;32min\u001b[0m \u001b[0mfocElem1\u001b[0m\u001b[0;34m:\u001b[0m\u001b[0;34m\u001b[0m\u001b[0m\n\u001b[1;32m     22\u001b[0m             \u001b[0;32mfor\u001b[0m \u001b[0mF2\u001b[0m \u001b[0;32min\u001b[0m \u001b[0mfocElem2\u001b[0m\u001b[0;34m:\u001b[0m\u001b[0;34m\u001b[0m\u001b[0m\n\u001b[0;32m---> 23\u001b[0;31m                 \u001b[0;32mif\u001b[0m \u001b[0minclusion\u001b[0m\u001b[0;34m(\u001b[0m\u001b[0mF1\u001b[0m\u001b[0;34m,\u001b[0m \u001b[0mF2\u001b[0m\u001b[0;34m,\u001b[0m \u001b[0msizeDS\u001b[0m\u001b[0;34m)\u001b[0m\u001b[0;34m:\u001b[0m\u001b[0;34m\u001b[0m\u001b[0m\n\u001b[0m\u001b[1;32m     24\u001b[0m                     \u001b[0md12\u001b[0m \u001b[0;34m+=\u001b[0m \u001b[0;36m1\u001b[0m\u001b[0;34m\u001b[0m\u001b[0m\n\u001b[1;32m     25\u001b[0m         \u001b[0;32mreturn\u001b[0m \u001b[0md12\u001b[0m \u001b[0;34m/\u001b[0m \u001b[0;34m(\u001b[0m\u001b[0mnbFoc1\u001b[0m\u001b[0;34m*\u001b[0m\u001b[0mnbFoc2\u001b[0m\u001b[0;34m)\u001b[0m\u001b[0;34m\u001b[0m\u001b[0m\n",
      "\u001b[0;32m/home/yzhang/ThesisWork/Program/sushiPref/sushiCode/sushiCode/iBelief/conflict.py\u001b[0m in \u001b[0;36minclusion\u001b[0;34m(F1, F2, sizeDS)\u001b[0m\n\u001b[1;32m      7\u001b[0m \u001b[0;34m\u001b[0m\u001b[0m\n\u001b[1;32m      8\u001b[0m \u001b[0;32mdef\u001b[0m \u001b[0minclusion\u001b[0m\u001b[0;34m(\u001b[0m\u001b[0mF1\u001b[0m\u001b[0;34m,\u001b[0m \u001b[0mF2\u001b[0m\u001b[0;34m,\u001b[0m \u001b[0msizeDS\u001b[0m\u001b[0;34m)\u001b[0m\u001b[0;34m:\u001b[0m\u001b[0;34m\u001b[0m\u001b[0m\n\u001b[0;32m----> 9\u001b[0;31m     \u001b[0;32mreturn\u001b[0m \u001b[0mnp\u001b[0m\u001b[0;34m.\u001b[0m\u001b[0msum\u001b[0m\u001b[0;34m(\u001b[0m\u001b[0mnp\u001b[0m\u001b[0;34m.\u001b[0m\u001b[0mequal\u001b[0m\u001b[0;34m(\u001b[0m\u001b[0mnp\u001b[0m\u001b[0;34m.\u001b[0m\u001b[0marray\u001b[0m\u001b[0;34m(\u001b[0m\u001b[0mlist\u001b[0m\u001b[0;34m(\u001b[0m\u001b[0mnp\u001b[0m\u001b[0;34m.\u001b[0m\u001b[0mbinary_repr\u001b[0m\u001b[0;34m(\u001b[0m\u001b[0mnp\u001b[0m\u001b[0;34m.\u001b[0m\u001b[0mbitwise_and\u001b[0m\u001b[0;34m(\u001b[0m\u001b[0mF1\u001b[0m\u001b[0;34m,\u001b[0m\u001b[0mF2\u001b[0m\u001b[0;34m)\u001b[0m\u001b[0;34m,\u001b[0m\u001b[0msizeDS\u001b[0m\u001b[0;34m)\u001b[0m\u001b[0;34m)\u001b[0m\u001b[0;34m)\u001b[0m\u001b[0;34m.\u001b[0m\u001b[0mastype\u001b[0m\u001b[0;34m(\u001b[0m\u001b[0mint\u001b[0m\u001b[0;34m)\u001b[0m\u001b[0;34m,\u001b[0m \u001b[0mnp\u001b[0m\u001b[0;34m.\u001b[0m\u001b[0marray\u001b[0m\u001b[0;34m(\u001b[0m\u001b[0mlist\u001b[0m\u001b[0;34m(\u001b[0m\u001b[0mnp\u001b[0m\u001b[0;34m.\u001b[0m\u001b[0mbinary_repr\u001b[0m\u001b[0;34m(\u001b[0m\u001b[0mF1\u001b[0m\u001b[0;34m,\u001b[0m\u001b[0msizeDS\u001b[0m\u001b[0;34m)\u001b[0m\u001b[0;34m)\u001b[0m\u001b[0;34m)\u001b[0m\u001b[0;34m.\u001b[0m\u001b[0mastype\u001b[0m\u001b[0;34m(\u001b[0m\u001b[0mint\u001b[0m\u001b[0;34m)\u001b[0m\u001b[0;34m)\u001b[0m\u001b[0;34m)\u001b[0m\u001b[0;34m==\u001b[0m\u001b[0msizeDS\u001b[0m\u001b[0;34m\u001b[0m\u001b[0m\n\u001b[0m\u001b[1;32m     10\u001b[0m \u001b[0;34m\u001b[0m\u001b[0m\n\u001b[1;32m     11\u001b[0m \u001b[0;34m\u001b[0m\u001b[0m\n",
      "\u001b[0;31mKeyboardInterrupt\u001b[0m: "
     ]
    }
   ],
   "source": [
    "#dataset com40\n",
    "vMap = read_voter_file(\"../data/sushi3-2016/sushi3.com40.udata\")\n",
    "read_score_file(\"../data/sushi3-2016/sushi3b.com40.10.score\", vMap)\n",
    "read_order_file(\"../data/sushi3-2016/sushi3b.com40.10.order\", vMap)\n",
    "cand_list=[0, 1, 3, 5, 6, 2, 4, 7, 8, 10, \n",
    "           9, 11, 12, 13, 14, 15, 17, 16, \n",
    "           18, 19, 21, 20, 22, 23, 25, 24, \n",
    "           26, 27, 28, 30, 29, 31, 33, 34, \n",
    "           35, 37, 32, 38, 36, 41]\n",
    "n_item = 40\n",
    "n_sample = len(vMap)\n",
    "vector_size = 16\n",
    "n_pref_pair = int(n_item*(n_item-1)/2)\n",
    "X = np.empty((n_sample, n_pref_pair, vector_size),dtype = object)\n",
    "for k,v in vMap.items():\n",
    "    X[k] = flatten_pref_mass_mat(all_mass_init(v.get_scores(), v.get_order_b(), cand_list, nbItem = n_item))\n",
    "    \n",
    "from beliefDBSCAN import BeliefDBSCAN\n",
    "cluster_model40 = BeliefDBSCAN(min_samples=5, eps=4)\n",
    "cluster_model40.fit(X)\n",
    "print(\"model fitted\")\n",
    "for eps in np.arange(1,2,0.1):\n",
    "    for minPts in range(1, 6):\n",
    "        cluster_model40.eps = eps\n",
    "        cluster_model40.min_samples = minPts\n",
    "        labels=cluster_model40.predict(X)\n",
    "        print(eps,minPts, silhouette_score(X,labels, metric = \"conflict\", distances = cluster_model40.distances))"
   ]
  },
  {
   "cell_type": "code",
   "execution_count": 11,
   "metadata": {
    "collapsed": false
   },
   "outputs": [
    {
     "data": {
      "text/plain": [
       "-0.051084027597869723"
      ]
     },
     "execution_count": 11,
     "metadata": {},
     "output_type": "execute_result"
    }
   ],
   "source": [
    "silhouette_score(X,labels)"
   ]
  },
  {
   "cell_type": "code",
   "execution_count": 7,
   "metadata": {
    "collapsed": false,
    "scrolled": true
   },
   "outputs": [
    {
     "name": "stdout",
     "output_type": "stream",
     "text": [
      "centers initialized, shape:(2, 595, 16)\n",
      "Initialization complete\n",
      "E step:\n",
      "labels after step E: [1 0 1 1 1 1 0 1 0 0 0 1 1 1 0 1 1 1 1 0 0 1 0 0 0 0 1 1 0 1 1 1 0 1 0 0 1\n",
      " 0 0 0 1 1 1 1 0 1 1 1 1 0 0 0 1 0 1 0 0 0 0 0 0 0 0 1 0 1 1 1 1 0 0 0 0 0\n",
      " 0 0 1 1 0 0 1 0 0 1 1 0 0 1 1 0 1 1 1 1 1 0 1 0 0 0 0 1 1 1 1 0 1 1 1 0 1\n",
      " 0 0 0 0 0 0 1 0 0 0 1 0 0 0 1 1 1 0 0 1 1 1 1 1 1 1 0 0 0 0 1 1 1 1 0 1]\n",
      "M step:\n",
      "[73 74]\n",
      "new center for 0 calculated\n",
      "new center for 1 calculated\n",
      "Iteration  0, inertia 65.142 \n",
      "Best inertia: None\n",
      "best result updated\n",
      "E step:\n",
      "labels after step E: [1 0 1 1 1 1 0 1 0 0 0 0 1 1 0 1 1 1 1 0 0 1 0 0 0 0 1 1 0 1 1 1 0 1 0 0 1\n",
      " 0 0 0 1 1 1 1 0 1 1 1 1 0 0 0 0 0 1 0 0 0 0 0 0 0 0 0 0 1 1 1 1 0 0 0 0 0\n",
      " 0 0 1 1 0 0 1 0 0 1 1 0 0 1 1 1 1 1 1 1 1 0 1 0 0 0 0 0 1 0 0 0 1 1 1 1 1\n",
      " 0 0 0 0 0 0 1 0 0 0 1 0 0 0 1 1 1 0 0 1 1 1 1 1 1 1 0 0 0 0 1 1 1 1 0 1]\n",
      "M step:\n",
      "[77 70]\n",
      "new center for 0 calculated\n",
      "new center for 1 calculated\n",
      "Iteration  1, inertia 66.097 \n",
      "Best inertia: 65.1416665804\n",
      "E step:\n",
      "labels after step E: [1 0 1 1 1 1 0 0 0 0 0 0 1 1 0 1 1 1 1 0 0 1 0 0 0 0 1 1 0 1 1 1 0 1 0 0 1\n",
      " 0 0 0 1 0 1 1 0 1 1 1 0 0 0 0 0 0 1 0 0 0 0 0 0 0 0 0 0 1 1 1 1 0 0 0 0 0\n",
      " 0 0 1 1 0 0 1 0 0 1 1 0 0 1 1 1 1 1 1 1 0 0 1 0 0 0 0 0 1 0 0 0 1 1 1 1 1\n",
      " 0 0 0 0 0 0 1 0 0 0 1 0 0 0 1 1 1 0 0 1 1 1 1 1 1 1 1 0 0 0 0 1 1 1 0 1]\n",
      "M step:\n",
      "[81 66]\n",
      "new center for 0 calculated\n",
      "new center for 1 calculated\n",
      "Iteration  2, inertia 65.937 \n",
      "Best inertia: 65.1416665804\n",
      "E step:\n",
      "labels after step E: [1 0 1 1 1 1 0 0 0 0 0 0 1 1 0 1 1 1 1 0 0 1 1 0 0 0 1 1 0 1 1 1 0 1 0 0 1\n",
      " 0 0 0 1 0 1 1 0 1 1 1 0 0 0 0 0 0 1 0 0 0 0 0 0 0 0 0 0 1 1 1 1 1 1 0 0 0\n",
      " 0 0 1 1 0 0 1 0 0 1 1 0 0 1 1 1 1 1 1 1 0 0 1 0 0 0 0 0 1 0 0 0 1 1 1 1 1\n",
      " 0 0 0 0 0 0 1 0 0 0 1 0 0 0 1 1 1 0 0 1 1 1 1 1 1 1 1 0 0 0 0 1 1 1 0 1]\n",
      "M step:\n",
      "[78 69]\n",
      "new center for 0 calculated\n",
      "new center for 1 calculated\n",
      "Iteration  3, inertia 65.854 \n",
      "Best inertia: 65.1416665804\n",
      "E step:\n",
      "labels after step E: [1 0 1 1 1 1 0 0 0 0 0 0 1 1 0 1 1 1 1 0 0 1 1 0 0 0 1 1 0 1 1 1 0 1 0 0 1\n",
      " 0 0 0 1 0 1 1 0 1 1 1 0 0 0 0 0 0 1 0 0 0 0 0 0 0 0 0 0 1 1 1 1 1 1 0 0 0\n",
      " 0 0 1 1 0 0 1 0 0 1 1 0 0 1 1 1 1 1 1 1 0 0 1 0 0 0 0 0 1 0 0 0 1 1 1 1 1\n",
      " 0 0 0 0 0 0 1 0 0 0 1 0 0 0 1 1 1 0 0 1 1 1 1 1 1 1 1 0 0 0 0 1 1 1 0 1]\n",
      "M step:\n",
      "[78 69]\n",
      "new center for 0 calculated\n",
      "new center for 1 calculated\n",
      "Iteration  4, inertia 65.806 \n",
      "Best inertia: 65.1416665804\n",
      "Converged at iteration 4: center shift 0.000000e+00 within tolerance 1.000000e-03\n"
     ]
    }
   ],
   "source": [
    "labels, inertia, centers, distances, iterNb = _k_means_single(X, 2, init='k_means',max_iter = 20, verbose = True)\n",
    "#centers, labels, inertia, distances, iterNb = k_means(X, 2,n_init=5, verbose=True, return_n_iter=True)"
   ]
  },
  {
   "cell_type": "code",
   "execution_count": 27,
   "metadata": {
    "collapsed": false
   },
   "outputs": [
    {
     "data": {
      "text/plain": [
       "array([1, 0, 1, 0, 1, 0, 1, 0, 0, 0, 0, 0], dtype=int32)"
      ]
     },
     "execution_count": 27,
     "metadata": {},
     "output_type": "execute_result"
    }
   ],
   "source": [
    "labels"
   ]
  },
  {
   "cell_type": "code",
   "execution_count": 15,
   "metadata": {
    "collapsed": false
   },
   "outputs": [
    {
     "data": {
      "text/plain": [
       "array([2, 2])"
      ]
     },
     "execution_count": 15,
     "metadata": {},
     "output_type": "execute_result"
    }
   ],
   "source": [
    "np.bincount(labels, minlength=2)"
   ]
  },
  {
   "cell_type": "code",
   "execution_count": 16,
   "metadata": {
    "collapsed": false
   },
   "outputs": [
    {
     "data": {
      "text/plain": [
       "0.0"
      ]
     },
     "execution_count": 16,
     "metadata": {},
     "output_type": "execute_result"
    }
   ],
   "source": [
    "inertia"
   ]
  },
  {
   "cell_type": "code",
   "execution_count": 10,
   "metadata": {
    "collapsed": false
   },
   "outputs": [
    {
     "data": {
      "text/plain": [
       "array([[[4.08903414923675e-18, 0.03559006211180057, 0.03613354037267074,\n",
       "         ..., -1.9345636204093318e-15, 8.881784197001239e-17,\n",
       "         0.912204968944101],\n",
       "        [-1.9694391045528367e-18, 0.0456366459627337, 0.04472049689441075,\n",
       "         ..., 3.423650252187823e-15, 4.08562073062057e-15,\n",
       "         0.8817391304347761],\n",
       "        [-2.1380412968018938e-18, 0.09032608695652238,\n",
       "         0.027468944099379836, ..., 3.6706748751669214e-15,\n",
       "         6.30606677987088e-15, 0.8716149068322897],\n",
       "        ..., \n",
       "        [1.0915526591644531e-17, 0.005869565217391327,\n",
       "         0.005341614906832341, ..., 2.386979502944088e-16,\n",
       "         8.8817841970012395e-16, 0.9887888198757764],\n",
       "        [2.2025514607477978e-17, 1.5462492682164045e-16,\n",
       "         0.01074534161490708, ..., 1.4488410471358282e-15,\n",
       "         2.3980817331903347e-15, 0.9892546583850903],\n",
       "        [5.916456789157588e-32, -2.442689856871144e-16,\n",
       "         -3.097886495062221e-17, ..., -8.743006318923093e-16, 0.0,\n",
       "         1.000000000000001]],\n",
       "\n",
       "       [[-8.266100222609825e-18, 0.061852941176470104,\n",
       "         0.055102941176470084, ..., -5.412337245047645e-17,\n",
       "         -2.664535259100372e-16, 0.8369705882352944],\n",
       "        [-1.3832889082554005e-17, 0.0718382352941177, 0.05877941176470611,\n",
       "         ..., 1.5487611193520917e-15, 1.598721155460223e-15,\n",
       "         0.8360294117647038],\n",
       "        [-1.841811017425602e-17, 0.050455882352941364, 0.03245588235294158,\n",
       "         ..., 2.5410229476108246e-15, 2.7533531010703844e-15,\n",
       "         0.8940294117647022],\n",
       "        ..., \n",
       "        [-9.061379098029399e-20, -1.2408098775686076e-16,\n",
       "         0.005441176470588205, ..., -1.0144662887512357e-15,\n",
       "         -9.769962616701365e-16, 0.994558823529415],\n",
       "        [-5.729893683708711e-18, 0.005529411764705352,\n",
       "         0.0026029411764705132, ..., -1.8138268664813466e-15,\n",
       "         -1.7763568394002479e-16, 0.9892647058823548],\n",
       "        [-1.7081924110500846e-17, 0.008029411764705601,\n",
       "         0.010264705882352771, ..., -2.3023249973164157e-15,\n",
       "         -1.8651746813702603e-15, 0.9742647058823564]]], dtype=object)"
      ]
     },
     "execution_count": 10,
     "metadata": {},
     "output_type": "execute_result"
    }
   ],
   "source": [
    "centers"
   ]
  },
  {
   "cell_type": "code",
   "execution_count": 8,
   "metadata": {
    "collapsed": false
   },
   "outputs": [
    {
     "data": {
      "text/plain": [
       "0.0092941482192552029"
      ]
     },
     "execution_count": 8,
     "metadata": {},
     "output_type": "execute_result"
    }
   ],
   "source": [
    "from beliefKMeans import _inter_intra_inertia, _ratio_inter_intra_inertia\n",
    "_inter_intra_inertia(centers, labels, distances)\n",
    "_ratio_inter_intra_inertia(centers, labels, distances)"
   ]
  },
  {
   "cell_type": "code",
   "execution_count": 25,
   "metadata": {
    "collapsed": false
   },
   "outputs": [
    {
     "name": "stderr",
     "output_type": "stream",
     "text": [
      "/home/yzhang/ThesisWork/Program/sushiPref/sushiCode/sushiCode/iBelief/distance.py:18: FutureWarning: comparison to `None` will result in an elementwise object comparison in the future.\n",
      "  if D== None:\n"
     ]
    },
    {
     "data": {
      "text/plain": [
       "0.021218149852089679"
      ]
     },
     "execution_count": 25,
     "metadata": {},
     "output_type": "execute_result"
    }
   ],
   "source": [
    "silhouette_score(X,labels)"
   ]
  }
 ],
 "metadata": {
  "kernelspec": {
   "display_name": "Python 3",
   "language": "python",
   "name": "python3"
  },
  "language_info": {
   "codemirror_mode": {
    "name": "ipython",
    "version": 3
   },
   "file_extension": ".py",
   "mimetype": "text/x-python",
   "name": "python",
   "nbconvert_exporter": "python",
   "pygments_lexer": "ipython3",
   "version": "3.5.2"
  }
 },
 "nbformat": 4,
 "nbformat_minor": 1
}
